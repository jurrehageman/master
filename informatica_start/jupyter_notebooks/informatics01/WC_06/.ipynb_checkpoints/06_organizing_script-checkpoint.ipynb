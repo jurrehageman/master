{
 "cells": [
  {
   "cell_type": "markdown",
   "metadata": {},
   "source": [
    "# BioInformatics exercises for python (Informatics I)\n",
    "##### Organizing a script"
   ]
  },
  {
   "cell_type": "markdown",
   "metadata": {},
   "source": [
    "## Introduction"
   ]
  },
  {
   "cell_type": "markdown",
   "metadata": {},
   "source": [
    "Author: Jurre Hageman <br>\n",
    "Date: 2017-10-10"
   ]
  },
  {
   "cell_type": "markdown",
   "metadata": {},
   "source": [
    "This lesson is about organizing a script.\n",
    "We will cover the organization of a script.\n",
    "\n",
    "For this lesson we will write a simple program that can cut DNA by a restriction enzyme. Restriction enzymes are proteins that can cleave DNA at very specific sites. The restriction enzyme EcoRI cuts the sequence G|AATTC. It will search for the sequence GAATTC and cut between the G and the A.\n",
    "\n",
    "Some examples of restriction enzymes and their recocnition sites:\n",
    "<br>\n",
    "<table style=\"width:50%\">\n",
    "  <tr>\n",
    "    <th>Enzyme</th>\n",
    "    <th>Sequence</th> \n",
    "  </tr>\n",
    "  <tr>\n",
    "    <td>EcoR1</td>\n",
    "    <td>G|AATTC</td> \n",
    "  </tr>\n",
    "  <tr>\n",
    "    <td>BamHI</td>\n",
    "    <td>G|GATTCC</td> \n",
    "  </tr>\n",
    "  <tr>\n",
    "    <td>HindIII</td>\n",
    "    <td>A|AGCTT</td> \n",
    "  </tr>\n",
    "</table>\n",
    "<br>\n",
    "It will be your task to write a program that looks if a dna fragment contains a restriction site. \n",
    "Also write a function that will return the fragment sizes. \n",
    "For instance:\n",
    "The sequence CCCGAATTCTTA has an EcoR1 site.\n",
    "The fragment lengths after cutting with EcoR1 are 4 and 8 bp.\n",
    "\n",
    "Important note: for simplicity, we will not deal with multiple occurances of the same site.\n",
    "The sequence CCCGAATTCTTAGAATTCGGA has two EcoR1 sites. In reality, it will cut the DNA in 3 fragments. We will only deal with the first occurence of the site."
   ]
  },
  {
   "cell_type": "markdown",
   "metadata": {},
   "source": [
    "Let's (again) first make a list of what our program should do:\n",
    "- it should accept a dna sequence and a restriction site as command-line argument.\n",
    "- it should contain a function has_restriction_site that returns a boolean.\n",
    "- it should contain a function that returns a tuple with the fragment lengths\n",
    "- write a main function that will accept the command-line arguments and calls the other two functions\n",
    "- write a pretty_print function that nicely prints the results."
   ]
  },
  {
   "cell_type": "markdown",
   "metadata": {},
   "source": [
    "## Organization of a script"
   ]
  },
  {
   "cell_type": "raw",
   "metadata": {},
   "source": [
    "Let's first recall how to organize a script. In the cell below, you can find a template."
   ]
  },
  {
   "cell_type": "code",
   "execution_count": 1,
   "metadata": {},
   "outputs": [],
   "source": [
    "#!/usr/bin/env python3\n",
    "#template for script:\n",
    "\n",
    "#imports\n",
    "import sys\n",
    "\n",
    "#global variables\n",
    "\n",
    "\n",
    "def function_1(params):\n",
    "    #Describe what this function will do\n",
    "    pass\n",
    "\n",
    "\n",
    "def function_2(params):\n",
    "    #Describe what this function will do\n",
    "    pass\n",
    "\n",
    "\n",
    "def pretty_print(params):\n",
    "    #prints the results to the terminal\n",
    "    pass\n",
    "\n",
    "\n",
    "def main():\n",
    "    #main function:\n",
    "    #catch command line arguments\n",
    "    args = sys.argv\n",
    "    #check if file names are given\n",
    "    if len(args) < 2:\n",
    "        print(\"please provide a sequence\")\n",
    "        print(\"Program stopping...\")\n",
    "        sys.exit()\n",
    "    input_sequence = args[1]\n",
    "    \n",
    "    #call functions\n",
    "    function_1(args)\n",
    "    function_2(args)\n",
    "    pretty_print(args)\n",
    "    return\n",
    "    \n",
    "#call the main function\n",
    "main()"
   ]
  },
  {
   "cell_type": "raw",
   "metadata": {},
   "source": [
    "Above is the standard organization of the script. It is important to call the main after the main function is declared. Otherwise, you will get an error: "
   ]
  },
  {
   "cell_type": "code",
   "execution_count": 2,
   "metadata": {},
   "outputs": [],
   "source": [
    "main()\n",
    "\n",
    "def main():\n",
    "    print(\"main running\")"
   ]
  },
  {
   "cell_type": "markdown",
   "metadata": {},
   "source": [
    "Running the above script would cause the error: \n",
    "NameError: name 'main' is not defined.\n",
    "In Python, functions are not hoisted.\n",
    "This means that at first, no code is run. The interpreter will first parse the syntax and than tie functions to function names.\n",
    "Therefore you need to call the function AFTER you have declared it:"
   ]
  },
  {
   "cell_type": "code",
   "execution_count": 3,
   "metadata": {},
   "outputs": [
    {
     "name": "stdout",
     "output_type": "stream",
     "text": [
      "main running\n"
     ]
    }
   ],
   "source": [
    "def main():\n",
    "    print(\"main running\")\n",
    "\n",
    "main()"
   ]
  },
  {
   "cell_type": "markdown",
   "metadata": {},
   "source": [
    "Because the interpreter will first parse the syntax and next ties the function to function names, the code below is valid:"
   ]
  },
  {
   "cell_type": "code",
   "execution_count": 4,
   "metadata": {},
   "outputs": [
    {
     "name": "stdout",
     "output_type": "stream",
     "text": [
      "main running\n",
      "running function_1\n",
      "running function_2\n"
     ]
    }
   ],
   "source": [
    "def function_1():\n",
    "    print(\"running function_1\")\n",
    "    function_2()\n",
    "\n",
    "\n",
    "def function_2():\n",
    "    print(\"running function_2\")\n",
    "\n",
    "\n",
    "def main():\n",
    "    print(\"main running\")\n",
    "    function_1()\n",
    "\n",
    "\n",
    "main()"
   ]
  },
  {
   "cell_type": "markdown",
   "metadata": {},
   "source": [
    "Note that function2 is called in function1. Function2 is declared after function1. \n",
    "To simplify:\n",
    "- Remember to call functions AFTER the function definition.\n",
    "- Within functions, you can call any other function, even if the definition of that function is below the function call."
   ]
  },
  {
   "cell_type": "markdown",
   "metadata": {},
   "source": [
    "## Excercise: Generate a virtual DNA cutter."
   ]
  },
  {
   "cell_type": "markdown",
   "metadata": {
    "collapsed": true
   },
   "source": [
    "Now we come to the final excersise: <br>\n",
    "Let's recall what the program should do: <br>\n",
    "- it should accept a dna sequence and a restriction site (ecor1, bamh1 or hind3) as command-line argument.\n",
    "- it should contain a function has_restriction_site that returns a boolean.\n",
    "- it should contain a function get_fragments that returns a tuple with the fragment lengths\n",
    "- write a main function that will accept the command-line arguments and calls the other two functions\n",
    "- write a pretty_print function that nicely prints the results."
   ]
  },
  {
   "cell_type": "markdown",
   "metadata": {},
   "source": [
    "Use the template below to write the script."
   ]
  },
  {
   "cell_type": "code",
   "execution_count": 5,
   "metadata": {},
   "outputs": [],
   "source": [
    "#!/usr/bin/env python3\n",
    "#template for script:\n",
    "\n",
    "#imports\n",
    "import sys\n",
    "\n",
    "#global variables\n",
    "\n",
    "\n",
    "def has_restriction_site(params):\n",
    "    #Describe what this function will do\n",
    "    pass\n",
    "\n",
    "\n",
    "def get_fragments(params):\n",
    "    #Describe what this function will do\n",
    "    pass\n",
    "\n",
    "\n",
    "def pretty_print(params):\n",
    "    #prints the results to the terminal\n",
    "    pass\n",
    "\n",
    "\n",
    "def main():\n",
    "    #main function:\n",
    "    #catch command line arguments\n",
    "    args = sys.argv\n",
    "    #check if file names are given\n",
    "    if len(args) < 3:\n",
    "        print(\"please provide a sequence followed by an enzyme (bamh1, ecor1, hind3)\")\n",
    "        print(\"Program stopping...\")\n",
    "        sys.exit()\n",
    "    input_sequence = args[1]\n",
    "    enzyme = args[2]\n",
    "    \n",
    "    #call functions\n",
    "    site_present = has_restriction_site(args)\n",
    "    fragments = None\n",
    "    if site_present:\n",
    "        fragments = get_fragments(args)\n",
    "    pretty_print(args)\n",
    "    return\n",
    "    \n",
    "#call the main function\n",
    "main()"
   ]
  },
  {
   "cell_type": "markdown",
   "metadata": {},
   "source": [
    "Example output:<br>\n",
    "Sequence: CCCCGAATTCAGGAGAGAG <br>\n",
    "Enzyme ECOR1 creates fragments of: <br>\n",
    "5 bp <br>\n",
    "14 bp <br>"
   ]
  },
  {
   "cell_type": "markdown",
   "metadata": {},
   "source": [
    "Example output when no site was found: <br>\n",
    "Sequence: CCCCGAATTCAGGAGAGAG <br>\n",
    "No cut site found <br>"
   ]
  },
  {
   "cell_type": "markdown",
   "metadata": {},
   "source": [
    "## Solutions"
   ]
  },
  {
   "cell_type": "markdown",
   "metadata": {},
   "source": [
    "Needs to be updated!\n",
    "\n",
    "<p><a href=\"L2_solutions/excercise01.py\">excercise01.py</a></p>\n",
    "\n"
   ]
  }
 ],
 "metadata": {
  "kernelspec": {
   "display_name": "Python 3",
   "language": "python",
   "name": "python3"
  },
  "language_info": {
   "codemirror_mode": {
    "name": "ipython",
    "version": 3
   },
   "file_extension": ".py",
   "mimetype": "text/x-python",
   "name": "python",
   "nbconvert_exporter": "python",
   "pygments_lexer": "ipython3",
   "version": "3.6.0"
  }
 },
 "nbformat": 4,
 "nbformat_minor": 2
}
