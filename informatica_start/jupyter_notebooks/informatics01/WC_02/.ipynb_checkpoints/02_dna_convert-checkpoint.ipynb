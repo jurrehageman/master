{
 "cells": [
  {
   "cell_type": "markdown",
   "metadata": {},
   "source": [
    "# BioInformatics exercises for python (Informatics I)\n",
    "##### I.   Manipulate strings\n",
    "##### II.  Use list and dictionaries\n",
    "##### III. Generate reverse complementary DNA\n"
   ]
  },
  {
   "cell_type": "markdown",
   "metadata": {},
   "source": [
    "## Introduction"
   ]
  },
  {
   "cell_type": "markdown",
   "metadata": {},
   "source": [
    "Author: Jurre Hageman\n",
    "Date: 2017-09-15"
   ]
  },
  {
   "cell_type": "markdown",
   "metadata": {},
   "source": [
    "For this lesson, we will write a small program that converts a DNA sequence to RNA, generates the complementary strand and the reverse complementary strand.\n",
    "\n",
    "DNA is a double stranded helix and can be depicted as follows (strongly simplified):<br>\n",
    "GACCATGGAC<br>\n",
    "CTGGTACCTG<br>\n",
    "\n",
    "Bioinformatitions often store only one strand in databases. This saves considerable space.\n",
    "When one strand is given, the other strand can be generated as a T always pairs an A and a C always pairs a G.<br>\n",
    "If we look at the strand: <br>\n",
    "GACCATGGAC<br>\n",
    "Than we can generate the following: <br>\n",
    "reverse strand: CAGGTACCAG<br>\n",
    "complementary strand: CTGGTACCTG<br>\n",
    "reverse complementary strand: GTCCATGGTC <br>\n",
    "\n",
    "Online tools excist to convert DNA such as [this tool](http://arep.med.harvard.edu/labgc/adnan/projects/Utilities/revcomp.html).\n",
    "\n",
    "Your task is to write a similar DNA conversion tool. However, for simplicity, we will code it as a command line tool.\n"
   ]
  },
  {
   "cell_type": "markdown",
   "metadata": {},
   "source": [
    "Let's first think of what the program should do:\n",
    "- it should catch a DNA string\n",
    "- it should reverse the string\n",
    "- it should complement the string\n",
    "- it should reverse-complement the string"
   ]
  },
  {
   "cell_type": "markdown",
   "metadata": {},
   "source": [
    "\n",
    "Open IDLE3.\n",
    "First generate a variable dna and assign it to the string \"atcg\"\n"
   ]
  },
  {
   "cell_type": "code",
   "execution_count": 1,
   "metadata": {},
   "outputs": [
    {
     "name": "stdout",
     "output_type": "stream",
     "text": [
      "atcg\n"
     ]
    }
   ],
   "source": [
    "dna = \"atcg\"\n",
    "print(dna)"
   ]
  },
  {
   "cell_type": "markdown",
   "metadata": {},
   "source": [
    "Let's first generate an upper case version of the string:"
   ]
  },
  {
   "cell_type": "code",
   "execution_count": 2,
   "metadata": {},
   "outputs": [
    {
     "name": "stdout",
     "output_type": "stream",
     "text": [
      "ATCG\n"
     ]
    }
   ],
   "source": [
    "dna_caps = dna.upper()\n",
    "print(dna_caps)"
   ]
  },
  {
   "cell_type": "markdown",
   "metadata": {},
   "source": [
    "We can reverse a sequence by slicing.\n",
    "The format for slicing is: [x:y:z] where x represents the start index, y represents stop (not including this index) and y represents the stepsize. Try to invert the dna string using slicing and store the result in a new variable named dna_rev."
   ]
  },
  {
   "cell_type": "markdown",
   "metadata": {},
   "source": [
    "In order to generate a complementary sequence, we need a dictionary. Dictionaries store key:value pairs. Using a dictionary, you will be able to select the complementary base:"
   ]
  },
  {
   "cell_type": "code",
   "execution_count": 3,
   "metadata": {
    "collapsed": true
   },
   "outputs": [],
   "source": [
    "bases = {'A':'T', 'T':'A', 'C':'G', 'G':'C'}"
   ]
  },
  {
   "cell_type": "markdown",
   "metadata": {},
   "source": [
    "Try to output the base 'A' from the dictionary named bases using the correct key in IDLE.  "
   ]
  },
  {
   "cell_type": "markdown",
   "metadata": {},
   "source": [
    "In order to generate the complementary DNA string, you will need to loop through the original DNA sequence. As for loops are not covered yet we will help you a bit more.\n",
    "Have a close look at the following code:"
   ]
  },
  {
   "cell_type": "code",
   "execution_count": 4,
   "metadata": {},
   "outputs": [
    {
     "name": "stdout",
     "output_type": "stream",
     "text": [
      "A\n",
      "T\n",
      "C\n",
      "G\n"
     ]
    }
   ],
   "source": [
    "dna = 'ATCG'\n",
    "for base in dna:\n",
    "    print(base)"
   ]
  },
  {
   "cell_type": "markdown",
   "metadata": {},
   "source": [
    "As you can see, the for loop loops through the string. Each loop the placeholder 'base' will be overwritten with the value of the following base of bases. "
   ]
  },
  {
   "cell_type": "markdown",
   "metadata": {},
   "source": [
    "Now we will loop through the dna sequence and add each base to a new string. Before we do so, we will need te define an empty string first:"
   ]
  },
  {
   "cell_type": "code",
   "execution_count": 5,
   "metadata": {},
   "outputs": [
    {
     "name": "stdout",
     "output_type": "stream",
     "text": [
      "A\n",
      "AT\n",
      "ATC\n",
      "ATCG\n"
     ]
    }
   ],
   "source": [
    "dna = 'ATCG'\n",
    "new_dna = '' # generate empty string\n",
    "for base in dna:\n",
    "    new_dna += base #this is a shorthand of new_dna = new_dna + base\n",
    "    print(new_dna)"
   ]
  },
  {
   "cell_type": "markdown",
   "metadata": {},
   "source": [
    "As you can see, the print statement is within the for loop. You can see the string concatenation in process. The string will grow after each consecutive loop.\n",
    "If we put the print statement after the loop we will see the end result:"
   ]
  },
  {
   "cell_type": "code",
   "execution_count": 6,
   "metadata": {},
   "outputs": [
    {
     "name": "stdout",
     "output_type": "stream",
     "text": [
      "ATCG\n"
     ]
    }
   ],
   "source": [
    "dna = 'ATCG'\n",
    "new_dna = ''\n",
    "for base in dna:\n",
    "    new_dna += base #this is a shorthand of new_dna = new_dna + base\n",
    "print(new_dna)"
   ]
  },
  {
   "cell_type": "markdown",
   "metadata": {},
   "source": [
    "This seems to work fine but there is something very bad about concatenating strings in loops. Since strings are immutable, Python has to generate a new varable each loop. Therefore it is better to use a list to store the variables. List are mutable so only one object needs to be generated in memory. This is the equivalent code using a list to store the bases:"
   ]
  },
  {
   "cell_type": "code",
   "execution_count": 7,
   "metadata": {},
   "outputs": [
    {
     "name": "stdout",
     "output_type": "stream",
     "text": [
      "['A', 'T', 'C', 'G']\n"
     ]
    }
   ],
   "source": [
    "dna = 'ATCG'\n",
    "new_dna = [] #generate empty list\n",
    "for base in dna:\n",
    "    new_dna.append(base) #this will add the base to the end of the list\n",
    "print(new_dna)"
   ]
  },
  {
   "cell_type": "markdown",
   "metadata": {},
   "source": [
    "To convert a list will can use the str.join() method. This method accepts a list as argument and \"stringifies\" the list."
   ]
  },
  {
   "cell_type": "code",
   "execution_count": 8,
   "metadata": {},
   "outputs": [
    {
     "name": "stdout",
     "output_type": "stream",
     "text": [
      "ATCG\n"
     ]
    }
   ],
   "source": [
    "dna = ['A', 'T', 'C', 'G']\n",
    "dna_string = \"\".join(dna) #This line stringifies the list.\n",
    "print(dna_string)"
   ]
  },
  {
   "cell_type": "markdown",
   "metadata": {},
   "source": [
    "## Excercise: DNA converter"
   ]
  },
  {
   "cell_type": "markdown",
   "metadata": {
    "collapsed": true
   },
   "source": [
    "Now we come to the final excersise:\n",
    "Code a program that will catch a DNA sequence from the command line. Remember that you can catch arguments using the sys module and using the sys.argv property. This yields a list with the command line arguments:"
   ]
  },
  {
   "cell_type": "code",
   "execution_count": 9,
   "metadata": {
    "collapsed": true
   },
   "outputs": [],
   "source": [
    "import sys\n",
    "args = sys.argv #this will provide you with a list of arguments. Use indexing to select the correct item."
   ]
  },
  {
   "cell_type": "markdown",
   "metadata": {},
   "source": [
    "Now write code to print the following to the screen:\n",
    "- The original sequence in upper case\n",
    "- The reverse string in upper case\n",
    "- The complement string in upper case\n",
    "- The reverse-complement string in upper case."
   ]
  },
  {
   "cell_type": "markdown",
   "metadata": {},
   "source": [
    "## Solutions"
   ]
  },
  {
   "cell_type": "markdown",
   "metadata": {},
   "source": [
    "<p><a href=\"L4_solutions/dna_convert_solution.py\">dna_converter_solution.py</a></p>\n",
    "\n"
   ]
  }
 ],
 "metadata": {
  "kernelspec": {
   "display_name": "Python 3",
   "language": "python",
   "name": "python3"
  },
  "language_info": {
   "codemirror_mode": {
    "name": "ipython",
    "version": 3
   },
   "file_extension": ".py",
   "mimetype": "text/x-python",
   "name": "python",
   "nbconvert_exporter": "python",
   "pygments_lexer": "ipython3",
   "version": "3.6.0"
  }
 },
 "nbformat": 4,
 "nbformat_minor": 2
}
