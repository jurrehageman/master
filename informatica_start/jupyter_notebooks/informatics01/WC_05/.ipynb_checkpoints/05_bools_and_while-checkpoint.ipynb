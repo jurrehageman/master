{
 "cells": [
  {
   "cell_type": "markdown",
   "metadata": {},
   "source": [
    "# BioInformatics exercises for python (Informatics I)\n",
    "##### Booleans"
   ]
  },
  {
   "cell_type": "markdown",
   "metadata": {},
   "source": [
    "## Introduction"
   ]
  },
  {
   "cell_type": "markdown",
   "metadata": {},
   "source": [
    "Author: Jurre Hageman <br>\n",
    "Date: 2017-10-04"
   ]
  },
  {
   "cell_type": "markdown",
   "metadata": {},
   "source": [
    "This lesson is about booleans.\n",
    "Since we did not cover the while loop extensively yet, I will also cover the use of the while loop.\n",
    "\n",
    "For this lesson we will write a simple program that creates a random DNA sequence. There are many applications for random DNA sequences in molecular Biology.\n",
    "Often, the percentage of GC is important. \n",
    "\n",
    "The GC pair is bound by three hydrogen bonds, while AT pairs are bound by two hydrogen bonds. To emphasize this difference in the number of hydrogen bonds, the base pairings can be represented as respectively G≡C versus A=T.\n",
    "\n",
    "Thus we want to have a random DNA sequence but the GC percentage should be from 50-60%.\n",
    "In other words, AAATTTAATTAAAATTTTAA is not a good sequence while GAGAGAGAGAGAGAGAGAGA is.\n"
   ]
  },
  {
   "cell_type": "markdown",
   "metadata": {},
   "source": [
    "Let's (again) first make a list of what our program should do:\n",
    "- it should generate a random DNA sequence of 20 nucleotides in length\n",
    "- the GC percentage should be at least 50%\n",
    "- the max GC percentage should be 60%\n",
    "- it should print the sequence to the terminal\n",
    "- it should print the GC percentage to the terminal\n",
    "- write your script in functions"
   ]
  },
  {
   "cell_type": "markdown",
   "metadata": {},
   "source": [
    "## Booleans"
   ]
  },
  {
   "cell_type": "raw",
   "metadata": {},
   "source": [
    "Recall that only two Boolean values exist: true and false. In code:"
   ]
  },
  {
   "cell_type": "code",
   "execution_count": 1,
   "metadata": {},
   "outputs": [
    {
     "data": {
      "text/plain": [
       "False"
      ]
     },
     "execution_count": 1,
     "metadata": {},
     "output_type": "execute_result"
    }
   ],
   "source": [
    "True\n",
    "False"
   ]
  },
  {
   "cell_type": "raw",
   "metadata": {},
   "source": [
    "For every if/elif/else statement, Python will evaluate if a statement is True or False. Other data types will be implicitly converted to booleans. An example:"
   ]
  },
  {
   "cell_type": "code",
   "execution_count": 2,
   "metadata": {},
   "outputs": [
    {
     "name": "stdout",
     "output_type": "stream",
     "text": [
      "Yes it is True\n"
     ]
    }
   ],
   "source": [
    "answer = True\n",
    "if answer == True:\n",
    "    print(\"Yes it is True\")\n",
    "else:\n",
    "    print(\"It is False\")"
   ]
  },
  {
   "cell_type": "markdown",
   "metadata": {},
   "source": [
    "We do not even have to write the comparison sign \"==\""
   ]
  },
  {
   "cell_type": "code",
   "execution_count": 3,
   "metadata": {},
   "outputs": [
    {
     "name": "stdout",
     "output_type": "stream",
     "text": [
      "Yes it is True\n"
     ]
    }
   ],
   "source": [
    "answer = True\n",
    "#\"if answer\" is the same as \"if answer == True\"\n",
    "if answer:\n",
    "    print(\"Yes it is True\")\n",
    "else:\n",
    "    print(\"It is False\")"
   ]
  },
  {
   "cell_type": "markdown",
   "metadata": {},
   "source": [
    "We can also combine multiple if statements. The nested approach:"
   ]
  },
  {
   "cell_type": "code",
   "execution_count": 4,
   "metadata": {},
   "outputs": [
    {
     "name": "stdout",
     "output_type": "stream",
     "text": [
      "55 is higher than 50\n",
      "55 is higher than 50 and lower then 60\n"
     ]
    }
   ],
   "source": [
    "min_value = 50\n",
    "max_value = 60\n",
    "value = 55\n",
    "if value > min_value:\n",
    "    #now we know the value is higher than 50\n",
    "    print(value, \"is higher than\", min_value)\n",
    "    #check if value is also lower than 60:\n",
    "    if value < max_value:\n",
    "        print(value, \"is higher than\", min_value, \"and lower then\", max_value)"
   ]
  },
  {
   "cell_type": "markdown",
   "metadata": {},
   "source": [
    "This code can be condensed using the boolean operator \"and\":"
   ]
  },
  {
   "cell_type": "code",
   "execution_count": 5,
   "metadata": {},
   "outputs": [
    {
     "name": "stdout",
     "output_type": "stream",
     "text": [
      "55 is higher than 50 and lower than 60\n"
     ]
    }
   ],
   "source": [
    "min_value = 50\n",
    "max_value = 60\n",
    "value = 55\n",
    "if value > min_value and value < max_value:\n",
    "    print(value, \"is higher than\", min_value, \"and lower than\", max_value)"
   ]
  },
  {
   "cell_type": "markdown",
   "metadata": {},
   "source": [
    "Warning: Booleans can make your brain go nuts. \n",
    "Use IDLE to test small pieces of code.  \n",
    "<a href=\"http://blamcast.net/python/ex28.html\">Here</a> is a bit of help for the more complex examples."
   ]
  },
  {
   "cell_type": "markdown",
   "metadata": {},
   "source": [
    "Now we now how deal with booleans, let's recall how to deal with the random module:"
   ]
  },
  {
   "cell_type": "code",
   "execution_count": 6,
   "metadata": {},
   "outputs": [
    {
     "name": "stdout",
     "output_type": "stream",
     "text": [
      "Jan\n",
      "T\n"
     ]
    }
   ],
   "source": [
    "import random\n",
    "people = [\"Jan\", \"Truus\", \"Marie\"]\n",
    "#pick a random item from a collection:\n",
    "random_person = random.choice(people)\n",
    "print(random_person)\n",
    "#this also works with strings (as they are collections too):\n",
    "bases = \"GATC\"\n",
    "random_base = random.choice(bases)\n",
    "print(random_base)"
   ]
  },
  {
   "cell_type": "markdown",
   "metadata": {},
   "source": [
    "Another important concept is the while loop. The while loop will run untill a condition is met. An example: "
   ]
  },
  {
   "cell_type": "code",
   "execution_count": 7,
   "metadata": {},
   "outputs": [
    {
     "name": "stdout",
     "output_type": "stream",
     "text": [
      "1\n",
      "2\n",
      "6\n",
      "7\n",
      "1\n",
      "2\n",
      "2\n",
      "7\n",
      "3\n",
      "1\n",
      "9\n"
     ]
    }
   ],
   "source": [
    "import random\n",
    "#set number or it will generate an error\n",
    "number = 0\n",
    "while number < 8:\n",
    "    number = random.randint(1, 10) #pick random number from 1 to 10\n",
    "    print(number)"
   ]
  },
  {
   "cell_type": "markdown",
   "metadata": {},
   "source": [
    "Thus, the loop will run untill an 8, 9 or 10 is generated. As soon as one of these numbers is assigned to the number variable, the loop will stop. Another example:"
   ]
  },
  {
   "cell_type": "code",
   "execution_count": 8,
   "metadata": {},
   "outputs": [
    {
     "name": "stdout",
     "output_type": "stream",
     "text": [
      "4\n",
      "9\n",
      "5\n"
     ]
    }
   ],
   "source": [
    "import random\n",
    "#set number or it will generate an error\n",
    "number = 0\n",
    "while number < 5 or number > 6:\n",
    "    number = random.randint(1, 10) #pick random number from 1 to 10\n",
    "    print(number)"
   ]
  },
  {
   "cell_type": "markdown",
   "metadata": {},
   "source": [
    "Note that the loop will only stop if a 5 or a 6 is encountered. Also note that if we replace the \"or\" for an \"and\" the loop will never start! Think about a number that is lower than 5 AND at the same time larger than 6. That is impossible! \n",
    "Also be aware of the possibility of generating an endless loop:"
   ]
  },
  {
   "cell_type": "code",
   "execution_count": 9,
   "metadata": {
    "scrolled": true
   },
   "outputs": [
    {
     "name": "stdout",
     "output_type": "stream",
     "text": [
      "number is 8 which is larger then 4\n",
      "number is 7 which is larger then 4\n",
      "number is 6 which is larger then 4\n",
      "number is 5 which is larger then 4\n"
     ]
    }
   ],
   "source": [
    "number = 8\n",
    "while number > 4:\n",
    "    print('number is', number, 'which is larger then 4')\n",
    "    number -= 1 #if you forget this line, the loop will be endless!"
   ]
  },
  {
   "cell_type": "markdown",
   "metadata": {},
   "source": [
    "Forgetting the line: 'number -= 1' would cause an annoying error that you will frequently encouter using while loops: a never ending loop. Fortunately, you can always stop your script by pressing Control + C in the terminal."
   ]
  },
  {
   "cell_type": "markdown",
   "metadata": {},
   "source": [
    "## Excercise: Generate a random DNA sequence of 20 nucleotides with GC percentage between 50 and 60 %."
   ]
  },
  {
   "cell_type": "markdown",
   "metadata": {
    "collapsed": true
   },
   "source": [
    "Now we come to the final excersise: <br>\n",
    "Let's recall what the program should do: <br>\n",
    "- it should generate a random DNA sequence of 20 nucleotides in length\n",
    "- the GC percentage should be at least 50%\n",
    "- the max GC percentage should be 60%\n",
    "- it should print the sequence to the terminal\n",
    "- it should print the GC percentage to the terminal"
   ]
  },
  {
   "cell_type": "markdown",
   "metadata": {},
   "source": [
    "This excersise has a different approach.\n",
    "To help you a bit, I have created a template. The template contains a \"?\" at places were stuff is missing. Fill in the missing keywords, variable names, function names etc. Use the template below to finish the script. "
   ]
  },
  {
   "cell_type": "code",
   "execution_count": 10,
   "metadata": {},
   "outputs": [
    {
     "ename": "SyntaxError",
     "evalue": "invalid syntax (<ipython-input-10-025ce686bb01>, line 17)",
     "output_type": "error",
     "traceback": [
      "\u001b[0;36m  File \u001b[0;32m\"<ipython-input-10-025ce686bb01>\"\u001b[0;36m, line \u001b[0;32m17\u001b[0m\n\u001b[0;31m    gc_perc = ?\u001b[0m\n\u001b[0m              ^\u001b[0m\n\u001b[0;31mSyntaxError\u001b[0m\u001b[0;31m:\u001b[0m invalid syntax\n"
     ]
    }
   ],
   "source": [
    "#!/usr/bin/env python3\n",
    "\n",
    "#imports\n",
    "import sys\n",
    "import random\n",
    "\n",
    "\n",
    "def calc_gc(seq):\n",
    "    #calculates the percentage of GC in the sequence\n",
    "    #finish this function yourself\n",
    "    pass\n",
    "\n",
    "\n",
    "def generate_dna(len_dna):\n",
    "    #generates random DNA with GC percentage between 50 and 60%\n",
    "    #some comments removed. Write your own comments!\n",
    "    gc_perc = ?\n",
    "    while gc_perc < ? ? gc_perc > ?: \n",
    "        bases = ?\n",
    "        #make an empty list (avoid string concatenation)\n",
    "        dna = ?\n",
    "        #start for loop to make random letter\n",
    "        for i in range(?):\n",
    "            #add a random letter to the list\n",
    "            dna.append(?)\n",
    "        #make a string from the list\n",
    "        sequence = \"\".join(?)\n",
    "        #calculate GC percentage. If this is either < 50 or > 60, the loop will start again!\n",
    "        #if this is between 50 and 60 the loop will stop!\n",
    "        gc_perc = ?(?)\n",
    "    #pack both sequence and GC percentage in a tuple and return\n",
    "    return (?, ?)\n",
    "\n",
    "\n",
    "def main():\n",
    "    #generate a dna sequence with length 20\n",
    "    dna = generate_dna(20)\n",
    "    #print first element from tuple. This is the sequence.\n",
    "    print(\"sequence:\", dna[0])\n",
    "    #print second element from tuple. This is the GC percentage.\n",
    "    print(\"GC percentage:\", dna[1])\n",
    "    return\n",
    "\n",
    "\n",
    "main()"
   ]
  },
  {
   "cell_type": "markdown",
   "metadata": {},
   "source": [
    "Yes, the above code will cause a SyntaxError. But now it is your job to fix it ;-)"
   ]
  },
  {
   "cell_type": "markdown",
   "metadata": {},
   "source": [
    "## Solutions"
   ]
  },
  {
   "cell_type": "markdown",
   "metadata": {},
   "source": [
    "<p><a href=\"L10_solutions/random_dna_solution.py\">random_dna_solution.py</a></p>\n"
   ]
  }
 ],
 "metadata": {
  "kernelspec": {
   "display_name": "Python 3",
   "language": "python",
   "name": "python3"
  },
  "language_info": {
   "codemirror_mode": {
    "name": "ipython",
    "version": 3
   },
   "file_extension": ".py",
   "mimetype": "text/x-python",
   "name": "python",
   "nbconvert_exporter": "python",
   "pygments_lexer": "ipython3",
   "version": "3.5.2"
  }
 },
 "nbformat": 4,
 "nbformat_minor": 2
}
