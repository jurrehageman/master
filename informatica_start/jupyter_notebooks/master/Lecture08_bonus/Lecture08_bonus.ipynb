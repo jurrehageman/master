{
 "cells": [
  {
   "cell_type": "markdown",
   "metadata": {},
   "source": [
    "# Lecture 7: Building a Webapp"
   ]
  },
  {
   "cell_type": "markdown",
   "metadata": {},
   "source": [
    "## Using Flask to build a web app\n",
    "Author: Jurre Hageman"
   ]
  },
  {
   "cell_type": "markdown",
   "metadata": {},
   "source": [
    "This lesson, you will learn how to turn your DNA modify app into an interactive web app. You can find an example of the webapp that we will build here:\n",
    "http://jurrehageman.pythonanywhere.com/\n",
    "\n",
    "As a start, it is important that you read chapter 5 from the book Head First Python.\n",
    "This book will provide you with a nice introduction in builing a webapp. It will also explain you the concepts of the request response cycle."
   ]
  },
  {
   "cell_type": "markdown",
   "metadata": {},
   "source": [
    "We will use Flask to build a webapp. Flask is a microframework written in Python and will greatly simplify coding webapps. We expect that you have read chapter 5 and we will start with the basics for designing a webapp right away:"
   ]
  },
  {
   "cell_type": "markdown",
   "metadata": {},
   "source": [
    "## First start in building your webapp"
   ]
  },
  {
   "cell_type": "markdown",
   "metadata": {},
   "source": [
    "If you are working at your own computer, we start with installing Flask. Flask can be installed by running (skip the !):"
   ]
  },
  {
   "cell_type": "code",
   "execution_count": null,
   "metadata": {},
   "outputs": [],
   "source": [
    "!pip3 install Flask"
   ]
  },
  {
   "cell_type": "markdown",
   "metadata": {},
   "source": [
    "From the code above you can see that Flask is already installed on my computer. Now let's start a basic Flask app:"
   ]
  },
  {
   "cell_type": "code",
   "execution_count": null,
   "metadata": {},
   "outputs": [],
   "source": [
    "from flask import Flask #import the class Flask from the module flask\n",
    "\n",
    "app = Flask(__name__) #instantiate a Flask object using the name of the currently active module.\n",
    "\n",
    "\n",
    "@app.route('/')  # name of the decorating function with the route\n",
    "def hello(): #function for the webroot. Function to be decorated\n",
    "    return 'Hello world!' #returns the string hello world\n",
    "\n",
    "\n",
    "if __name__ == '__main__':\n",
    "    app.run() #runs the app if the __name__ variable is '__main__'"
   ]
  },
  {
   "cell_type": "markdown",
   "metadata": {},
   "source": [
    "Run the above code in your favorite text editor, run the code and surf to: http://localhost:5000/\n",
    "You should see the message on your screen. Congratualations, this is your first webapp running in the browser.\n",
    "What did just happen? <br>\n",
    "The first line imported the class Flask from the python module flask.<br>\n",
    "The line started with \"app\" instantiates an object from the Flask class. <br>\n",
    "The \\__name\\__ value is maintained by the Python interpreter and is set to the name of the currently active module. Thus, the Flask object receives the \\__name\\__ variable which is set to \"\\__main\\__\" when the module is run.<br>\n",
    "The @app.route('/') might be difficult to understand but the only thing you need to understand is that this is Python's decorator syntax. This way, you can augment the behaviour of a function with code from another function without having to change a line of code within your function to be augmented! The hello function is augmented with the code from the app.route() method. This way, Flask will handle the routing for you.\n"
   ]
  },
  {
   "cell_type": "markdown",
   "metadata": {},
   "source": [
    "If you are interested in how decorators work, have a look to the code below:"
   ]
  },
  {
   "cell_type": "code",
   "execution_count": null,
   "metadata": {},
   "outputs": [],
   "source": [
    "def decorate_function(function):\n",
    "   def function_wrapper(name):\n",
    "       return \"DNA is composed of {}\".format(function(name))\n",
    "   return function_wrapper\n",
    "\n",
    "\n",
    "def get_message(seq):\n",
    "   return \"the nucleotides {}\".format(seq)\n",
    "\n",
    "\n",
    "get_message = decorate_function(get_message)\n",
    "\n",
    "print(get_message(\"ATCG\"))"
   ]
  },
  {
   "cell_type": "markdown",
   "metadata": {},
   "source": [
    "In the code above, the 'get_message' function will be augmented by the 'decorate_function'. The function 'decorate_function' takes the 'get_message' function as an argument. This actually generates a new function assigned to the variable 'get_message' (thus the get_message function name will be overwritten). Thus, the original 'get_message' function is now augmented by the 'decorate_function' without changing the code of the get_message function. The original 'get_message' function name is now overwritten by the 'get_message' variable. In other words, 'get_message' is now the augmented function. Python3 supports the use of 'syntactic sugar' for decorators that greatly simplifies the syntax:"
   ]
  },
  {
   "cell_type": "code",
   "execution_count": null,
   "metadata": {},
   "outputs": [],
   "source": [
    "def decorate_function(function):\n",
    "   def function_wrapper(name):\n",
    "       return \"DNA is composed of {}\".format(function(name))\n",
    "   return function_wrapper\n",
    "\n",
    "\n",
    "@decorate_function\n",
    "def get_message(seq):\n",
    "   return \"the nucleotides {}\".format(seq)\n",
    "\n",
    "print(get_message(\"ATCG\"))"
   ]
  },
  {
   "cell_type": "markdown",
   "metadata": {},
   "source": [
    "The @ symbol decorates the 'get_message' function with the functionality of the 'decorate_function'. It reads as \"add the functionality of decorate_function to get_message\". If you want to know more about decorators, see this excellent tutorial: https://www.thecodeship.com/patterns/guide-to-python-function-decorators/ "
   ]
  },
  {
   "cell_type": "markdown",
   "metadata": {},
   "source": [
    "Back to our webapp. Now we have the basic webapp funcional, we can return some HTML instead of plain text. We will return a form for the user and map it to the route '/':"
   ]
  },
  {
   "cell_type": "code",
   "execution_count": null,
   "metadata": {},
   "outputs": [],
   "source": [
    "from flask import Flask \n",
    "\n",
    "app = Flask(__name__) \n",
    "\n",
    "@app.route('/') \n",
    "def entry_page():\n",
    "    return '''\n",
    "    <!doctype html>\n",
    "    <html>\n",
    "    <head>\n",
    "    <title>Welcome to manipulate DNA sequences on the web!</title>\n",
    "    </head>\n",
    "    <body>\n",
    "    <h2>Welcome to manipulate DNA sequences on the web!</h2>\n",
    "    <form method='POST' action='/output'>\n",
    "    <table>\n",
    "    <p>Use this form to submit a DNA sequence:</p>\n",
    "    <tr>\n",
    "    <td>DNA Sequence (5'->3'):</td>\n",
    "    <td><input name='sequence' type='TEXT' width='60'></td>\n",
    "    </tr>\n",
    "    </table>\n",
    "    <p>When you're ready, click this button:</p>\n",
    "    <p><input value='Manipulate DNA' type='SUBMIT'></p>\n",
    "    </form>\n",
    "    </body>\n",
    "    </html>\n",
    "    '''\n",
    "\n",
    "if __name__ == '__main__':\n",
    "    app.run()"
   ]
  },
  {
   "cell_type": "markdown",
   "metadata": {},
   "source": [
    "While this approach technically works, mixing html with python code is a bad thing to do. You will soon end up in a maintenance nightmare. Flask makes use of templates using the Jinja2 engine. You can make use of the teplating engine by importing it:"
   ]
  },
  {
   "cell_type": "code",
   "execution_count": 4,
   "metadata": {},
   "outputs": [],
   "source": [
    "from flask import render_template"
   ]
  },
  {
   "cell_type": "markdown",
   "metadata": {},
   "source": [
    "To make use of a templating save the html code in a seperate file and use the html extension. Save all html files in a folder named 'templates'. All html templates inhirit from a base template (much like subclasses inhirrit from a base class). Make sure to put the file 'base.html' in the 'templates' folder as well. In addition, you can save css files in a folder called 'static'. This would be our code using a template:  "
   ]
  },
  {
   "cell_type": "code",
   "execution_count": null,
   "metadata": {},
   "outputs": [],
   "source": [
    "from flask import Flask\n",
    "from flask import render_template\n",
    "\n",
    "app = Flask(__name__) \n",
    "\n",
    "@app.route('/') \n",
    "def entry_page():\n",
    "    return render_template('entry.html',\n",
    "                          the_title='Welcome to my manipulate DNA app')\n",
    "\n",
    "if __name__ == '__main__':\n",
    "    app.run()"
   ]
  },
  {
   "cell_type": "markdown",
   "metadata": {},
   "source": [
    "Without going into to much detail here, the code is much cleaner. We are no longer mixing Python code with HTML! Note the use of named arguments in the render_template functioon. The templating system uses the entry.html file which extends from the base template. The welcome message is 'injected' in the template variable and the whole page is served by the webserver for the viewer. "
   ]
  },
  {
   "cell_type": "markdown",
   "metadata": {},
   "source": [
    "Now it is time to add functionality to our app.\n",
    "Let's show the user the reverse of the DNA string.\n",
    "We can add a route 'output' that decorates an output_page function. The resulting augmented function will display the results. The POST method is used for the data transfer. HTTP works as a request-response protocol between a client (in our case the web browser) and server. There are two HTTP Request Methods: GET and POST and we will use the POST method here. To work with a request-response cycle, we need to import request from the flask module:"
   ]
  },
  {
   "cell_type": "code",
   "execution_count": 3,
   "metadata": {},
   "outputs": [],
   "source": [
    "from flask import request"
   ]
  },
  {
   "cell_type": "code",
   "execution_count": null,
   "metadata": {},
   "outputs": [],
   "source": [
    "from flask import Flask\n",
    "from flask import render_template\n",
    "from flask import request\n",
    "\n",
    "app = Flask(__name__) \n",
    "\n",
    "\n",
    "@app.route('/output', methods=['POST'])\n",
    "def output_page():\n",
    "    dna_seq = request.form['sequence'].strip().upper()\n",
    "    dna_rev = dna_seq[::-1]\n",
    "    return render_template('results.html',\n",
    "                           the_title='DNA manipulation results',\n",
    "                           the_dna_up = dna_seq,\n",
    "                           the_dna_rev = dna_rev)\n",
    "\n",
    "@app.route('/') \n",
    "def entry_page():\n",
    "    return render_template('entry.html',\n",
    "                          the_title='Welcome to my manipulate DNA app')\n",
    "\n",
    "if __name__ == '__main__':\n",
    "    app.run()"
   ]
  },
  {
   "cell_type": "code",
   "execution_count": null,
   "metadata": {},
   "outputs": [],
   "source": []
  }
 ],
 "metadata": {
  "kernelspec": {
   "display_name": "Python 3",
   "language": "python",
   "name": "python3"
  },
  "language_info": {
   "codemirror_mode": {
    "name": "ipython",
    "version": 3
   },
   "file_extension": ".py",
   "mimetype": "text/x-python",
   "name": "python",
   "nbconvert_exporter": "python",
   "pygments_lexer": "ipython3",
   "version": "3.6.4"
  }
 },
 "nbformat": 4,
 "nbformat_minor": 2
}
