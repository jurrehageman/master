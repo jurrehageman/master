{
 "cells": [
  {
   "cell_type": "markdown",
   "metadata": {},
   "source": [
    "# Lecture 04: Input and output"
   ]
  },
  {
   "cell_type": "markdown",
   "metadata": {},
   "source": [
    "## Chapters\n",
    "Chapter 6: Storing and manipulating data <br>\n",
    "Author: Jurre Hageman"
   ]
  },
  {
   "cell_type": "markdown",
   "metadata": {},
   "source": [
    "## Overview"
   ]
  },
  {
   "cell_type": "markdown",
   "metadata": {},
   "source": [
    "For this lesson, we will write a small program that implements the command-line program \"cat\".\n",
    "cat is a frequently used command on Unix-like operating systems. It can display text files, combine copies of different text files and create new text files.\n",
    "\n",
    "We will write a small Python program that mimics the text display feature of the cat command. <br>\n",
    "In addition, we will write a program that reads DNA from file, makes it reverse complement and writes the output to a text file"
   ]
  },
  {
   "cell_type": "markdown",
   "metadata": {},
   "source": [
    "## A Python Cat Clone"
   ]
  },
  {
   "cell_type": "markdown",
   "metadata": {},
   "source": [
    "cat is a small Unix utility that can display (among other things) text files. cat is written in C and the source code can be found <a href=\"https://git.savannah.gnu.org/cgit/coreutils.git/plain/src/cat.c\">here</a>. <br>\n",
    "Here you can see cat in action:"
   ]
  },
  {
   "cell_type": "code",
   "execution_count": 1,
   "metadata": {},
   "outputs": [
    {
     "name": "stdout",
     "output_type": "stream",
     "text": [
      ">gi|5524211|gb|AAD44166.1| cytochrome b [Elephas maximus maximus]\r\n",
      "LCLYTHIGRNIYYGSYLYSETWNTGIMLLLITMATAFMGYVLPWGQMSFWGATVITNLFSAIPYIGTNLV\r\n",
      "EWIWGGFSVDKATLNRFFAFHFILPFTMVALAGVHLTFLHETGSNNPLGLTSDSDKIPFHPYYTIKDFLG\r\n",
      "LLILILLLLLLALLSPDMLGDPDNHMPADPLNTPLHIKPEWYFLFAYAILRSVPNKLGGVLALFLSIVIL\r\n",
      "GLMPFLHTSKHRSMMLRPLSQALFWTLTMDLLTLTWIGSQPVEYPYTIIGQMASILYFSIILAFLPIAGX\r\n",
      "IENY"
     ]
    }
   ],
   "source": [
    "!cat input.txt"
   ]
  },
  {
   "cell_type": "markdown",
   "metadata": {},
   "source": [
    "Here cat opens a file stream and displays the contents on screen. The file is an ASCII file in FASTA format and contains the sequence of the cytochrome b protein from the elephant."
   ]
  },
  {
   "cell_type": "markdown",
   "metadata": {},
   "source": [
    "Unix and Windows use different type of line endings. While Unix like systems (such as Mac and Linux) use Line Feed (LF), Windows uses Cariage Return and Line Feed (CRLF). You can check the type of line ending using the file command (without the ! character):"
   ]
  },
  {
   "cell_type": "code",
   "execution_count": 2,
   "metadata": {},
   "outputs": [
    {
     "name": "stdout",
     "output_type": "stream",
     "text": [
      "input.txt: ASCII text\r\n"
     ]
    }
   ],
   "source": [
    "!file input.txt"
   ]
  },
  {
   "cell_type": "markdown",
   "metadata": {},
   "source": [
    "Now we check another file:"
   ]
  },
  {
   "cell_type": "code",
   "execution_count": 3,
   "metadata": {},
   "outputs": [
    {
     "name": "stdout",
     "output_type": "stream",
     "text": [
      "input_windows_endings.txt: ASCII text, with CRLF line terminators\r\n"
     ]
    }
   ],
   "source": [
    "!file input_windows_endings.txt"
   ]
  },
  {
   "cell_type": "markdown",
   "metadata": {},
   "source": [
    "As you can see, this file has CRLF endings. You can convert between these endings using dos2unix and unix2dos. See: https://sourceforge.net/projects/dos2unix/"
   ]
  },
  {
   "cell_type": "markdown",
   "metadata": {},
   "source": [
    " Back to the excersise: We will use Python to make a cat clone."
   ]
  },
  {
   "cell_type": "markdown",
   "metadata": {},
   "source": [
    "Let's first think of what the program should do:\n",
    "- it should open a file\n",
    "- it should loop through every line\n",
    "- it should print the content of the line to the screen\n",
    "- it should close the file"
   ]
  },
  {
   "cell_type": "markdown",
   "metadata": {},
   "source": [
    "## Read file"
   ]
  },
  {
   "cell_type": "markdown",
   "metadata": {},
   "source": [
    "As a start, we will write some code to print multiple items using a loop.\n",
    "There are different types of loops. \n",
    "The for loop in Python is used to avoid repetition of code.\n",
    "Suppose we have a collection of different items stored. We can store them in a list:"
   ]
  },
  {
   "cell_type": "code",
   "execution_count": 4,
   "metadata": {},
   "outputs": [
    {
     "name": "stdout",
     "output_type": "stream",
     "text": [
      "['This', 'is', 'a', 'list', 'with', 'each', 'item', 'being', 'a', 'string']\n"
     ]
    }
   ],
   "source": [
    "items = [\"This\", \"is\", \"a\", \"list\", \"with\", \"each\", \"item\", \"being\", \"a\", \"string\"]\n",
    "print(items)"
   ]
  },
  {
   "cell_type": "markdown",
   "metadata": {},
   "source": [
    "Like a list, a text file is also a collection of items. It is a collection of lines containing characters.\n",
    "To loop through the collection we can use a for loop. In this way, each item will be printed:"
   ]
  },
  {
   "cell_type": "code",
   "execution_count": 5,
   "metadata": {},
   "outputs": [
    {
     "name": "stdout",
     "output_type": "stream",
     "text": [
      "This\n",
      "is\n",
      "a\n",
      "list\n",
      "with\n",
      "each\n",
      "item\n",
      "being\n",
      "a\n",
      "string\n"
     ]
    }
   ],
   "source": [
    "items = [\"This\", \"is\", \"a\", \"list\", \"with\", \"each\", \"item\", \"being\", \"a\", \"string\"]\n",
    "for item in items:\n",
    "    print(item)"
   ]
  },
  {
   "cell_type": "markdown",
   "metadata": {},
   "source": [
    "Item is now a placeholder that is overwritten for each consecutive loop. The first loop item refers to \"This\", the second loop to \"is\" etc.\n",
    "Note that item (singular) differs from items (plural). Items refers to the complete list while item is the placeholder in the for loop refering to each item of the list. \n",
    "\n",
    "The next thing we would like to do is to open a file.\n",
    "Files can be opened in Python using the open command.\n",
    "We have a text file in the directory that is named <a href=\"HIER DE GOEDE LINK\">input.txt</a>. Make sure that you download this file in your working directory (the same directory in which you store your python file). \n",
    "Using the following code we can generate a file object with the open file:"
   ]
  },
  {
   "cell_type": "code",
   "execution_count": 6,
   "metadata": {},
   "outputs": [
    {
     "name": "stdout",
     "output_type": "stream",
     "text": [
      "<_io.TextIOWrapper name='input.txt' mode='r' encoding='UTF-8'>\n"
     ]
    }
   ],
   "source": [
    "file_object = open(\"input.txt\")\n",
    "print(file_object)"
   ]
  },
  {
   "cell_type": "markdown",
   "metadata": {},
   "source": [
    "Printing the file object gives a bit of intimidating result. Do not let it intimidate you. It's just a file object in read mode with a certain encoding that can display the content.\n",
    "To display the content we can loop through the file object in the following manner:"
   ]
  },
  {
   "cell_type": "code",
   "execution_count": 7,
   "metadata": {},
   "outputs": [
    {
     "name": "stdout",
     "output_type": "stream",
     "text": [
      ">gi|5524211|gb|AAD44166.1| cytochrome b [Elephas maximus maximus]\n",
      "\n",
      "LCLYTHIGRNIYYGSYLYSETWNTGIMLLLITMATAFMGYVLPWGQMSFWGATVITNLFSAIPYIGTNLV\n",
      "\n",
      "EWIWGGFSVDKATLNRFFAFHFILPFTMVALAGVHLTFLHETGSNNPLGLTSDSDKIPFHPYYTIKDFLG\n",
      "\n",
      "LLILILLLLLLALLSPDMLGDPDNHMPADPLNTPLHIKPEWYFLFAYAILRSVPNKLGGVLALFLSIVIL\n",
      "\n",
      "GLMPFLHTSKHRSMMLRPLSQALFWTLTMDLLTLTWIGSQPVEYPYTIIGQMASILYFSIILAFLPIAGX\n",
      "\n",
      "IENY\n"
     ]
    }
   ],
   "source": [
    "my_file = open(\"input.txt\")\n",
    "for line in my_file:\n",
    "    print(line)\n",
    "my_file.close()"
   ]
  },
  {
   "cell_type": "markdown",
   "metadata": {},
   "source": [
    "The keyword \"line\" is now a placeholder for every line of the file. The first loop it refers to the first line, the second loop to the second.\n",
    "Note that a line break is introduced between each line. This is caused by the print function which normally introduces a line break after each printing event. This can be avoided by using the end='' statement:"
   ]
  },
  {
   "cell_type": "code",
   "execution_count": 8,
   "metadata": {},
   "outputs": [
    {
     "name": "stdout",
     "output_type": "stream",
     "text": [
      "Hello\n",
      "World\n",
      "HelloWorld"
     ]
    }
   ],
   "source": [
    "mssg1 = \"Hello\"\n",
    "mssg2 = \"World\"\n",
    "print(mssg1)\n",
    "print(mssg2)\n",
    "print(mssg1, end='')\n",
    "print(mssg2, end='')"
   ]
  },
  {
   "cell_type": "markdown",
   "metadata": {},
   "source": [
    "To completely mimic the display feature in Python, the line breaks between lines should be avoided: "
   ]
  },
  {
   "cell_type": "code",
   "execution_count": 9,
   "metadata": {},
   "outputs": [
    {
     "name": "stdout",
     "output_type": "stream",
     "text": [
      ">gi|5524211|gb|AAD44166.1| cytochrome b [Elephas maximus maximus]\n",
      "LCLYTHIGRNIYYGSYLYSETWNTGIMLLLITMATAFMGYVLPWGQMSFWGATVITNLFSAIPYIGTNLV\n",
      "EWIWGGFSVDKATLNRFFAFHFILPFTMVALAGVHLTFLHETGSNNPLGLTSDSDKIPFHPYYTIKDFLG\n",
      "LLILILLLLLLALLSPDMLGDPDNHMPADPLNTPLHIKPEWYFLFAYAILRSVPNKLGGVLALFLSIVIL\n",
      "GLMPFLHTSKHRSMMLRPLSQALFWTLTMDLLTLTWIGSQPVEYPYTIIGQMASILYFSIILAFLPIAGX\n",
      "IENY"
     ]
    }
   ],
   "source": [
    "my_file = open(\"input.txt\")\n",
    "for line in my_file:\n",
    "    print(line, end='')\n",
    "my_file.close()"
   ]
  },
  {
   "cell_type": "markdown",
   "metadata": {},
   "source": [
    "As you can see, the output is exactly as using cat:"
   ]
  },
  {
   "cell_type": "code",
   "execution_count": 10,
   "metadata": {},
   "outputs": [
    {
     "name": "stdout",
     "output_type": "stream",
     "text": [
      ">gi|5524211|gb|AAD44166.1| cytochrome b [Elephas maximus maximus]\r\n",
      "LCLYTHIGRNIYYGSYLYSETWNTGIMLLLITMATAFMGYVLPWGQMSFWGATVITNLFSAIPYIGTNLV\r\n",
      "EWIWGGFSVDKATLNRFFAFHFILPFTMVALAGVHLTFLHETGSNNPLGLTSDSDKIPFHPYYTIKDFLG\r\n",
      "LLILILLLLLLALLSPDMLGDPDNHMPADPLNTPLHIKPEWYFLFAYAILRSVPNKLGGVLALFLSIVIL\r\n",
      "GLMPFLHTSKHRSMMLRPLSQALFWTLTMDLLTLTWIGSQPVEYPYTIIGQMASILYFSIILAFLPIAGX\r\n",
      "IENY"
     ]
    }
   ],
   "source": [
    "!cat input.txt"
   ]
  },
  {
   "cell_type": "markdown",
   "metadata": {},
   "source": [
    "## Reading your file in streaming mode"
   ]
  },
  {
   "cell_type": "markdown",
   "metadata": {},
   "source": [
    "You may stumble upon the file.read() method which is used a lot. This might look convenient at first as you omit the for loop:"
   ]
  },
  {
   "cell_type": "code",
   "execution_count": 11,
   "metadata": {},
   "outputs": [
    {
     "name": "stdout",
     "output_type": "stream",
     "text": [
      ">gi|5524211|gb|AAD44166.1| cytochrome b [Elephas maximus maximus]\n",
      "LCLYTHIGRNIYYGSYLYSETWNTGIMLLLITMATAFMGYVLPWGQMSFWGATVITNLFSAIPYIGTNLV\n",
      "EWIWGGFSVDKATLNRFFAFHFILPFTMVALAGVHLTFLHETGSNNPLGLTSDSDKIPFHPYYTIKDFLG\n",
      "LLILILLLLLLALLSPDMLGDPDNHMPADPLNTPLHIKPEWYFLFAYAILRSVPNKLGGVLALFLSIVIL\n",
      "GLMPFLHTSKHRSMMLRPLSQALFWTLTMDLLTLTWIGSQPVEYPYTIIGQMASILYFSIILAFLPIAGX\n",
      "IENY\n"
     ]
    }
   ],
   "source": [
    "my_file = open('input.txt')\n",
    "content = my_file.read()\n",
    "print(content)\n",
    "my_file.close()"
   ]
  },
  {
   "cell_type": "markdown",
   "metadata": {},
   "source": [
    "However, there is a major drawback using this approach. The memory consumed is considerably larger using this method:"
   ]
  },
  {
   "cell_type": "code",
   "execution_count": 12,
   "metadata": {},
   "outputs": [
    {
     "name": "stdout",
     "output_type": "stream",
     "text": [
      "403 bytes\n"
     ]
    }
   ],
   "source": [
    "import sys\n",
    "my_file = open('input.txt')\n",
    "content = my_file.read()\n",
    "print(sys.getsizeof(content), 'bytes')"
   ]
  },
  {
   "cell_type": "markdown",
   "metadata": {},
   "source": [
    "Compare this to the memory used in streaming mode:"
   ]
  },
  {
   "cell_type": "code",
   "execution_count": 13,
   "metadata": {},
   "outputs": [
    {
     "name": "stdout",
     "output_type": "stream",
     "text": [
      "115 bytes\n",
      "120 bytes\n",
      "120 bytes\n",
      "120 bytes\n",
      "120 bytes\n",
      "53 bytes\n"
     ]
    }
   ],
   "source": [
    "my_file = open('input.txt')\n",
    "for line in my_file:\n",
    "    content = line\n",
    "    print(sys.getsizeof(content), 'bytes') #now you can do something line by line"
   ]
  },
  {
   "cell_type": "markdown",
   "metadata": {},
   "source": [
    "From the above code, you can see that the memory size is much smaller in streaming mode. Each loop, the line variable is overwritten. This saves memory, especially when using large files! Whenever possible, use streaming mode instead of the file.read() method."
   ]
  },
  {
   "cell_type": "markdown",
   "metadata": {},
   "source": [
    "## Write file"
   ]
  },
  {
   "cell_type": "markdown",
   "metadata": {},
   "source": [
    "So far we have opened a file and displayed its content.\n",
    "You may also want to write something to a file. \n",
    "To do so, first we have to open a new output file:"
   ]
  },
  {
   "cell_type": "code",
   "execution_count": 14,
   "metadata": {},
   "outputs": [
    {
     "name": "stdout",
     "output_type": "stream",
     "text": [
      "<_io.TextIOWrapper name='output.txt' mode='w' encoding='UTF-8'>\n"
     ]
    }
   ],
   "source": [
    "output_file = open(\"output.txt\", \"w\")\n",
    "print(output_file)\n",
    "output_file.close()"
   ]
  },
  {
   "cell_type": "markdown",
   "metadata": {},
   "source": [
    "We have generated a file object and assigned it to the variable output_file.\n",
    "The \"w\" argument informs the Python interpreter that the file object should be opened in write mode.\n",
    "The default is read mode (\"r\") which does not need to be specified.\n",
    "To write something to the file we can use the file.write() method."
   ]
  },
  {
   "cell_type": "code",
   "execution_count": 15,
   "metadata": {},
   "outputs": [
    {
     "name": "stdout",
     "output_type": "stream",
     "text": [
      "Done\n"
     ]
    }
   ],
   "source": [
    "output_file = open(\"output.txt\", \"w\")\n",
    "output_file.write(\"This is written to the file\" + '\\n')\n",
    "output_file.write(\"End of message\" + '\\n')\n",
    "output_file.close() # Do not forget to close the file. This is very important!\n",
    "print('Done')"
   ]
  },
  {
   "cell_type": "markdown",
   "metadata": {},
   "source": [
    "Now we have a file in the same directory as the Python script.\n",
    "We can open it to check if the content has been written to the file:"
   ]
  },
  {
   "cell_type": "code",
   "execution_count": 16,
   "metadata": {},
   "outputs": [
    {
     "name": "stdout",
     "output_type": "stream",
     "text": [
      "This is written to the file\r\n",
      "End of message\r\n"
     ]
    }
   ],
   "source": [
    "!cat output.txt"
   ]
  },
  {
   "cell_type": "markdown",
   "metadata": {},
   "source": [
    "Instead of using write mode, which overwrites the file content each time that you open the file in 'w' mode we can also append to a file using the 'a' (append) mode:"
   ]
  },
  {
   "cell_type": "code",
   "execution_count": 17,
   "metadata": {},
   "outputs": [],
   "source": [
    "output_file = open(\"output2.txt\", \"a\")\n",
    "output_file.write(\"This is new text\" + '\\n')\n",
    "output_file.close()"
   ]
  },
  {
   "cell_type": "markdown",
   "metadata": {},
   "source": [
    "Read content"
   ]
  },
  {
   "cell_type": "code",
   "execution_count": 18,
   "metadata": {},
   "outputs": [
    {
     "name": "stdout",
     "output_type": "stream",
     "text": [
      "This is new text\r\n",
      "This is another line of text\r\n",
      "This is YET another line of text\r\n",
      "This is new text\r\n",
      "This is another line of text\r\n",
      "This is YET another line of text\r\n",
      "This is new text\r\n"
     ]
    }
   ],
   "source": [
    "!cat output2.txt"
   ]
  },
  {
   "cell_type": "markdown",
   "metadata": {},
   "source": [
    "Add a new line:"
   ]
  },
  {
   "cell_type": "code",
   "execution_count": 19,
   "metadata": {},
   "outputs": [],
   "source": [
    "output_file = open(\"output2.txt\", \"a\")\n",
    "output_file.write(\"This is another line of text\" + '\\n')\n",
    "output_file.close()"
   ]
  },
  {
   "cell_type": "code",
   "execution_count": 20,
   "metadata": {},
   "outputs": [
    {
     "name": "stdout",
     "output_type": "stream",
     "text": [
      "This is new text\r\n",
      "This is another line of text\r\n",
      "This is YET another line of text\r\n",
      "This is new text\r\n",
      "This is another line of text\r\n",
      "This is YET another line of text\r\n",
      "This is new text\r\n",
      "This is another line of text\r\n"
     ]
    }
   ],
   "source": [
    "!cat output2.txt"
   ]
  },
  {
   "cell_type": "markdown",
   "metadata": {},
   "source": [
    "## A safer method to open a file object"
   ]
  },
  {
   "cell_type": "markdown",
   "metadata": {},
   "source": [
    "File objects need to be closed using the file.close() method. While this is not crucial for reading files, it is for writing. If you forget to close your file after write operations, this may cause data loss. Fortunately, Python offers a content managment protocol that automates the closing of the file. You can use the content management protocol using the with statement that acts as a wrapper to ensure that your file will always close. If you want to know more about the content management protocol (and maybe want to write your own context management class) see chapter 9 of your book. For know we limit ourself on the use of the with statement instead of explaining the internal details on how it works:"
   ]
  },
  {
   "cell_type": "code",
   "execution_count": 21,
   "metadata": {},
   "outputs": [],
   "source": [
    "with open('output2.txt', 'a') as output_file:\n",
    "    output_file.write(\"This is YET another line of text\" + '\\n')"
   ]
  },
  {
   "cell_type": "code",
   "execution_count": 22,
   "metadata": {},
   "outputs": [
    {
     "name": "stdout",
     "output_type": "stream",
     "text": [
      "This is new text\r\n",
      "This is another line of text\r\n",
      "This is YET another line of text\r\n",
      "This is new text\r\n",
      "This is another line of text\r\n",
      "This is YET another line of text\r\n",
      "This is new text\r\n",
      "This is another line of text\r\n",
      "This is YET another line of text\r\n"
     ]
    }
   ],
   "source": [
    "!cat output2.txt"
   ]
  },
  {
   "cell_type": "markdown",
   "metadata": {},
   "source": [
    "Note that there is no file.close() statement. But can we still write to the file?"
   ]
  },
  {
   "cell_type": "code",
   "execution_count": 23,
   "metadata": {},
   "outputs": [
    {
     "ename": "ValueError",
     "evalue": "I/O operation on closed file.",
     "output_type": "error",
     "traceback": [
      "\u001b[0;31m---------------------------------------------------------------------------\u001b[0m",
      "\u001b[0;31mValueError\u001b[0m                                Traceback (most recent call last)",
      "\u001b[0;32m<ipython-input-23-651b787f0b4d>\u001b[0m in \u001b[0;36m<module>\u001b[0;34m()\u001b[0m\n\u001b[0;32m----> 1\u001b[0;31m \u001b[0moutput_file\u001b[0m\u001b[0;34m.\u001b[0m\u001b[0mwrite\u001b[0m\u001b[0;34m(\u001b[0m\u001b[0;34m\"ok\"\u001b[0m\u001b[0;34m)\u001b[0m\u001b[0;34m\u001b[0m\u001b[0m\n\u001b[0m",
      "\u001b[0;31mValueError\u001b[0m: I/O operation on closed file."
     ]
    }
   ],
   "source": [
    "output_file.write(\"ok\")"
   ]
  },
  {
   "cell_type": "markdown",
   "metadata": {},
   "source": [
    "As you can see, the last write operation failed because the file object was already closed. All thanks to the with statement. It is always a good idea to use the with statement when using files. "
   ]
  },
  {
   "cell_type": "markdown",
   "metadata": {},
   "source": [
    "## Excercise: Read a sequence from a file and write the reverse, complement and reverse complement to a file."
   ]
  },
  {
   "cell_type": "markdown",
   "metadata": {
    "collapsed": true
   },
   "source": [
    "Now we come to the final excersise:\n",
    "The file: <a href=\"hier correcte link\">dna.fasta</a> is a FASTA file. The FASTA format is a text-based format for representing nucleotide sequences or peptide sequences, in which nucleotides or amino acids are represented using single-letter codes. \n",
    "This is an example: <br>\n",
    "/>My_dna_sequence <br>\n",
    "atcaggatggggatggagagaggaccaaccac <br>\n",
    "acagagtagagagagaggagagagacaagata <br>\n",
    "tatatttttatacccaggagagacagatagag <br>\n",
    "\n",
    "To open the file one could use the following code:"
   ]
  },
  {
   "cell_type": "code",
   "execution_count": null,
   "metadata": {},
   "outputs": [],
   "source": [
    "open_file = open(\"dna.fasta\")"
   ]
  },
  {
   "cell_type": "markdown",
   "metadata": {},
   "source": [
    "We can check if the file object is created:"
   ]
  },
  {
   "cell_type": "code",
   "execution_count": null,
   "metadata": {},
   "outputs": [],
   "source": [
    "print(open_file)"
   ]
  },
  {
   "cell_type": "markdown",
   "metadata": {},
   "source": [
    "The file object is created but this way is not a very flexible way to open files. \n",
    "In this way, the file MUST be named \"dna.fasta\".\n",
    "This is a nightmare for the user of the program. A much more flexible way is to use command line arguments.\n",
    "In that way the program can be called including the name of the file as an argument.\n",
    "This is exactly what cat does:"
   ]
  },
  {
   "cell_type": "code",
   "execution_count": null,
   "metadata": {},
   "outputs": [],
   "source": [
    "!cat dna.fasta"
   ]
  },
  {
   "cell_type": "markdown",
   "metadata": {},
   "source": [
    "Here dna.fasta is a command line argument for the cat program."
   ]
  },
  {
   "cell_type": "markdown",
   "metadata": {},
   "source": [
    "In this way, the user can display the content with any name.\n",
    "To use command line arguments we need a specific Python library: `sys`.\n",
    "`sys` is a library that can handle command line argument using the `argv` attribute. `argv` returns a list of strings of the command line arguments.\n",
    "Import this module using the following code:"
   ]
  },
  {
   "cell_type": "code",
   "execution_count": null,
   "metadata": {},
   "outputs": [],
   "source": [
    "import sys"
   ]
  },
  {
   "cell_type": "markdown",
   "metadata": {},
   "source": [
    "The sys.argv attribute returns a list of command line arguments. All list items are strings. The first item of the list will be the name of the file. The second item will be your first command line argument. You can catch all arguments as follows:"
   ]
  },
  {
   "cell_type": "code",
   "execution_count": 24,
   "metadata": {},
   "outputs": [],
   "source": [
    "args = sys.argv # all items in a list"
   ]
  },
  {
   "cell_type": "markdown",
   "metadata": {},
   "source": [
    "Now we can catch a commandline argument with sys.argv as follows:"
   ]
  },
  {
   "cell_type": "code",
   "execution_count": null,
   "metadata": {},
   "outputs": [],
   "source": [
    "file_name = sys.argv[1] #second item from the list"
   ]
  },
  {
   "cell_type": "markdown",
   "metadata": {},
   "source": [
    "The variable file_name refers now to the first command-line argument (that will be the file name).\n",
    "Use IDLE3 to write a program that:\n",
    "- will catch the filenames from the command line\n",
    "- reads the content of the file line by line\n",
    "- generates the reverse-complement of the dna string\n",
    "- writes the reverse-complement DNA to a user-defined output file\n",
    "- organise your code in functions. For simplicity, I did not use functions in this totorial but you should use functions for your script!\n",
    "\n",
    "Note that you cannot simply run the code via IDLE3, since it expects a command-line argument from the commandline. You have to save the file first and call from the command-line your python file and an argument. For example:\n",
    "\n",
    ">rev_comp_dna.py dna.fasta dna_rev_comp.fasta"
   ]
  },
  {
   "cell_type": "markdown",
   "metadata": {},
   "source": [
    "## Solutions"
   ]
  },
  {
   "cell_type": "markdown",
   "metadata": {},
   "source": [
    "Solutions for the excercises are given  below. Programming is like playing the piano: excercize, excercize, excercize. You learn most from typing each single word yourself. If you have no clue what to do you can have a look, but only after your first and second try!\n",
    "\n",
    "<p><a href=\"Here the solution\">rev_comp_dna.py</a></p>\n",
    "\n"
   ]
  }
 ],
 "metadata": {
  "kernelspec": {
   "display_name": "Python 3",
   "language": "python",
   "name": "python3"
  },
  "language_info": {
   "codemirror_mode": {
    "name": "ipython",
    "version": 3
   },
   "file_extension": ".py",
   "mimetype": "text/x-python",
   "name": "python",
   "nbconvert_exporter": "python",
   "pygments_lexer": "ipython3",
   "version": "3.6.4"
  }
 },
 "nbformat": 4,
 "nbformat_minor": 1
}
