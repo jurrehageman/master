{
 "cells": [
  {
   "cell_type": "markdown",
   "metadata": {
    "collapsed": true
   },
   "source": [
    "# Lecture 03: Code Reuse, Functions and Modules"
   ]
  },
  {
   "cell_type": "markdown",
   "metadata": {},
   "source": [
    "## Chapters\n",
    "Chapter 4: Code Reuse: Functions and Modules <br>\n",
    "Author: Ronald Wedema"
   ]
  },
  {
   "cell_type": "markdown",
   "metadata": {},
   "source": [
    "## Functions: grouping code for reuse\n",
    "Once programs start to get a bit more serieus the amount of code usually also grows. Many times we have code that does a specific thing. And when we want this piece of code to do it's work on another variable we could just copy paste the code and as such work on multiple variables. But this ofcourse leads to code that is not maintainable (if you made an error you need to fix it everywhere). Readability is also low on these kind of copy-pasted pieces of code. \n",
    "\n",
    "To create readable and maintainable code that can also be used on different variables, we can make use of Python function. Functions are grouped pieces of code that are given a name. When refering to this name we actually run all the code that belongs to this function."
   ]
  },
  {
   "cell_type": "markdown",
   "metadata": {},
   "source": [
    "In the next example the anatomy of the Python function will be shown. There a a few concepts that go with functions.\n",
    "\n",
    "- First all functions start with the word `def`\n",
    "- Next the keyword `def` is followed by a name given to the function\n",
    "- Note the `()` after a function name, this is the place were you can pass argument(s) to the function\n",
    "- After the `()`, a single `:` appears\n",
    "- The actual code of the function starts *indented* on a new line\n",
    "- To run the code in the function we refer to it's name (don't forget the parenthesis `()`)\n"
   ]
  },
  {
   "cell_type": "code",
   "execution_count": 5,
   "metadata": {},
   "outputs": [
    {
     "name": "stdout",
     "output_type": "stream",
     "text": [
      "Before the function call\nIn the function\nIn the function\nafter the function call\n"
     ]
    }
   ],
   "source": [
    "# Here we define our function for reuse\n",
    "def my_first_function():\n",
    "    print('In the function')\n",
    "\n",
    "\n",
    "print('Before the function call')\n",
    "# call the function by using it's name\n",
    "my_first_function()\n",
    "my_first_function()\n",
    "print('after the function call')"
   ]
  },
  {
   "cell_type": "markdown",
   "metadata": {},
   "source": [
    "In the previous example we first printed a message that we are before the function call, then we **called the function twice** and finally printed a message saying that we are now after the function.\n",
    "\n",
    "Tip: it is always a good idea to give the function name a good describing name of what the function does."
   ]
  },
  {
   "cell_type": "markdown",
   "metadata": {},
   "source": [
    "###Function arguments\n",
    "So now we no know how to create a function and call it multiple times. What about the arguments that can be passed to the function?\n",
    "\n",
    "In the next example we have a function that will print a variable. This variable is given as a argument to the function. The argument is also given a name that will be accessible in the function. The argument is named `y` here, anything passed to the function will be in this `y` variable. "
   ]
  },
  {
   "cell_type": "code",
   "execution_count": 1,
   "metadata": {},
   "outputs": [
    {
     "name": "stdout",
     "output_type": "stream",
     "text": [
      "5\n10\na long sequence of characters as argument\n[1, 2, 3, 4, 5]\n{1: 'a', 2: 'b', 3: 'c'}\n"
     ]
    }
   ],
   "source": [
    "def printX(y):\n",
    "    print(y)\n",
    "\n",
    "\n",
    "printX(5)\n",
    "printX(10)\n",
    "printX('a long sequence of characters as argument')\n",
    "printX([1,2,3,4,5])\n",
    "print({1:'a', 2:'b', 3:'c'})"
   ]
  },
  {
   "cell_type": "markdown",
   "metadata": {},
   "source": [
    "In the previous example we call the same function with many different datatypes. Can you name the different datatypes beeing passed as an argument?\n",
    "\n",
    "Python does not care what type is beeing passed as an argument, as long as the following code block can handle that type. We used a simple print statement as our code block that can handle all Python datatypes."
   ]
  },
  {
   "cell_type": "markdown",
   "metadata": {},
   "source": [
    "Can you explain the next block of code?"
   ]
  },
  {
   "cell_type": "code",
   "execution_count": 29,
   "metadata": {},
   "outputs": [
    {
     "name": "stdout",
     "output_type": "stream",
     "text": [
      "Im a string in the y variable\nIm a string in the x variable\n7\n"
     ]
    }
   ],
   "source": [
    "def printX(y):\n",
    "    print(y)\n",
    "    \n",
    "\n",
    "y = 'Im a string in the y variable'\n",
    "printX(y)\n",
    "\n",
    "x = 'Im a string in the x variable'\n",
    "printX(x)\n",
    "\n",
    "yet_another_variable_containing_a_number = 7\n",
    "printX(yet_another_variable_containing_a_number)"
   ]
  },
  {
   "cell_type": "markdown",
   "metadata": {},
   "source": [
    "We can pass multiple arguments to a function, by specifying this in the function definition. In the next example we are defining a new function that will take two numbers, add these numbers and print the result."
   ]
  },
  {
   "cell_type": "code",
   "execution_count": 3,
   "metadata": {},
   "outputs": [
    {
     "name": "stdout",
     "output_type": "stream",
     "text": [
      "3\n5\n42\n"
     ]
    }
   ],
   "source": [
    "def add_two_numbers(number1, number2):\n",
    "    added_numbers = number1 + number2\n",
    "    print(added_numbers)\n",
    "    \n",
    "    \n",
    "add_two_numbers(1,2)\n",
    "add_two_numbers(2,3)\n",
    "add_two_numbers(40,2)"
   ]
  },
  {
   "cell_type": "markdown",
   "metadata": {},
   "source": [
    "What happens if we call the function with:\n",
    "    - one number?\n",
    "    - more than two numbers?\n",
    "    - not two numbers, but a number and a string?"
   ]
  },
  {
   "cell_type": "code",
   "execution_count": 4,
   "metadata": {},
   "outputs": [
    {
     "ename": "TypeError",
     "evalue": "add_two_numbers() missing 1 required positional argument: 'number2'",
     "traceback": [
      "\u001b[0;31m---------------------------------------------------------------------------\u001b[0m",
      "\u001b[0;31mTypeError\u001b[0m                                 Traceback (most recent call last)",
      "\u001b[0;32m<ipython-input-4-cf1fdfad1c57>\u001b[0m in \u001b[0;36m<module>\u001b[0;34m()\u001b[0m\n\u001b[0;32m----> 1\u001b[0;31m \u001b[0madd_two_numbers\u001b[0m\u001b[0;34m(\u001b[0m\u001b[0;36m5\u001b[0m\u001b[0;34m)\u001b[0m\u001b[0;34m\u001b[0m\u001b[0m\n\u001b[0m",
      "\u001b[0;31mTypeError\u001b[0m: add_two_numbers() missing 1 required positional argument: 'number2'"
     ],
     "output_type": "error"
    }
   ],
   "source": [
    "add_two_numbers(5)"
   ]
  },
  {
   "cell_type": "markdown",
   "metadata": {},
   "source": [
    "We get a type error saying that we are missing one of the arguments, namely the second one (number2)"
   ]
  },
  {
   "cell_type": "code",
   "execution_count": 5,
   "metadata": {
    "collapsed": true
   },
   "outputs": [
    {
     "ename": "TypeError",
     "evalue": "add_two_numbers() takes 2 positional arguments but 3 were given",
     "traceback": [
      "\u001b[0;31m---------------------------------------------------------------------------\u001b[0m",
      "\u001b[0;31mTypeError\u001b[0m                                 Traceback (most recent call last)",
      "\u001b[0;32m<ipython-input-5-cc038dca8d73>\u001b[0m in \u001b[0;36m<module>\u001b[0;34m()\u001b[0m\n\u001b[0;32m----> 1\u001b[0;31m \u001b[0madd_two_numbers\u001b[0m\u001b[0;34m(\u001b[0m\u001b[0;36m5\u001b[0m\u001b[0;34m,\u001b[0m\u001b[0;36m5\u001b[0m\u001b[0;34m,\u001b[0m\u001b[0;36m5\u001b[0m\u001b[0;34m)\u001b[0m\u001b[0;34m\u001b[0m\u001b[0m\n\u001b[0m",
      "\u001b[0;31mTypeError\u001b[0m: add_two_numbers() takes 2 positional arguments but 3 were given"
     ],
     "output_type": "error"
    }
   ],
   "source": [
    "add_two_numbers(5,5,5)"
   ]
  },
  {
   "cell_type": "markdown",
   "metadata": {},
   "source": [
    "Again a type error is trown, but now specifying we have more than 2 arguments. "
   ]
  },
  {
   "cell_type": "code",
   "execution_count": 6,
   "metadata": {},
   "outputs": [
    {
     "ename": "TypeError",
     "evalue": "unsupported operand type(s) for +: 'int' and 'str'",
     "traceback": [
      "\u001b[0;31m---------------------------------------------------------------------------\u001b[0m",
      "\u001b[0;31mTypeError\u001b[0m                                 Traceback (most recent call last)",
      "\u001b[0;32m<ipython-input-6-cdf9ee51429d>\u001b[0m in \u001b[0;36m<module>\u001b[0;34m()\u001b[0m\n\u001b[0;32m----> 1\u001b[0;31m \u001b[0madd_two_numbers\u001b[0m\u001b[0;34m(\u001b[0m\u001b[0;36m5\u001b[0m\u001b[0;34m,\u001b[0m\u001b[0;34m'hello'\u001b[0m\u001b[0;34m)\u001b[0m\u001b[0;34m\u001b[0m\u001b[0m\n\u001b[0m",
      "\u001b[0;32m<ipython-input-3-7bbb72243abe>\u001b[0m in \u001b[0;36madd_two_numbers\u001b[0;34m(number1, number2)\u001b[0m\n\u001b[1;32m      1\u001b[0m \u001b[0;32mdef\u001b[0m \u001b[0madd_two_numbers\u001b[0m\u001b[0;34m(\u001b[0m\u001b[0mnumber1\u001b[0m\u001b[0;34m,\u001b[0m \u001b[0mnumber2\u001b[0m\u001b[0;34m)\u001b[0m\u001b[0;34m:\u001b[0m\u001b[0;34m\u001b[0m\u001b[0m\n\u001b[0;32m----> 2\u001b[0;31m     \u001b[0madded_numbers\u001b[0m \u001b[0;34m=\u001b[0m \u001b[0mnumber1\u001b[0m \u001b[0;34m+\u001b[0m \u001b[0mnumber2\u001b[0m\u001b[0;34m\u001b[0m\u001b[0m\n\u001b[0m\u001b[1;32m      3\u001b[0m     \u001b[0mprint\u001b[0m\u001b[0;34m(\u001b[0m\u001b[0madded_numbers\u001b[0m\u001b[0;34m)\u001b[0m\u001b[0;34m\u001b[0m\u001b[0m\n\u001b[1;32m      4\u001b[0m \u001b[0;34m\u001b[0m\u001b[0m\n\u001b[1;32m      5\u001b[0m \u001b[0;34m\u001b[0m\u001b[0m\n",
      "\u001b[0;31mTypeError\u001b[0m: unsupported operand type(s) for +: 'int' and 'str'"
     ],
     "output_type": "error"
    }
   ],
   "source": [
    "add_two_numbers(5,'hello')"
   ]
  },
  {
   "cell_type": "markdown",
   "metadata": {},
   "source": [
    "In this case we are trying two add a int and a string which will throw a TypeError."
   ]
  },
  {
   "cell_type": "markdown",
   "metadata": {},
   "source": [
    "###Function return\n",
    "Variables created in a function are only accessible in that function. For example in the `add_two_numbers()` function. The variable `added_numbers` can only be used by code also in that function. If we try to access the `added_numbers` variable outside the function we will get an error. "
   ]
  },
  {
   "cell_type": "code",
   "execution_count": 7,
   "metadata": {},
   "outputs": [
    {
     "name": "stdout",
     "output_type": "stream",
     "text": [
      "11\nafter the function call\n"
     ]
    },
    {
     "ename": "NameError",
     "evalue": "name 'added_numbers' is not defined",
     "traceback": [
      "\u001b[0;31m---------------------------------------------------------------------------\u001b[0m",
      "\u001b[0;31mNameError\u001b[0m                                 Traceback (most recent call last)",
      "\u001b[0;32m<ipython-input-7-7680cc4f570e>\u001b[0m in \u001b[0;36m<module>\u001b[0;34m()\u001b[0m\n\u001b[1;32m      1\u001b[0m \u001b[0madd_two_numbers\u001b[0m\u001b[0;34m(\u001b[0m\u001b[0;36m5\u001b[0m\u001b[0;34m,\u001b[0m\u001b[0;36m6\u001b[0m\u001b[0;34m)\u001b[0m\u001b[0;34m\u001b[0m\u001b[0m\n\u001b[1;32m      2\u001b[0m \u001b[0mprint\u001b[0m\u001b[0;34m(\u001b[0m\u001b[0;34m'after the function call'\u001b[0m\u001b[0;34m)\u001b[0m\u001b[0;34m\u001b[0m\u001b[0m\n\u001b[0;32m----> 3\u001b[0;31m \u001b[0mprint\u001b[0m\u001b[0;34m(\u001b[0m\u001b[0madded_numbers\u001b[0m\u001b[0;34m)\u001b[0m\u001b[0;34m\u001b[0m\u001b[0m\n\u001b[0m",
      "\u001b[0;31mNameError\u001b[0m: name 'added_numbers' is not defined"
     ],
     "output_type": "error"
    }
   ],
   "source": [
    "add_two_numbers(5,6)\n",
    "print('after the function call')\n",
    "print(added_numbers)"
   ]
  },
  {
   "cell_type": "markdown",
   "metadata": {},
   "source": [
    "The 11 is printed inside from the function. When we again want to print the result of the addition outside the function an error is trown. The `NameError` trown indicating that the name `added_numbers` is not defined. To use variables outside of the function they are created in we have to use `return` and catch what has been returned in a new variable when we call the function."
   ]
  },
  {
   "cell_type": "code",
   "execution_count": 36,
   "metadata": {},
   "outputs": [
    {
     "name": "stdout",
     "output_type": "stream",
     "text": [
      "10\n"
     ]
    }
   ],
   "source": [
    "def return_added_numbers(x,y):\n",
    "    added = x + y\n",
    "    return added\n",
    "\n",
    "\n",
    "catched_added_numbers = return_added_numbers(5,5)\n",
    "print(catched_added_numbers)\n"
   ]
  },
  {
   "cell_type": "markdown",
   "metadata": {},
   "source": [
    "If you return more than one variable from a function they will be returned inside of a tuple"
   ]
  },
  {
   "cell_type": "code",
   "execution_count": 12,
   "metadata": {},
   "outputs": [
    {
     "name": "stdout",
     "output_type": "stream",
     "text": [
      "<class 'tuple'>\n11 \n 24\n11\n24\n"
     ]
    }
   ],
   "source": [
    "def return_added_numbers_and_muliplication(x,y):\n",
    "    added = x + y\n",
    "    multiplication = x * y\n",
    "    return added, multiplication\n",
    "\n",
    "returned_values_as_tuple = return_added_numbers_and_muliplication(3,8)\n",
    "print(type(returned_values_as_tuple))\n",
    "print(returned_values_as_tuple[0], \"\\n\", returned_values_as_tuple[1])"
   ]
  },
  {
   "cell_type": "markdown",
   "metadata": {},
   "source": [
    "There is a trick to have the unpack the values from the tuple and place them in variables. When catching the values use the same number of variables (seperated by comma's) as beeing returned by the function. See the next example where we call the same function as above but now use two variables to save the result from the function in.  "
   ]
  },
  {
   "cell_type": "code",
   "execution_count": 14,
   "metadata": {},
   "outputs": [
    {
     "name": "stdout",
     "output_type": "stream",
     "text": [
      "11\n24\n"
     ]
    }
   ],
   "source": [
    "returned_first_value, returned_second_value = return_added_numbers_and_muliplication(3,8)\n",
    "print(returned_first_value)\n",
    "print(returned_second_value)\n"
   ]
  },
  {
   "cell_type": "markdown",
   "metadata": {},
   "source": [
    "###Default function arguments\n",
    "If we call a function that takes arguments, we have to give variables to the function that will take the place of these arguments. In some cases it can be handy to have default values for function arguments as shown in the next example. Watch closelly what happens if: we call the function with no arguments, or omitted one of the two."
   ]
  },
  {
   "cell_type": "code",
   "execution_count": 21,
   "metadata": {},
   "outputs": [
    {
     "name": "stdout",
     "output_type": "stream",
     "text": [
      "7\n4\n7\n6\n"
     ]
    }
   ],
   "source": [
    "def function_with_default_arguments(x=5, y=2):\n",
    "    return x + y\n",
    "\n",
    "\n",
    "result_from_function_with_default_arguments = function_with_default_arguments()\n",
    "print(result_from_function_with_default_arguments)\n",
    "\n",
    "result_from_function_with_default_arguments = function_with_default_arguments(2)\n",
    "print(result_from_function_with_default_arguments)\n",
    "\n",
    "result_from_function_with_default_arguments = function_with_default_arguments(5)\n",
    "print(result_from_function_with_default_arguments)\n",
    "\n",
    "result_from_function_with_default_arguments = function_with_default_arguments(3, 3)\n",
    "print(result_from_function_with_default_arguments)"
   ]
  },
  {
   "cell_type": "markdown",
   "metadata": {},
   "source": [
    "Note: how only the first default argument is replaced if we call the function with one argument. Pyhton replaces the arguments positional by variables used when calling the function."
   ]
  },
  {
   "cell_type": "markdown",
   "metadata": {},
   "source": [
    "###Named function arguments\n",
    "There is another way to call function and pass arguments and that is by using the names of the arguments specified by the function. In this way the arguments passed do not have to be in the correct order (as in positional arguments passing)\n"
   ]
  },
  {
   "cell_type": "code",
   "execution_count": 27,
   "metadata": {},
   "outputs": [
    {
     "name": "stdout",
     "output_type": "stream",
     "text": [
      "8\n13\n8\n10\n"
     ]
    }
   ],
   "source": [
    "def function_with_named_arguments(x=5, y=2):\n",
    "    return x + y\n",
    "\n",
    "\n",
    "print(function_with_default_arguments(y=3))\n",
    "print(function_with_default_arguments(y=3, x=10))\n",
    "print(function_with_default_arguments(x=6))\n",
    "\n",
    "print(function_with_default_arguments(4,6))"
   ]
  },
  {
   "cell_type": "markdown",
   "metadata": {},
   "source": [
    "Note that in the last invocation of the function we did not use the named arguments and Python switched back to positional arguments."
   ]
  },
  {
   "cell_type": "markdown",
   "metadata": {},
   "source": [
    "###Documentation\n",
    "To help your fellow programmers understand and maintain your written code, it is always good to add descriptions to your code specifying what the role of your code is. This can be done using so called **docstrings**. These are strings enclosed by triple double qoutes `\"\"\"help text\"\"\"`. Triple double qoutes are the only qoutes that allow you to write multi line strings. These help messages are also shown when you call `help()` on functions.\n",
    "\n"
   ]
  },
  {
   "cell_type": "code",
   "execution_count": 40,
   "metadata": {},
   "outputs": [
    {
     "name": "stdout",
     "output_type": "stream",
     "text": [
      "Help on function function_with_help in module __main__:\n\nfunction_with_help(x, y)\n    This function adds two numbers\n    :return: added numbers\n\n"
     ]
    }
   ],
   "source": [
    "def function_with_help(x,y):\n",
    "    \"\"\"\n",
    "    This function adds two numbers\n",
    "    :return: added numbers\n",
    "    \"\"\"\n",
    "    \n",
    "    return x + y\n",
    "\n",
    "help(function_with_help)"
   ]
  },
  {
   "cell_type": "markdown",
   "metadata": {},
   "source": [
    "###Modules"
   ]
  },
  {
   "cell_type": "code",
   "execution_count": null,
   "metadata": {},
   "outputs": [],
   "source": []
  }
 ],
 "metadata": {
  "kernelspec": {
   "display_name": "Python 2",
   "language": "python",
   "name": "python2"
  },
  "language_info": {
   "codemirror_mode": {
    "name": "ipython",
    "version": 2
   },
   "file_extension": ".py",
   "mimetype": "text/x-python",
   "name": "python",
   "nbconvert_exporter": "python",
   "pygments_lexer": "ipython2",
   "version": "2.7.6"
  }
 },
 "nbformat": 4,
 "nbformat_minor": 0
}
