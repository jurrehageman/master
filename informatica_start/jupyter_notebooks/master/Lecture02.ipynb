{
 "cells": [
  {
   "cell_type": "markdown",
   "metadata": {},
   "source": [
    "# Lecture 02: List, Tuples and Dictionaries"
   ]
  },
  {
   "cell_type": "markdown",
   "metadata": {},
   "source": [
    "## Chapters\n",
    "Chapter 2: List Data: Working with Ordered Data <br>\n",
    "Chapter 3: Structured Data: Working with Structured Data"
   ]
  },
  {
   "cell_type": "markdown",
   "metadata": {},
   "source": [
    "## Working with lists"
   ]
  },
  {
   "attachments": {},
   "cell_type": "markdown",
   "metadata": {},
   "source": [
    "List are mutable and ordered collections\n",
    "They have the following properties:\n",
    "- Lists are … lists (of objects)\n",
    "- They are in other languages also called sequences, vectors or arrays\n",
    "- They contain ordered series of objects: characters, strings, numbers, or any other Python object\n",
    "- They are quite similar to strings in many ways but with one important exception: they are mutable\n",
    "- Lists are created using square brackets, with elements separated by commas\n"
   ]
  },
  {
   "cell_type": "markdown",
   "metadata": {},
   "source": [
    "Here is an example of a Python list:"
   ]
  },
  {
   "cell_type": "code",
   "execution_count": 1,
   "metadata": {},
   "outputs": [
    {
     "name": "stdout",
     "output_type": "stream",
     "text": [
      "<class 'list'>\n"
     ]
    }
   ],
   "source": [
    "molecules = ['DNA', 'RNA', 'Protein']\n",
    "print(type(molecules))"
   ]
  },
  {
   "cell_type": "markdown",
   "metadata": {},
   "source": [
    "As you can see, the data type is a list. In a list, you can combine any data type:"
   ]
  },
  {
   "cell_type": "code",
   "execution_count": 2,
   "metadata": {},
   "outputs": [
    {
     "name": "stdout",
     "output_type": "stream",
     "text": [
      "<class 'bool'>\n",
      "<class 'int'>\n",
      "<class 'float'>\n",
      "<class 'str'>\n",
      "<class 'tuple'>\n",
      "<class 'list'>\n"
     ]
    }
   ],
   "source": [
    "a_lot_of_types = [True, 1, 1.0, \"string\", ('strings', 'in', 'tuple'), ['strings', 'in', 'list']]\n",
    "for i in a_lot_of_types: #walk through all items using a for loop\n",
    "    print(type(i))"
   ]
  },
  {
   "cell_type": "markdown",
   "metadata": {},
   "source": [
    "They have an order and you can select items by indexing:"
   ]
  },
  {
   "cell_type": "code",
   "execution_count": 3,
   "metadata": {},
   "outputs": [
    {
     "name": "stdout",
     "output_type": "stream",
     "text": [
      "DNA\n",
      "Protein\n"
     ]
    }
   ],
   "source": [
    "print(molecules[0])\n",
    "print(molecules[2])"
   ]
  },
  {
   "cell_type": "markdown",
   "metadata": {},
   "source": [
    "List are dynamic: you can add, delete and change items:"
   ]
  },
  {
   "cell_type": "code",
   "execution_count": 4,
   "metadata": {},
   "outputs": [
    {
     "name": "stdout",
     "output_type": "stream",
     "text": [
      "1 ['Jan']\n",
      "2 ['Jan', 'Piet']\n",
      "3 ['Jan', 'Piet', 'Truus', 'Lieske', 'Kim', 'Janneke']\n",
      "4 ['Piet', 'Truus', 'Lieske', 'Kim', 'Janneke']\n",
      "5 ['Piet', 'Lieske', 'Kim', 'Janneke']\n",
      "6 ['Piet', 'Lieske', 'Janneke']\n",
      "7 ['Pieter', 'Lieske', 'Janneke']\n"
     ]
    }
   ],
   "source": [
    "names = ['Jan']\n",
    "print(1, names)\n",
    "names.append('Piet') #append item to the end\n",
    "print(2, names)\n",
    "names = names + ['Truus', 'Lieske', 'Kim', 'Janneke'] #concatenates two lists\n",
    "print(3, names)\n",
    "names.pop(0) #delete first item\n",
    "print(4, names)\n",
    "names.remove('Truus') #Remove item\n",
    "print(5, names)\n",
    "del names[2] #remove by index\n",
    "print(6, names)\n",
    "names[0] = 'Pieter' #replace item\n",
    "print(7, names)"
   ]
  },
  {
   "cell_type": "markdown",
   "metadata": {},
   "source": [
    "Like strings (or any other collection), you can slice a list:"
   ]
  },
  {
   "cell_type": "code",
   "execution_count": 5,
   "metadata": {},
   "outputs": [
    {
     "name": "stdout",
     "output_type": "stream",
     "text": [
      "['Pieter', 'Lieske', 'Janneke', 'Mies', 'Roos', 'Gert']\n",
      "['Pieter', 'Lieske']\n",
      "['Gert', 'Roos', 'Mies', 'Janneke', 'Lieske', 'Pieter']\n",
      "['Roos', 'Gert']\n"
     ]
    }
   ],
   "source": [
    "names = names + ['Mies', 'Roos', 'Gert']\n",
    "print(names)\n",
    "print(names[0:2])\n",
    "print(names[::-1]) #slice that reverses the order\n",
    "#catch slice in variable:\n",
    "new_list = names[4:] #Note that a slice ALWAYS returns the same data type\n",
    "print(new_list) "
   ]
  },
  {
   "cell_type": "markdown",
   "metadata": {},
   "source": [
    "list.append() is a list specific method. To find all methods on lists type:"
   ]
  },
  {
   "cell_type": "code",
   "execution_count": 6,
   "metadata": {},
   "outputs": [
    {
     "data": {
      "text/plain": [
       "['__add__',\n",
       " '__class__',\n",
       " '__contains__',\n",
       " '__delattr__',\n",
       " '__delitem__',\n",
       " '__dir__',\n",
       " '__doc__',\n",
       " '__eq__',\n",
       " '__format__',\n",
       " '__ge__',\n",
       " '__getattribute__',\n",
       " '__getitem__',\n",
       " '__gt__',\n",
       " '__hash__',\n",
       " '__iadd__',\n",
       " '__imul__',\n",
       " '__init__',\n",
       " '__init_subclass__',\n",
       " '__iter__',\n",
       " '__le__',\n",
       " '__len__',\n",
       " '__lt__',\n",
       " '__mul__',\n",
       " '__ne__',\n",
       " '__new__',\n",
       " '__reduce__',\n",
       " '__reduce_ex__',\n",
       " '__repr__',\n",
       " '__reversed__',\n",
       " '__rmul__',\n",
       " '__setattr__',\n",
       " '__setitem__',\n",
       " '__sizeof__',\n",
       " '__str__',\n",
       " '__subclasshook__',\n",
       " 'append',\n",
       " 'clear',\n",
       " 'copy',\n",
       " 'count',\n",
       " 'extend',\n",
       " 'index',\n",
       " 'insert',\n",
       " 'pop',\n",
       " 'remove',\n",
       " 'reverse',\n",
       " 'sort']"
      ]
     },
     "execution_count": 6,
     "metadata": {},
     "output_type": "execute_result"
    }
   ],
   "source": [
    "dir(list)"
   ]
  },
  {
   "cell_type": "markdown",
   "metadata": {},
   "source": [
    "You can make nested lists (list of lists) which represents a table:"
   ]
  },
  {
   "cell_type": "code",
   "execution_count": 7,
   "metadata": {},
   "outputs": [],
   "source": [
    "table = [[1, 2, 3],[4, 5, 6],[7, 8, 9]]"
   ]
  },
  {
   "cell_type": "markdown",
   "metadata": {},
   "source": [
    "To show that this actually represents a table:"
   ]
  },
  {
   "cell_type": "code",
   "execution_count": 8,
   "metadata": {},
   "outputs": [
    {
     "name": "stdout",
     "output_type": "stream",
     "text": [
      "[1, 2, 3]\n",
      "[4, 5, 6]\n",
      "[7, 8, 9]\n"
     ]
    }
   ],
   "source": [
    "for row in table:\n",
    "    print(row)"
   ]
  },
  {
   "cell_type": "markdown",
   "metadata": {},
   "source": [
    "To get the item from the second column and the second row:"
   ]
  },
  {
   "cell_type": "code",
   "execution_count": 9,
   "metadata": {},
   "outputs": [
    {
     "name": "stdout",
     "output_type": "stream",
     "text": [
      "5\n"
     ]
    }
   ],
   "source": [
    "print(table[1][1])"
   ]
  },
  {
   "cell_type": "markdown",
   "metadata": {},
   "source": [
    "Some usefull list methods are count and index:"
   ]
  },
  {
   "cell_type": "code",
   "execution_count": 10,
   "metadata": {},
   "outputs": [
    {
     "name": "stdout",
     "output_type": "stream",
     "text": [
      "1 ['Pieter', 'Lieske', 'Janneke', 'Mies', 'Roos', 'Gert']\n",
      "2 ['Pieter', 'Lieske', 'Janneke', 'Mies', 'Roos', 'Gert', 'Lieske']\n",
      "3 2\n",
      "4 2\n"
     ]
    }
   ],
   "source": [
    "print(1, names)\n",
    "names.append('Lieske')\n",
    "print(2, names)\n",
    "print(3, names.count('Lieske'))\n",
    "print(4, names.index('Janneke'))"
   ]
  },
  {
   "cell_type": "markdown",
   "metadata": {},
   "source": [
    "And there are some usefull functions that work on lists (and any other iterable):"
   ]
  },
  {
   "cell_type": "code",
   "execution_count": 11,
   "metadata": {},
   "outputs": [
    {
     "name": "stdout",
     "output_type": "stream",
     "text": [
      "1 7\n",
      "2 14\n",
      "3 4\n",
      "4 42\n"
     ]
    }
   ],
   "source": [
    "numbers = [12, 14, 7, 9]\n",
    "print(1, min(numbers))\n",
    "print(2, max(numbers))\n",
    "print(3, len(numbers))\n",
    "print(4, sum(numbers))\n"
   ]
  },
  {
   "cell_type": "markdown",
   "metadata": {},
   "source": [
    "### Warning with making a copy of a list"
   ]
  },
  {
   "cell_type": "markdown",
   "metadata": {},
   "source": [
    "The following code will NOT make a copy of a list:"
   ]
  },
  {
   "cell_type": "code",
   "execution_count": 12,
   "metadata": {},
   "outputs": [
    {
     "name": "stdout",
     "output_type": "stream",
     "text": [
      "1 ['DNA', 'RNA']\n",
      "2 ['DNA', 'RNA']\n",
      "3 ['DNA', 'RNA', 'Protein']\n",
      "4 ['DNA', 'RNA', 'Protein']\n",
      "5 True\n",
      "6 True\n"
     ]
    }
   ],
   "source": [
    "my_list = ['DNA', 'RNA']\n",
    "print(1, my_list)\n",
    "my_copy = my_list # This is not a copy but a reference to the same object in memory\n",
    "print(2, my_copy)\n",
    "my_copy.append('Protein')\n",
    "print(3, my_list)\n",
    "print(4, my_copy)\n",
    "print(5, my_list == my_copy) #the content of the list is the same\n",
    "print(6, my_list is my_copy) #but it is also the same object in memory!"
   ]
  },
  {
   "cell_type": "markdown",
   "metadata": {},
   "source": [
    "To make a real copy either slice the list or use the copy method"
   ]
  },
  {
   "cell_type": "code",
   "execution_count": 13,
   "metadata": {},
   "outputs": [
    {
     "name": "stdout",
     "output_type": "stream",
     "text": [
      "1 True\n",
      "2 False\n",
      "3 ['DNA', 'RNA', 'Protein']\n",
      "4 ['DNA', 'RNA', 'Protein', 'Lipid']\n",
      "5 ['DNA', 'RNA', 'Protein', 'Carbohydrate']\n"
     ]
    }
   ],
   "source": [
    "my_real_copy = my_list[:] #slices the the objects from my_list\n",
    "my_second_real_copy = my_list.copy()\n",
    "print(1, my_list == my_real_copy) #the content of the list is the same\n",
    "print(2, my_list is my_real_copy) #but now it is NOT the same object in memory!\n",
    "my_real_copy.append('Lipid')\n",
    "my_second_real_copy.append('Carbohydrate')\n",
    "print(3, my_list)\n",
    "print(4, my_real_copy)\n",
    "print(5, my_second_real_copy)\n"
   ]
  },
  {
   "cell_type": "markdown",
   "metadata": {},
   "source": [
    "### From list to string"
   ]
  },
  {
   "cell_type": "markdown",
   "metadata": {},
   "source": [
    "You can stringify a list using the ''.join() method (which is technically a string method):"
   ]
  },
  {
   "cell_type": "code",
   "execution_count": 14,
   "metadata": {},
   "outputs": [
    {
     "name": "stdout",
     "output_type": "stream",
     "text": [
      "1 ['DNA', 'RNA', 'Protein']\n",
      "2 DNARNAProtein\n",
      "3 DNA,RNA,Protein\n"
     ]
    }
   ],
   "source": [
    "print(1, my_list)\n",
    "stringified_list = ''.join(my_list)\n",
    "print(2, stringified_list)\n",
    "stringified_list_commas = ','.join(my_list) #use , as a seperator\n",
    "print(3, stringified_list_commas)"
   ]
  }
 ],
 "metadata": {
  "kernelspec": {
   "display_name": "Python 3",
   "language": "python",
   "name": "python3"
  },
  "language_info": {
   "codemirror_mode": {
    "name": "ipython",
    "version": 3
   },
   "file_extension": ".py",
   "mimetype": "text/x-python",
   "name": "python",
   "nbconvert_exporter": "python",
   "pygments_lexer": "ipython3",
   "version": "3.6.0"
  }
 },
 "nbformat": 4,
 "nbformat_minor": 2
}
