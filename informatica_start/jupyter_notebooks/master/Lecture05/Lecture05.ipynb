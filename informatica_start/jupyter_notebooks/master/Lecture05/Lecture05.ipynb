{
 "cells": [
  {
   "cell_type": "markdown",
   "metadata": {
    "collapsed": true
   },
   "source": [
    "# Lecture 05: A little bit of class"
   ]
  },
  {
   "cell_type": "markdown",
   "metadata": {},
   "source": [
    "## Chapters\n",
    "Chapter 8: A little bit of class: Abstracting Behavior and State  \n",
    "Author: Ronald Wedema"
   ]
  },
  {
   "cell_type": "markdown",
   "metadata": {},
   "source": [
    "## Classes\n",
    "In Python everything is an object and even without knowing it we have been using these\n",
    "objects. We can recognize an object by the **dot** (**.**) notation that we have to use to get access to the functions and variables of an object. In object terminology a class function is called a method and a class variable is called an attribute.\n",
    "\n",
    "For example, remember the string.upper() method? This is an example of calling the upper() method on the string object. We can see that we used the dot operator after the name of the object we want to use and that the method will work in the variables that are saved in the object (called the object state).\n",
    "\n",
    "In general we can say that objects have a **state** (variables or **attributes** called in objects) and **behavior** (functions or **methods** calles in objects) that work on these variables).\n",
    "\n",
    "Objects are defined in so called **classes**. Which are the blueprint of the object to be created. Object can be called into live (object instantiation) by assigning this blueprint to a variable.\n",
    "\n",
    "There are a few things that should be kept in mind when writing classes.\n",
    " \n",
    "- class names start with a capital letter and are camelcase\n",
    "- class definition start with the keyword class\n",
    "- After the class name there is a semicolon (:)\n",
    "\n",
    "Let's create a simple class definintion and call the object into life by assigning it to a variable.\n",
    "\n"
   ]
  },
  {
   "cell_type": "code",
   "execution_count": 5,
   "metadata": {},
   "outputs": [
    {
     "name": "stdout",
     "output_type": "stream",
     "text": [
      "This is a variable inside the object\n"
     ]
    }
   ],
   "source": [
    "class Firstobject:\n",
    "    objectVariable = 'This is a variable inside the object'\n",
    "\n",
    "\n",
    "myFirstCreatedObject = Firstobject()\n",
    "print(myFirstCreatedObject.objectVariable)"
   ]
  },
  {
   "cell_type": "markdown",
   "metadata": {},
   "source": [
    "As we can see in the previous example, we access the object attribute (variable) by accessing it through the use of the dot (.). \n",
    "So how is this any different than creating a function that returns a string?, well in the previous example we only added state to our object, but we can add behaviour aswell in the form of methods and this is where the power of **Object Oriented Programming** (OOP) lies. The combination of data and operations into a single package. If we just want to store data we could have used a list or a dictionary and if we would only like to perfom some action we could write a function, if on the other hand we would like to combine data and operations than we should think objects."
   ]
  },
  {
   "cell_type": "code",
   "execution_count": 22,
   "metadata": {
    "collapsed": false
   },
   "outputs": [
    {
     "name": "stdout",
     "output_type": "stream",
     "text": [
      "This is a variable inside the object\n"
     ]
    }
   ],
   "source": [
    "class SecondObjectWithMethods:\n",
    "    objectVariable = 'This is a variable inside the object'\n",
    "\n",
    "    def objectMethod(self):\n",
    "        print(self.objectVariable)\n",
    "\n",
    "\n",
    "mySecondCreatedObject = SecondObjectWithMethods()\n",
    "mySecondCreatedObject.objectMethod()"
   ]
  },
  {
   "cell_type": "markdown",
   "metadata": {},
   "source": [
    "In creating the object we see nothing special, just assign the class to a variable to bring the object into live. But what is that **self** argument doing in the `objectMethod` and again the **self** in the print statement when refering to the objectVariable (`self.objectVariable`)? \n",
    "\n",
    "**self** is a reference to the object created and is **always passed as the first argument of any object method** and this is how attributes of the object are kept local to that object. Instead of writing a function like: `def somefunction(): pass`, we now have to write the method like `def someObjectMethod(self)`. And when calling an attribute in the object we have to use self to acces it. This ensures that even when the method has finished (and all variables are removed by the garbage collector) the attribute still lives in on the object level and is accessible.\n",
    "\n",
    "The strange thing is we do not need to pass self as an argument from outside the object. Look at the previous example and note that when the object is created we call the objectMethod using the dot notation and we did not pass self as the first argument. This is because the Python interpreter does this for you.\n",
    "\n",
    "The same goes for calling a method from another method in the object, we have to use the self reference to point to the method, as is shown in the next example."
   ]
  },
  {
   "cell_type": "code",
   "execution_count": 3,
   "metadata": {},
   "outputs": [
    {
     "name": "stdout",
     "output_type": "stream",
     "text": [
      "Inside method_one\n"
     ]
    }
   ],
   "source": [
    "class MethodCalling:\n",
    "    def method_one(self):\n",
    "        print('Inside method_one')\n",
    "    \n",
    "    def method_two(self):\n",
    "        self.method_one()\n",
    "\n",
    "\n",
    "ObjectMethodCalling = MethodCalling()\n",
    "ObjectMethodCalling.method_two()"
   ]
  },
  {
   "cell_type": "markdown",
   "metadata": {},
   "source": [
    "What happens if we create multiple objects of the same type (having the same class definition)."
   ]
  },
  {
   "cell_type": "code",
   "execution_count": 8,
   "metadata": {},
   "outputs": [
    {
     "name": "stdout",
     "output_type": "stream",
     "text": [
      "This is a variable inside the object\nThis is a variable inside the object\nThis is a variable inside the object\n"
     ]
    }
   ],
   "source": [
    "first = Firstobject()\n",
    "second = Firstobject()\n",
    "thirth = Firstobject()\n",
    "\n",
    "print(first.objectVariable)\n",
    "print(second.objectVariable)\n",
    "print(thirth.objectVariable)"
   ]
  },
  {
   "cell_type": "markdown",
   "metadata": {},
   "source": [
    "As expected each object contains exactly the same attribute. However there is something going on here, have a look at the example below and try to find out what has happend."
   ]
  },
  {
   "cell_type": "code",
   "execution_count": 11,
   "metadata": {},
   "outputs": [
    {
     "name": "stdout",
     "output_type": "stream",
     "text": [
      "Different string\nYet another different string\nDifferent string\nYet another different string\n"
     ]
    }
   ],
   "source": [
    "first.objectVariable = 'Different string'\n",
    "print(first.objectVariable)\n",
    "print(second.objectVariable)\n",
    "\n",
    "Firstobject.objectVariable = 'Yet another different string'\n",
    "print(first.objectVariable)\n",
    "print(second.objectVariable)"
   ]
  },
  {
   "cell_type": "markdown",
   "metadata": {},
   "source": [
    "TODO: explain namespace, class attributes vs instance attributes!"
   ]
  },
  {
   "cell_type": "markdown",
   "metadata": {},
   "source": [
    "As we can see in the previous example there are quite a lot of (funny looking) methods we get for free. These methods are for you to implement and change default behaviour or just leave them as is. We will discuss a few handy methods that you should know of. Using these methods with the double underscore at the front and back of the method name is called **hooking**, and we are hooking (and overwritting) into the existing Python methods."
   ]
  },
  {
   "cell_type": "markdown",
   "metadata": {},
   "source": [
    "## Inheritance\n",
    "Python objects can get methods from other objects by inheritance and by default every created object in Python inherits methods from the generic Python Object.\n",
    "We can see this when we create an empty object and use `dir()` to show which methods and attributes are available."
   ]
  },
  {
   "cell_type": "code",
   "execution_count": 12,
   "metadata": {},
   "outputs": [
    {
     "data": {
      "text/plain": [
       "['__class__',\n '__delattr__',\n '__dict__',\n '__dir__',\n '__doc__',\n '__eq__',\n '__format__',\n '__ge__',\n '__getattribute__',\n '__gt__',\n '__hash__',\n '__init__',\n '__init_subclass__',\n '__le__',\n '__lt__',\n '__module__',\n '__ne__',\n '__new__',\n '__reduce__',\n '__reduce_ex__',\n '__repr__',\n '__setattr__',\n '__sizeof__',\n '__str__',\n '__subclasshook__',\n '__weakref__']"
      ]
     },
     "execution_count": 12,
     "metadata": {},
     "output_type": "execute_result"
    }
   ],
   "source": [
    "class EmptyObject:\n",
    "    pass\n",
    "\n",
    "NothingInHere = EmptyObject()\n",
    "dir(NothingInHere)"
   ]
  },
  {
   "cell_type": "markdown",
   "metadata": {},
   "source": [
    "When you want to inherit the methods from another class you simply pass the class name to inherit from as argument to the new class definition. The previous example could also be written as in the  next example, but beacuse every class inherits by default from thePythin generic Object we omitted it in the previous example,"
   ]
  },
  {
   "cell_type": "code",
   "execution_count": 14,
   "metadata": {},
   "outputs": [
    {
     "data": {
      "text/plain": [
       "['__class__',\n '__delattr__',\n '__dict__',\n '__dir__',\n '__doc__',\n '__eq__',\n '__format__',\n '__ge__',\n '__getattribute__',\n '__gt__',\n '__hash__',\n '__init__',\n '__init_subclass__',\n '__le__',\n '__lt__',\n '__module__',\n '__ne__',\n '__new__',\n '__reduce__',\n '__reduce_ex__',\n '__repr__',\n '__setattr__',\n '__sizeof__',\n '__str__',\n '__subclasshook__',\n '__weakref__']"
      ]
     },
     "execution_count": 14,
     "metadata": {},
     "output_type": "execute_result"
    }
   ],
   "source": [
    "class EmptyObject(object):\n",
    "    pass\n",
    "\n",
    "StillNothingInHere = EmptyObject()\n",
    "dir(StillNothingInHere)"
   ]
  },
  {
   "cell_type": "markdown",
   "metadata": {},
   "source": [
    "As we can see in the previous example there are quite a lot of (funny looking) methods we get for free. These methods are for you to implement and change default behaviour or just leave them as is. We will discuss a few handy methods that you should know of. Using these methods with the double underscore at the front and back of the method name is called **hooking**, and we are hooking (and overwritting) into the existing Python methods."
   ]
  },
  {
   "cell_type": "markdown",
   "metadata": {},
   "source": [
    "### __init__\n",
    "The first hook we use many times is the `__init__` method, this hook lets you initialise an object with a different state. The `__init__` method is the first thing that is called when an object is instantiated, and any arguments passed to the object are passed to the __init__ method."
   ]
  },
  {
   "cell_type": "code",
   "execution_count": 20,
   "metadata": {},
   "outputs": [
    {
     "name": "stdout",
     "output_type": "stream",
     "text": [
      "10\n20\n"
     ]
    },
    {
     "ename": "TypeError",
     "evalue": "__init__() missing 2 required positional arguments: 'x' and 'y'",
     "traceback": [
      "\u001b[0;31m---------------------------------------------------------------------------\u001b[0m",
      "\u001b[0;31mTypeError\u001b[0m                                 Traceback (most recent call last)",
      "\u001b[0;32m<ipython-input-20-81bde32113cb>\u001b[0m in \u001b[0;36m<module>\u001b[0;34m()\u001b[0m\n\u001b[1;32m      9\u001b[0m \u001b[0minit2\u001b[0m \u001b[0;34m=\u001b[0m \u001b[0mInitTest\u001b[0m\u001b[0;34m(\u001b[0m\u001b[0;36m10\u001b[0m\u001b[0;34m,\u001b[0m\u001b[0;36m10\u001b[0m\u001b[0;34m)\u001b[0m\u001b[0;34m\u001b[0m\u001b[0m\n\u001b[1;32m     10\u001b[0m \u001b[0mprint\u001b[0m\u001b[0;34m(\u001b[0m\u001b[0minit2\u001b[0m\u001b[0;34m.\u001b[0m\u001b[0madded\u001b[0m\u001b[0;34m)\u001b[0m\u001b[0;34m\u001b[0m\u001b[0m\n\u001b[0;32m---> 11\u001b[0;31m \u001b[0minit3\u001b[0m \u001b[0;34m=\u001b[0m \u001b[0mInitTest\u001b[0m\u001b[0;34m(\u001b[0m\u001b[0;34m)\u001b[0m\u001b[0;34m\u001b[0m\u001b[0m\n\u001b[0m",
      "\u001b[0;31mTypeError\u001b[0m: __init__() missing 2 required positional arguments: 'x' and 'y'"
     ],
     "output_type": "error"
    }
   ],
   "source": [
    "class InitTest():\n",
    "    def __init__(self, x, y):\n",
    "        self.x = x\n",
    "        self.y = y\n",
    "        self.added = self.x + self.y\n",
    "\n",
    "init1 = InitTest(5,5)\n",
    "print(init1.added)\n",
    "init2 = InitTest(10,10)\n",
    "print(init2.added)\n",
    "init3 = InitTest()"
   ]
  },
  {
   "cell_type": "markdown",
   "metadata": {},
   "source": [
    "We see that the first to object have the same `added` attribute, but the contect is different because of how we instantiatated the objects with the `__init__` method. If we do not provide the manditory arguments, we get an TypeError specifying we need to provide the two required positional arguments. Here we can also see that arguments passed to the object are passed to `__init__`."
   ]
  },
  {
   "cell_type": "markdown",
   "metadata": {},
   "source": [
    "### repr\n",
    "Another cool hook is the __repr__ hook, this hook lets you change how an object is represented. The __repr__ method is called when you print an object. By default printing an object gives you an unique identifier that actually links the object to a unique memory location where the object 'lives'. This is not always that informative and implementing this hook to give a better representation should always be done. Lets first see what happens if we do not change the default behaviour of the __repr__ method and that change it to something that is a bit more informative."
   ]
  },
  {
   "cell_type": "code",
   "execution_count": 24,
   "metadata": {},
   "outputs": [
    {
     "name": "stdout",
     "output_type": "stream",
     "text": [
      "<__main__.ReprTest object at 0x108f4db70>\n5\n"
     ]
    }
   ],
   "source": [
    "class ReprTest:\n",
    "    def __init__(self, x):\n",
    "        self.x = x\n",
    "\n",
    "class ReprTestOverwrite:\n",
    "    def __init__(self,x):\n",
    "        self.x = x\n",
    "        \n",
    "    def __repr__(self):\n",
    "        return (str(self.x))\n",
    "        \n",
    "defaultRepr = ReprTest(5)\n",
    "print(defaultRepr)\n",
    "\n",
    "implementedRepr = ReprTestOverwrite(5)\n",
    "print(implementedRepr)"
   ]
  },
  {
   "cell_type": "markdown",
   "metadata": {},
   "source": [
    "We can see that if we do not change the __repr__ method we get the uniq id pointing to the memory location. In the implemented version we just return an string representation of the single attribute of the object, ofcourse the __repr__ method can be made as informative as needed by returning an overview of what is inside the object."
   ]
  },
  {
   "cell_type": "markdown",
   "metadata": {},
   "source": [
    "## Exercise\n",
    "\n",
    "Lets bring all our new knowledge into practise and try to create a DNA manupilation class. Objects of this class should have the following properties.\n",
    "\n",
    "- A DNA sequence should be saved\n",
    "- The DNA seqquence should be checked if it is valid DNA (having only A,T,C or G)\n",
    "- A method should exist that reverse complements the DNA sequence\n",
    "- Create a method that will transcribe the DNA to RNA\n",
    "- Create a method that will translate the RNA to Protein\n",
    "- When the object is printed it should show the DNA sequence and the reverse complement\n",
    "- Object should be created with passing an DNA sequence.\n",
    "\n",
    "Show that your class works by creating three different DNA objects and call the reverse complement method and print the objects."
   ]
  },
  {
   "cell_type": "code",
   "execution_count": null,
   "metadata": {},
   "outputs": [],
   "source": []
  }
 ],
 "metadata": {
  "kernelspec": {
   "display_name": "Python 2",
   "language": "python",
   "name": "python2"
  },
  "language_info": {
   "codemirror_mode": {
    "name": "ipython",
    "version": 2
   },
   "file_extension": ".py",
   "mimetype": "text/x-python",
   "name": "python",
   "nbconvert_exporter": "python",
   "pygments_lexer": "ipython2",
   "version": "2.7.6"
  }
 },
 "nbformat": 4,
 "nbformat_minor": 0
}
