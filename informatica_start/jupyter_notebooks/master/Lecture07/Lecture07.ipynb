{
 "cells": [
  {
   "cell_type": "markdown",
   "metadata": {},
   "source": [
    "# Lesson 7: Advanced stuff, decorators, \\*args, \\**kwargs, list comprehensions, generators, generator expressions and the itertools module."
   ]
  },
  {
   "cell_type": "markdown",
   "metadata": {},
   "source": [
    "# Chapters:\n",
    "Chapter 10: Decorators (and args/kwargs) <br>\n",
    "Chapter 11: Advanced Iterations (generators, comprehensions) <br>\n",
    "Itertools module <br>\n",
    "Author: Jurre Hageman <br>"
   ]
  },
  {
   "cell_type": "markdown",
   "metadata": {},
   "source": [
    "## Decorators"
   ]
  },
  {
   "cell_type": "markdown",
   "metadata": {},
   "source": [
    "Decorators are advanced topis but many modules and frameworks (like Flask) make use of them so a basic understanding of decorators is important. <br>\n",
    "Decorators are functions that take another function and extend their behaviour without changing the code of the other function. Python supports the use of decorators with special syntactic sugar that simplifies their use. Let's start with some basic understanding of decorators:"
   ]
  },
  {
   "cell_type": "markdown",
   "metadata": {},
   "source": [
    "Functions are objects in Python:"
   ]
  },
  {
   "cell_type": "code",
   "execution_count": 1,
   "metadata": {},
   "outputs": [
    {
     "name": "stdout",
     "output_type": "stream",
     "text": [
      "<class 'function'>\n"
     ]
    }
   ],
   "source": [
    "def my_function():\n",
    "    print(\"OK\")\n",
    "\n",
    "print(type(my_function))"
   ]
  },
  {
   "cell_type": "markdown",
   "metadata": {},
   "source": [
    "And it is possible to pass a function as an argument in anouther function and invoke them within another function:"
   ]
  },
  {
   "cell_type": "code",
   "execution_count": 2,
   "metadata": {},
   "outputs": [
    {
     "name": "stdout",
     "output_type": "stream",
     "text": [
      "one\n",
      "two\n"
     ]
    }
   ],
   "source": [
    "def func1():\n",
    "    print('two')\n",
    "\n",
    "\n",
    "def func2(f):\n",
    "    print('one')\n",
    "    f()\n",
    "\n",
    "    \n",
    "func2(func1)"
   ]
  },
  {
   "cell_type": "markdown",
   "metadata": {},
   "source": [
    "We can also define nested functions:"
   ]
  },
  {
   "cell_type": "code",
   "execution_count": 3,
   "metadata": {},
   "outputs": [
    {
     "name": "stdout",
     "output_type": "stream",
     "text": [
      "one\n",
      "two\n"
     ]
    }
   ],
   "source": [
    "def func1():\n",
    "    print('one')\n",
    "    def func2():\n",
    "        print('two')\n",
    "    func2()\n",
    "\n",
    "func1()"
   ]
  },
  {
   "cell_type": "markdown",
   "metadata": {},
   "source": [
    "However, due to the scoping rules we can not invoke func2 from the outer scope:"
   ]
  },
  {
   "cell_type": "code",
   "execution_count": 4,
   "metadata": {},
   "outputs": [],
   "source": [
    "def func1():\n",
    "    print('one')\n",
    "    def func2():\n",
    "        print('two')\n",
    "\n",
    "\n",
    "#func2() will produce a TypeError"
   ]
  },
  {
   "cell_type": "markdown",
   "metadata": {},
   "source": [
    "But we can also return a function from another function without invoking the second function:"
   ]
  },
  {
   "cell_type": "code",
   "execution_count": 5,
   "metadata": {},
   "outputs": [
    {
     "name": "stdout",
     "output_type": "stream",
     "text": [
      "one\n"
     ]
    }
   ],
   "source": [
    "def func1():\n",
    "    print('one')\n",
    "    def func2():\n",
    "        print('two')\n",
    "    return func2\n",
    "\n",
    "\n",
    "x = func1()"
   ]
  },
  {
   "cell_type": "markdown",
   "metadata": {},
   "source": [
    "The variable x now contains func2. We can invoke func2 as follows:"
   ]
  },
  {
   "cell_type": "code",
   "execution_count": 6,
   "metadata": {},
   "outputs": [
    {
     "name": "stdout",
     "output_type": "stream",
     "text": [
      "two\n"
     ]
    }
   ],
   "source": [
    "x()"
   ]
  },
  {
   "cell_type": "markdown",
   "metadata": {},
   "source": [
    "If you understand the above concepts we can now continue to decorators. We first write a nested functions. The inner function is a wrapper function:"
   ]
  },
  {
   "cell_type": "code",
   "execution_count": 7,
   "metadata": {},
   "outputs": [
    {
     "name": "stdout",
     "output_type": "stream",
     "text": [
      "DNA is composed of the nucleotides ATCG\n"
     ]
    }
   ],
   "source": [
    "def decorate_function(function):\n",
    "   def function_wrapper(name):\n",
    "       return \"DNA is composed of {}\".format(function(name))\n",
    "   return function_wrapper\n",
    "\n",
    "\n",
    "def get_message(seq):\n",
    "   return \"the nucleotides {}\".format(seq)\n",
    "\n",
    "\n",
    "get_message = decorate_function(get_message)\n",
    "\n",
    "print(get_message(\"ATCG\"))"
   ]
  },
  {
   "cell_type": "markdown",
   "metadata": {},
   "source": [
    "A lot is happening here. The 'decorate_function' contains an inner 'function_wrapper'. The 'decorate_function' also takes another function (get_message) as argument (this becomes a parameter in the function header). The inner function 'function_wrapper' invokes the function that 'decorate_function' received as argument and the 'wrapper_function' augments it's behaviour (it adds text to the string). Note that the 'function_wrapper' itself is not invoked. It is just returned by 'decorate_function'.\n",
    "\n",
    "Let's now descibe the order of events that happens when the code runs:\n",
    "Fist the two functions are declared:"
   ]
  },
  {
   "cell_type": "code",
   "execution_count": 8,
   "metadata": {},
   "outputs": [],
   "source": [
    "def decorate_function(function):\n",
    "   def function_wrapper(name):\n",
    "       return \"DNA is composed of {}\".format(function(name))\n",
    "   return function_wrapper\n",
    "\n",
    "\n",
    "def get_message(seq):\n",
    "   return \"the nucleotides {}\".format(seq)"
   ]
  },
  {
   "cell_type": "markdown",
   "metadata": {},
   "source": [
    "Next, the following code is executed:"
   ]
  },
  {
   "cell_type": "code",
   "execution_count": 9,
   "metadata": {},
   "outputs": [
    {
     "name": "stdout",
     "output_type": "stream",
     "text": [
      "<function decorate_function.<locals>.function_wrapper at 0x10896ac80>\n"
     ]
    }
   ],
   "source": [
    "get_message = decorate_function(get_message)\n",
    "print(get_message)"
   ]
  },
  {
   "cell_type": "markdown",
   "metadata": {},
   "source": [
    "get_message is a variable that catches a function object... 'decorate_function' is invoked and the get_message function is used as an argument. Note that the get_message function is not invoked yet. The 'get_message' function is a parameter in 'decorate_function'. In 'decorate_function' is a nested function 'function_wrapper'. This function takes some text as argument and invokes 'get_message' when 'function_wrapper' get's invoked. But 'function_wrapper' is not invioked yet. It is returned as a function object. The 'get_message' function definition get's overwritten by the 'get_message' variable. So we can now invoke the 'function wrapper' with the original 'get_message' function by:"
   ]
  },
  {
   "cell_type": "code",
   "execution_count": 10,
   "metadata": {},
   "outputs": [
    {
     "name": "stdout",
     "output_type": "stream",
     "text": [
      "DNA is composed of the nucleotides ATCG\n"
     ]
    }
   ],
   "source": [
    "print(get_message(\"ATCG\"))"
   ]
  },
  {
   "cell_type": "markdown",
   "metadata": {},
   "source": [
    "Now the get_message function is decorated by the 'decorate_function'. Note that the behaviour of 'get_message' is changed but not it's code!"
   ]
  },
  {
   "cell_type": "markdown",
   "metadata": {},
   "source": [
    "The above pattern is such an important pattern in Python that Python adds some syntactic sugar for it. We can rewrite the above as:"
   ]
  },
  {
   "cell_type": "code",
   "execution_count": 11,
   "metadata": {},
   "outputs": [
    {
     "name": "stdout",
     "output_type": "stream",
     "text": [
      "DNA is composed of the nucleotides ATCG\n"
     ]
    }
   ],
   "source": [
    "def decorate_function(function):\n",
    "   def function_wrapper(name):\n",
    "       return \"DNA is composed of {}\".format(function(name))\n",
    "   return function_wrapper\n",
    "\n",
    "\n",
    "@decorate_function\n",
    "def get_message(seq):\n",
    "   return \"the nucleotides {}\".format(seq)\n",
    "\n",
    "\n",
    "print(get_message(\"ATCG\"))"
   ]
  },
  {
   "cell_type": "markdown",
   "metadata": {},
   "source": [
    "This reads as: 'add the functionality of the 'decorate_function' to get_message. And that is exactly what happened..."
   ]
  },
  {
   "cell_type": "markdown",
   "metadata": {},
   "source": [
    "## \\*args and \\**kwargs"
   ]
  },
  {
   "cell_type": "markdown",
   "metadata": {},
   "source": [
    "\\*args and \\**kwargs are also called magic variables. They can be very handy so it is important to understand them. Remember from the lessen about functions that a function call can contain arguments and the function header contains parameters: "
   ]
  },
  {
   "cell_type": "code",
   "execution_count": 12,
   "metadata": {},
   "outputs": [
    {
     "name": "stdout",
     "output_type": "stream",
     "text": [
      "hello\n"
     ]
    }
   ],
   "source": [
    "def my_func(param):\n",
    "    print(param)\n",
    "    \n",
    "arg = \"hello\"\n",
    "my_func(arg)"
   ]
  },
  {
   "cell_type": "markdown",
   "metadata": {},
   "source": [
    "However, if the number of arguments does not match the number of parameters an error occurs:"
   ]
  },
  {
   "cell_type": "code",
   "execution_count": 13,
   "metadata": {},
   "outputs": [
    {
     "ename": "TypeError",
     "evalue": "my_func() takes 1 positional argument but 2 were given",
     "output_type": "error",
     "traceback": [
      "\u001b[0;31m---------------------------------------------------------------------------\u001b[0m",
      "\u001b[0;31mTypeError\u001b[0m                                 Traceback (most recent call last)",
      "\u001b[0;32m<ipython-input-13-3af3e54a529b>\u001b[0m in \u001b[0;36m<module>\u001b[0;34m()\u001b[0m\n\u001b[1;32m      4\u001b[0m \u001b[0marg1\u001b[0m \u001b[0;34m=\u001b[0m \u001b[0;34m\"hello\"\u001b[0m\u001b[0;34m\u001b[0m\u001b[0m\n\u001b[1;32m      5\u001b[0m \u001b[0marg2\u001b[0m \u001b[0;34m=\u001b[0m \u001b[0;34m\"world\"\u001b[0m\u001b[0;34m\u001b[0m\u001b[0m\n\u001b[0;32m----> 6\u001b[0;31m \u001b[0mmy_func\u001b[0m\u001b[0;34m(\u001b[0m\u001b[0marg1\u001b[0m\u001b[0;34m,\u001b[0m \u001b[0marg2\u001b[0m\u001b[0;34m)\u001b[0m\u001b[0;34m\u001b[0m\u001b[0m\n\u001b[0m",
      "\u001b[0;31mTypeError\u001b[0m: my_func() takes 1 positional argument but 2 were given"
     ]
    }
   ],
   "source": [
    "def my_func(param):\n",
    "    print(param)\n",
    "    \n",
    "arg1 = \"hello\"\n",
    "arg2 = \"world\"\n",
    "my_func(arg1, arg2)"
   ]
  },
  {
   "cell_type": "markdown",
   "metadata": {},
   "source": [
    "However, sometimes you might not know the number of arguments to expect. The *arg notation in the function header accepts any number of arguments. Only the * notation is important so you can also write *blablabla but do not do that as *args is used by convention:"
   ]
  },
  {
   "cell_type": "code",
   "execution_count": null,
   "metadata": {},
   "outputs": [],
   "source": [
    "def my_func(*args):\n",
    "    print(args)\n",
    "    \n",
    "arg1 = \"hello\"\n",
    "arg2 = \"world\"\n",
    "\n",
    "my_func(arg1) #1 argument\n",
    "my_func(arg1, arg2) #2 arguments\n",
    "my_func() #0 arguments"
   ]
  },
  {
   "cell_type": "markdown",
   "metadata": {},
   "source": [
    "So now we do not have an error anymore. \\*args in the function header accepts any number of positional arguments and is available in the function as a tuple. Calling arg within the function unpacks the tuple. <br>\n",
    "Invoking my_func without arguments results in an empty tuple. <br>\n",
    "However, we can also use \\*args as argument in the function call instead as parameter in the function header. This will pack the arguments in a tuple:"
   ]
  },
  {
   "cell_type": "code",
   "execution_count": null,
   "metadata": {},
   "outputs": [],
   "source": [
    "def my_func(param1, param2):\n",
    "    print(param1)\n",
    "    print(param2)\n",
    "    \n",
    "arg1 = \"hello\"\n",
    "arg2 = \"world\"\n",
    "args = (arg1, arg2)\n",
    "my_func(*args)\n"
   ]
  },
  {
   "cell_type": "markdown",
   "metadata": {},
   "source": [
    "Thus \\*args in the function call UNPACKS argument lists while \\*args in the function header PACKS an argument list!"
   ]
  },
  {
   "cell_type": "markdown",
   "metadata": {},
   "source": [
    "Remember from a previous lesson that it was possible to use positional arguments and keyword arguments:"
   ]
  },
  {
   "cell_type": "code",
   "execution_count": null,
   "metadata": {},
   "outputs": [],
   "source": [
    "def my_func(val1, val2):\n",
    "    print(val1)\n",
    "    print(val2)\n",
    "    \n",
    "my_func(val2=3, val1=4)"
   ]
  },
  {
   "cell_type": "markdown",
   "metadata": {},
   "source": [
    "However, like the positional arguments, this function MUST accept 2 arguments. We can use \\**kwargs to accept any number (including 0) keyword arguments:"
   ]
  },
  {
   "cell_type": "code",
   "execution_count": null,
   "metadata": {},
   "outputs": [],
   "source": [
    "def my_func(**kwargs): #Note that **kwargs is a parameter in a function header\n",
    "    print(kwargs)\n",
    "    \n",
    "my_func(val1=1, val2=2, val3=3, val4=4) #4 keyword arguments\n",
    "my_func() #0 keyword arguments"
   ]
  },
  {
   "cell_type": "markdown",
   "metadata": {},
   "source": [
    "The keyword arguments will be __packed__ in a dictionary. Likewise, we can also use \\**kwargs as argument in a function call to __unpack__ a dictionary:"
   ]
  },
  {
   "cell_type": "code",
   "execution_count": null,
   "metadata": {},
   "outputs": [],
   "source": [
    "def my_func(val1, val2, val3, val4):\n",
    "    print(val1)\n",
    "    print(val2)\n",
    "    print(val3)\n",
    "    print(val4)\n",
    "\n",
    "kwargs = {'val1' : 1, 'val2' : 2, 'val3' : 3, 'val4' : 4}\n",
    "my_func(**kwargs) #Note that **kwargs is know an argument in a function call\n"
   ]
  },
  {
   "cell_type": "markdown",
   "metadata": {},
   "source": [
    "Using this information will can now write a generic function that accepts any number and type of arguments:"
   ]
  },
  {
   "cell_type": "code",
   "execution_count": null,
   "metadata": {},
   "outputs": [],
   "source": [
    "def accept_all(*args, **kwargs):\n",
    "    if args:\n",
    "        for arg in args:\n",
    "            print(arg)\n",
    "    if kwargs:\n",
    "        for kwarg in kwargs:\n",
    "            print(kwarg)\n",
    "\n",
    "accept_all(\"bla\", 10, 15, ['small', 'middle', 'big'], {\"one\": 1, 'two': 2}, naam=\"Jurre\", age=\"40\")"
   ]
  },
  {
   "cell_type": "markdown",
   "metadata": {},
   "source": [
    "However there are some rules: \n",
    "In the function header: first \\*args and then \\**kwargs.\n",
    "In the function call: positional arguments must come first and than keyword arguments.\n",
    "These are not all the rules. For a thorough overview: "
   ]
  },
  {
   "cell_type": "markdown",
   "metadata": {},
   "source": [
    "Quoted from Mark Lutz Learning Python: <br>\n",
    "- In a function call, all nonkeyword arguments (name) must appear first, followed\n",
    "by all keyword arguments (name=value), followed by the \\*name form, and, finally,\n",
    "the \\**name form, if used.\n",
    "- In a function header, arguments must appear in the same order: normal arguments\n",
    "(name), followed by any default arguments (name=value), followed by the\n",
    "\\*name form if present, followed by \\**name, if used."
   ]
  },
  {
   "cell_type": "markdown",
   "metadata": {},
   "source": [
    "## Generators"
   ]
  },
  {
   "cell_type": "markdown",
   "metadata": {},
   "source": [
    "Another more advanced concept is the generator function. Generators are used to save memory space. \n",
    "A generator function looks like a normal function, except that instead of returning value, a generator yields as many values as it needs to. Python will call the generator function each time it needs a value, then saves the state of the generator when the generator yields a value so that it can be resumed when the next value is required. This saves a lot of memory. Let's start with a simple generator function:"
   ]
  },
  {
   "cell_type": "code",
   "execution_count": 14,
   "metadata": {},
   "outputs": [
    {
     "name": "stdout",
     "output_type": "stream",
     "text": [
      "<generator object my_generator at 0x1089831a8>\n"
     ]
    }
   ],
   "source": [
    "def my_generator():\n",
    "    yield 1\n",
    "    yield 2\n",
    "    yield 3\n",
    "\n",
    "print(my_generator())"
   ]
  },
  {
   "cell_type": "markdown",
   "metadata": {},
   "source": [
    "Invoking the function will only print object information about the function.\n",
    "To do something we need to iterate over the function:"
   ]
  },
  {
   "cell_type": "code",
   "execution_count": 15,
   "metadata": {},
   "outputs": [
    {
     "name": "stdout",
     "output_type": "stream",
     "text": [
      "1\n",
      "2\n",
      "3\n"
     ]
    }
   ],
   "source": [
    "for i in my_generator():\n",
    "    print(i)"
   ]
  },
  {
   "cell_type": "markdown",
   "metadata": {},
   "source": [
    "So how did this work? To understand this you need to understand a bit about the iteration protocol. Suppose we have a list with 3 elements. We can easily iterate over the elements using a for loop but we can do the same with next if we make an iterator from the list:"
   ]
  },
  {
   "cell_type": "code",
   "execution_count": 16,
   "metadata": {},
   "outputs": [
    {
     "name": "stdout",
     "output_type": "stream",
     "text": [
      "a\n",
      "b\n",
      "c\n",
      "d\n",
      "e\n",
      "f\n"
     ]
    },
    {
     "ename": "StopIteration",
     "evalue": "",
     "output_type": "error",
     "traceback": [
      "\u001b[0;31m---------------------------------------------------------------------------\u001b[0m",
      "\u001b[0;31mStopIteration\u001b[0m                             Traceback (most recent call last)",
      "\u001b[0;32m<ipython-input-16-c2cb73f3e907>\u001b[0m in \u001b[0;36m<module>\u001b[0;34m()\u001b[0m\n\u001b[1;32m      8\u001b[0m \u001b[0mprint\u001b[0m\u001b[0;34m(\u001b[0m\u001b[0mnext\u001b[0m\u001b[0;34m(\u001b[0m\u001b[0miter_object\u001b[0m\u001b[0;34m)\u001b[0m\u001b[0;34m)\u001b[0m\u001b[0;34m\u001b[0m\u001b[0m\n\u001b[1;32m      9\u001b[0m \u001b[0mprint\u001b[0m\u001b[0;34m(\u001b[0m\u001b[0mnext\u001b[0m\u001b[0;34m(\u001b[0m\u001b[0miter_object\u001b[0m\u001b[0;34m)\u001b[0m\u001b[0;34m)\u001b[0m\u001b[0;34m\u001b[0m\u001b[0m\n\u001b[0;32m---> 10\u001b[0;31m \u001b[0mprint\u001b[0m\u001b[0;34m(\u001b[0m\u001b[0mnext\u001b[0m\u001b[0;34m(\u001b[0m\u001b[0miter_object\u001b[0m\u001b[0;34m)\u001b[0m\u001b[0;34m)\u001b[0m\u001b[0;34m\u001b[0m\u001b[0m\n\u001b[0m",
      "\u001b[0;31mStopIteration\u001b[0m: "
     ]
    }
   ],
   "source": [
    "my_list = ['a', 'b', 'c']\n",
    "for i in my_list:\n",
    "    print(i)\n",
    "\n",
    "my_list2 = ['d', 'e', 'f']\n",
    "iter_object = iter(my_list2)\n",
    "print(next(iter_object))\n",
    "print(next(iter_object))\n",
    "print(next(iter_object))\n",
    "print(next(iter_object))"
   ]
  },
  {
   "cell_type": "markdown",
   "metadata": {},
   "source": [
    "All went fine until the end was reached. The last print statement raised the StopIteration protocol. Now back to the generator:"
   ]
  },
  {
   "cell_type": "code",
   "execution_count": 17,
   "metadata": {},
   "outputs": [
    {
     "name": "stdout",
     "output_type": "stream",
     "text": [
      "1\n",
      "2\n",
      "3\n"
     ]
    },
    {
     "ename": "StopIteration",
     "evalue": "",
     "output_type": "error",
     "traceback": [
      "\u001b[0;31m---------------------------------------------------------------------------\u001b[0m",
      "\u001b[0;31mStopIteration\u001b[0m                             Traceback (most recent call last)",
      "\u001b[0;32m<ipython-input-17-71b05e63359f>\u001b[0m in \u001b[0;36m<module>\u001b[0;34m()\u001b[0m\n\u001b[1;32m      8\u001b[0m \u001b[0mprint\u001b[0m\u001b[0;34m(\u001b[0m\u001b[0mnext\u001b[0m\u001b[0;34m(\u001b[0m\u001b[0mgenerator_object\u001b[0m\u001b[0;34m)\u001b[0m\u001b[0;34m)\u001b[0m\u001b[0;34m\u001b[0m\u001b[0m\n\u001b[1;32m      9\u001b[0m \u001b[0mprint\u001b[0m\u001b[0;34m(\u001b[0m\u001b[0mnext\u001b[0m\u001b[0;34m(\u001b[0m\u001b[0mgenerator_object\u001b[0m\u001b[0;34m)\u001b[0m\u001b[0;34m)\u001b[0m\u001b[0;34m\u001b[0m\u001b[0m\n\u001b[0;32m---> 10\u001b[0;31m \u001b[0mprint\u001b[0m\u001b[0;34m(\u001b[0m\u001b[0mnext\u001b[0m\u001b[0;34m(\u001b[0m\u001b[0mgenerator_object\u001b[0m\u001b[0;34m)\u001b[0m\u001b[0;34m)\u001b[0m\u001b[0;34m\u001b[0m\u001b[0m\n\u001b[0m",
      "\u001b[0;31mStopIteration\u001b[0m: "
     ]
    }
   ],
   "source": [
    "def my_generator():\n",
    "    yield 1\n",
    "    yield 2\n",
    "    yield 3\n",
    "\n",
    "generator_object = my_generator()\n",
    "print(next(generator_object))\n",
    "print(next(generator_object))\n",
    "print(next(generator_object))\n",
    "print(next(generator_object))"
   ]
  },
  {
   "cell_type": "markdown",
   "metadata": {},
   "source": [
    "So what happened here:\n",
    "- Each time next() is called on the generator iterator (either with next or in a for loop), the generator resumes execution from where it called yield, not from the beginning of the function.\n",
    "- If a generator function calls return or reaches the end of its definition, a StopIteration exception is raised.\n"
   ]
  },
  {
   "cell_type": "markdown",
   "metadata": {},
   "source": [
    "So why would this be usefull? It is all about memory usage! Let's take a real example. Let's write a simple function to check if a number is a prime number:"
   ]
  },
  {
   "cell_type": "code",
   "execution_count": 20,
   "metadata": {},
   "outputs": [
    {
     "name": "stdout",
     "output_type": "stream",
     "text": [
      "True\n",
      "False\n",
      "False\n"
     ]
    }
   ],
   "source": [
    "import math\n",
    "\n",
    "def is_prime(number):\n",
    "    ''' check if this is a prime number'''\n",
    "    if number > 1:\n",
    "        if number == 2: #2 is the only even prime number\n",
    "            return True\n",
    "        if number % 2 == 0:\n",
    "            return False\n",
    "        for current in range(3, int(math.sqrt(number) + 1), 2): \n",
    "            if number % current == 0: \n",
    "                return False\n",
    "        return True\n",
    "    return False #0 and negative numbers are not prime\n",
    "\n",
    "print(is_prime(3))\n",
    "print(is_prime(4))\n",
    "print(is_prime(-17))"
   ]
  },
  {
   "cell_type": "markdown",
   "metadata": {},
   "source": [
    "Using this function we can generate a list of all prime numbers below the integer 100:"
   ]
  },
  {
   "cell_type": "code",
   "execution_count": 21,
   "metadata": {},
   "outputs": [
    {
     "name": "stdout",
     "output_type": "stream",
     "text": [
      "[2, 3, 5, 7, 11, 13, 17, 19, 23, 29, 31, 37, 41, 43, 47, 53, 59, 61, 67, 71, 73, 79, 83, 89, 97]\n"
     ]
    }
   ],
   "source": [
    "def get_primes(n):\n",
    "    primes = []\n",
    "    num=0\n",
    "    while num < n:\n",
    "        if is_prime(num):\n",
    "            primes.append(num)\n",
    "        num += 1\n",
    "    return primes\n",
    "\n",
    "print(get_primes(100))"
   ]
  },
  {
   "cell_type": "markdown",
   "metadata": {},
   "source": [
    "This works as expected but we used a considerable amount of memory if large numbers are involved:"
   ]
  },
  {
   "cell_type": "code",
   "execution_count": 22,
   "metadata": {},
   "outputs": [
    {
     "name": "stdout",
     "output_type": "stream",
     "text": [
      "77848 bytes\n"
     ]
    }
   ],
   "source": [
    "import sys\n",
    "print(sys.getsizeof(get_primes(100000)), \"bytes\")"
   ]
  },
  {
   "cell_type": "markdown",
   "metadata": {},
   "source": [
    "This is were the generator function shines:"
   ]
  },
  {
   "cell_type": "code",
   "execution_count": 23,
   "metadata": {},
   "outputs": [
    {
     "name": "stdout",
     "output_type": "stream",
     "text": [
      "2 3 5 7 11 13 17 19 23 29 31 37 41 43 47 53 59 61 67 71 73 79 83 89 97 "
     ]
    }
   ],
   "source": [
    "def get_primes_from_generator_function(n):\n",
    "    num=0\n",
    "    while num < n:\n",
    "        if is_prime(num):\n",
    "            yield num\n",
    "        num += 1\n",
    "\n",
    "\n",
    "for i in get_primes_from_generator_function(100):\n",
    "    print(i, end= \" \")"
   ]
  },
  {
   "cell_type": "markdown",
   "metadata": {},
   "source": [
    "So what is the deal here? We get the same prime numbers. But if you look close we do not have received a list. It looks as if these for loops are connected! The function 'remembers' the state of the previous call! And what about memory usage if large numbers are involved?"
   ]
  },
  {
   "cell_type": "code",
   "execution_count": 24,
   "metadata": {},
   "outputs": [
    {
     "name": "stdout",
     "output_type": "stream",
     "text": [
      "88 bytes\n"
     ]
    }
   ],
   "source": [
    "print(sys.getsizeof(get_primes_from_generator_function(100000)), \"bytes\")"
   ]
  },
  {
   "cell_type": "markdown",
   "metadata": {},
   "source": [
    "The resulting generator object has a much smaller memory size compared to the list object! Using a generator function we can even safely write a while True loop to retreive prime numbers.\n",
    "What will be the first prime number above the integer 1000?"
   ]
  },
  {
   "cell_type": "code",
   "execution_count": 26,
   "metadata": {},
   "outputs": [
    {
     "name": "stdout",
     "output_type": "stream",
     "text": [
      "1009\n"
     ]
    }
   ],
   "source": [
    "def get_next_prime_from_generator_function(num):\n",
    "    '''prime number generator from a number till infinity...'''\n",
    "    while True:\n",
    "        if is_prime(num):\n",
    "            yield num\n",
    "        num += 1\n",
    "\n",
    "num = 1000\n",
    "my_generator_object = get_next_prime_from_generator_function(num)\n",
    "print(next(my_generator_object))"
   ]
  },
  {
   "cell_type": "markdown",
   "metadata": {},
   "source": [
    "Get the subsequent 10 prime numbers:"
   ]
  },
  {
   "cell_type": "code",
   "execution_count": 27,
   "metadata": {},
   "outputs": [
    {
     "name": "stdout",
     "output_type": "stream",
     "text": [
      "1013\n",
      "1019\n",
      "1021\n",
      "1031\n",
      "1033\n",
      "1039\n",
      "1049\n",
      "1051\n",
      "1061\n",
      "1063\n"
     ]
    }
   ],
   "source": [
    "for i in range(10):\n",
    "    print(next(my_generator_object))"
   ]
  },
  {
   "cell_type": "markdown",
   "metadata": {},
   "source": [
    "Remember that we can safely write the while True loop because we are using a generator function that will 'remember' the previous return value. This will save a lot of memory!"
   ]
  },
  {
   "cell_type": "markdown",
   "metadata": {},
   "source": [
    "The last concept about generators is how to reset a generator object. Have a look at the fist generator example:"
   ]
  },
  {
   "cell_type": "code",
   "execution_count": 3,
   "metadata": {},
   "outputs": [
    {
     "name": "stdout",
     "output_type": "stream",
     "text": [
      "1\n",
      "2\n",
      "3\n"
     ]
    }
   ],
   "source": [
    "def my_generator():\n",
    "    yield 1\n",
    "    yield 2\n",
    "    yield 3\n",
    "\n",
    "for i in my_generator():\n",
    "    print(i)"
   ]
  },
  {
   "cell_type": "markdown",
   "metadata": {},
   "source": [
    "Here we created one generator object and the for loop implicity called next(object) three times. So how can we make different objects and 'reset' the generator? The following code will explain: "
   ]
  },
  {
   "cell_type": "code",
   "execution_count": 9,
   "metadata": {},
   "outputs": [
    {
     "name": "stdout",
     "output_type": "stream",
     "text": [
      "x 1\n",
      "x 2\n",
      "False\n",
      "y 1\n"
     ]
    }
   ],
   "source": [
    "x = my_generator()\n",
    "print('x', next(x)) #prints 1\n",
    "print('x', next(x)) #prints 2\n",
    "y = my_generator() #new generator object, 'resets' \n",
    "print(x is y) #False, not the same object\n",
    "print('y', next(y)) #prints 1\n"
   ]
  },
  {
   "cell_type": "markdown",
   "metadata": {},
   "source": [
    "## Comprehensions: List comprehensions"
   ]
  },
  {
   "cell_type": "markdown",
   "metadata": {},
   "source": [
    "Comprehensions are efficient one-liners which are very efficient in adding (modified) items to lists, dictionaries and sets without a classical for loop pattern. This makes your code more compact. In addition, comprehensions are faster in excecution speed compared to classical for loops. Let's have a look at some examples:"
   ]
  },
  {
   "cell_type": "code",
   "execution_count": 11,
   "metadata": {},
   "outputs": [
    {
     "name": "stdout",
     "output_type": "stream",
     "text": [
      "[0, 1, 2, 3, 4, 5, 6, 7, 8, 9]\n"
     ]
    }
   ],
   "source": [
    "x = [i for i in range(10)]\n",
    "print(x)"
   ]
  },
  {
   "cell_type": "markdown",
   "metadata": {},
   "source": [
    "The above example is the simples list comprehension possible but nothing special as list(range(10)) would have yielded the same result. But list comprehensions can do more:"
   ]
  },
  {
   "cell_type": "code",
   "execution_count": 13,
   "metadata": {},
   "outputs": [
    {
     "name": "stdout",
     "output_type": "stream",
     "text": [
      "[0, 1, 4, 9, 16, 25, 36, 49, 64, 81]\n"
     ]
    }
   ],
   "source": [
    "x = [i * i for i in range(10)]\n",
    "print(x)"
   ]
  },
  {
   "cell_type": "code",
   "execution_count": 14,
   "metadata": {},
   "outputs": [
    {
     "name": "stdout",
     "output_type": "stream",
     "text": [
      "['A', 'T', 'C', 'G']\n"
     ]
    }
   ],
   "source": [
    "dna = ['a', 't', 'c', 'g']\n",
    "dna_up = [i.upper() for i in dna]\n",
    "print(dna_up)"
   ]
  },
  {
   "cell_type": "markdown",
   "metadata": {},
   "source": [
    "To do this task with a classical for loop will need considerable more lines of code:"
   ]
  },
  {
   "cell_type": "code",
   "execution_count": 20,
   "metadata": {},
   "outputs": [
    {
     "name": "stdout",
     "output_type": "stream",
     "text": [
      "['A', 'T', 'C', 'G']\n"
     ]
    }
   ],
   "source": [
    "dna = ['a', 't', 'c', 'g']\n",
    "dna_up = []\n",
    "for i in dna:\n",
    "    dna_up.append(i.upper())\n",
    "print(dna_up)"
   ]
  },
  {
   "cell_type": "markdown",
   "metadata": {},
   "source": [
    "These are examples were list comprehensions shine. Small tasks that would take more lines using a for loop. You can filter results with an if statement:"
   ]
  },
  {
   "cell_type": "code",
   "execution_count": 19,
   "metadata": {},
   "outputs": [
    {
     "name": "stdout",
     "output_type": "stream",
     "text": [
      "['A', 'T', 'C', 'G']\n",
      "['A', 'C', 'G', 'U']\n"
     ]
    }
   ],
   "source": [
    "nucleotides = ['a', 't', 'c', 'g', 'u']\n",
    "dna_up = [i.upper() for i in nucleotides if i != 'u']\n",
    "rna_up = [i.upper() for i in nucleotides if i != 't']\n",
    "print(dna_up)\n",
    "print(rna_up)       "
   ]
  },
  {
   "cell_type": "markdown",
   "metadata": {},
   "source": [
    "And instead of calling buildin functions or methods you can also call your own defined functions: "
   ]
  },
  {
   "cell_type": "code",
   "execution_count": 29,
   "metadata": {},
   "outputs": [
    {
     "name": "stdout",
     "output_type": "stream",
     "text": [
      "[20.0, 100.0, 0.0]\n"
     ]
    }
   ],
   "source": [
    "def calc_gc(seq):\n",
    "    G = seq.count('G')\n",
    "    C = seq.count('C')\n",
    "    GC = (G + C) / len(seq) * 100\n",
    "    return GC\n",
    "\n",
    "sequences = [\"GAATT\", \"GCGCGC\", \"ATATATTA\"]\n",
    "gc_perc = [calc_gc(i) for i in sequences]\n",
    "print(gc_perc)"
   ]
  },
  {
   "cell_type": "markdown",
   "metadata": {},
   "source": [
    "Once you understand list comprehensions you may get a bit to enthousiastic:"
   ]
  },
  {
   "cell_type": "code",
   "execution_count": 26,
   "metadata": {},
   "outputs": [
    {
     "name": "stdout",
     "output_type": "stream",
     "text": [
      "AAAGGGTCC\n"
     ]
    }
   ],
   "source": [
    "print(''.join([{'A':'T', 'C':'G', 'T':'A', 'G':'C'}[i] for i in \"GGACCCTTT\"])[::-1])"
   ]
  },
  {
   "cell_type": "markdown",
   "metadata": {},
   "source": [
    "Reverse complement in one line of code. However, the code above is difficult to understand and therefore the above code is a bad idea. List comprehensions are great but do not make them to complex!"
   ]
  },
  {
   "cell_type": "markdown",
   "metadata": {},
   "source": [
    "Another example with a proper use of comprehensions:"
   ]
  },
  {
   "cell_type": "code",
   "execution_count": 34,
   "metadata": {},
   "outputs": [
    {
     "name": "stdout",
     "output_type": "stream",
     "text": [
      "[1.0, 3.1622776601683795, 3.3166247903554, 1.7320508075688772, 4.0, 3.1622776601683795, 5.0, 6.0, 9.0, 9.9498743710662]\n"
     ]
    }
   ],
   "source": [
    "import math\n",
    "nums = [1, -5, -8, 10, 11, 3, 16, -5, 10, 25, 36, 81, 99]\n",
    "res = [math.sqrt(i) for i in nums if i > 0]\n",
    "print(res)"
   ]
  },
  {
   "cell_type": "markdown",
   "metadata": {},
   "source": [
    "Now you have seen some examples, let's look a bit closer to the architechture of list comprehensions:"
   ]
  },
  {
   "cell_type": "markdown",
   "metadata": {},
   "source": [
    "All comprehensions have this architecture: <br>\n",
    "expression for element in iterable <optional test>"
   ]
  },
  {
   "cell_type": "markdown",
   "metadata": {},
   "source": [
    "In the expression part, you can return any type you like:\n",
    "tuples, lists, dicts, objects"
   ]
  },
  {
   "cell_type": "code",
   "execution_count": 35,
   "metadata": {},
   "outputs": [
    {
     "name": "stdout",
     "output_type": "stream",
     "text": [
      "[('a', 'A'), ('t', 'T'), ('c', 'C'), ('g', 'G')]\n"
     ]
    }
   ],
   "source": [
    "x = \"atcg\"\n",
    "y = [(i, i.upper()) for i in x]\n",
    "print(y)\n",
    "    "
   ]
  },
  {
   "cell_type": "markdown",
   "metadata": {},
   "source": [
    "The optional test is an if statement optionally combined with an else:"
   ]
  },
  {
   "cell_type": "code",
   "execution_count": 40,
   "metadata": {},
   "outputs": [
    {
     "name": "stdout",
     "output_type": "stream",
     "text": [
      "[1.0, 1.7320508075688772, '<0 encountered', 3.0, '<0 encountered', 4.0]\n"
     ]
    }
   ],
   "source": [
    "nums = [1, 3, -7, 9, -12, 16]\n",
    "print([math.sqrt(i) if i > 0 else \"<0 encountered\" for i in nums])"
   ]
  },
  {
   "cell_type": "markdown",
   "metadata": {},
   "source": [
    "Finally it is worth to know that you can nest comprehensions loops:"
   ]
  },
  {
   "cell_type": "code",
   "execution_count": 44,
   "metadata": {},
   "outputs": [
    {
     "name": "stdout",
     "output_type": "stream",
     "text": [
      "['ggg', 'gga', 'ggt', 'ggc', 'gag', 'gaa', 'gat', 'gac', 'gtg', 'gta', 'gtt', 'gtc', 'gcg', 'gca', 'gct', 'gcc', 'agg', 'aga', 'agt', 'agc', 'aag', 'aaa', 'aat', 'aac', 'atg', 'ata', 'att', 'atc', 'acg', 'aca', 'act', 'acc', 'tgg', 'tga', 'tgt', 'tgc', 'tag', 'taa', 'tat', 'tac', 'ttg', 'tta', 'ttt', 'ttc', 'tcg', 'tca', 'tct', 'tcc', 'cgg', 'cga', 'cgt', 'cgc', 'cag', 'caa', 'cat', 'cac', 'ctg', 'cta', 'ctt', 'ctc', 'ccg', 'cca', 'cct', 'ccc']\n"
     ]
    }
   ],
   "source": [
    "bases = ['g', 'a', 't', 'c']\n",
    "codons = [i+j+k for i in bases for j in bases for k in bases]\n",
    "print(codons)"
   ]
  },
  {
   "cell_type": "markdown",
   "metadata": {},
   "source": [
    "## Comprehensions: dict comprehensions"
   ]
  },
  {
   "cell_type": "markdown",
   "metadata": {},
   "source": [
    "In addition to list comprehensions, it is possible to write dictionary comprehensions. Here is an example:"
   ]
  },
  {
   "cell_type": "code",
   "execution_count": 48,
   "metadata": {},
   "outputs": [
    {
     "name": "stdout",
     "output_type": "stream",
     "text": [
      "{1: 1, 2: 4, 3: 9, 4: 16, 5: 25, 6: 36, 7: 49, 8: 64, 9: 81, 10: 100}\n"
     ]
    }
   ],
   "source": [
    "x = {i:i*i for i in range(1, 11)}\n",
    "print(x)"
   ]
  },
  {
   "cell_type": "markdown",
   "metadata": {},
   "source": [
    "It is possible for dict comprehensions to use a filter as well:"
   ]
  },
  {
   "cell_type": "code",
   "execution_count": 50,
   "metadata": {},
   "outputs": [
    {
     "name": "stdout",
     "output_type": "stream",
     "text": [
      "{2: 4, 4: 16, 6: 36, 8: 64, 10: 100}\n"
     ]
    }
   ],
   "source": [
    "x = {i:i*i for i in range(1, 11) if i%2 == 0}\n",
    "print(x)"
   ]
  },
  {
   "cell_type": "markdown",
   "metadata": {},
   "source": [
    "Another example:"
   ]
  },
  {
   "cell_type": "code",
   "execution_count": 65,
   "metadata": {},
   "outputs": [
    {
     "name": "stdout",
     "output_type": "stream",
     "text": [
      "{'a': 'adenine', 't': 'tymine', 'c': 'cytosine', 'g': 'guanine', 'u': 'uracil'}\n",
      "{'A': 'Adenine', 'T': 'Tymine', 'C': 'Cytosine', 'G': 'Guanine'}\n"
     ]
    }
   ],
   "source": [
    "bases = \"a t c g u\".split()\n",
    "base_names = \"adenine tymine cytosine guanine uracil\".split()\n",
    "base_info = dict(zip(bases, base_names))\n",
    "print(base_info)\n",
    "base_info_upper = {i.upper():j[0].upper() + j[1:] for (i, j) in base_info.items() if i!='u'}\n",
    "print(base_info_upper)"
   ]
  },
  {
   "cell_type": "markdown",
   "metadata": {},
   "source": [
    "In addition to list and dict comprehensions, set comprehensions do also excist but won't be covered here. Tuple comprehensions do not excist due to the immutable nature of tuples."
   ]
  },
  {
   "cell_type": "markdown",
   "metadata": {},
   "source": [
    "## Generator expressions"
   ]
  },
  {
   "cell_type": "markdown",
   "metadata": {},
   "source": [
    "Now you have seen some generator functions and list comprehensions in action, it is time for another concept: generator expressions. These combine list comprehensions with generator functions. Like generator functions, generator expressions save memory usage. Like list comprehensions, generator expressions reduce code lines and are fast in terms of execution speed. They are very powerfull for repatative tasks were lists with a lot of items are used. Here is an example of a generator expression:"
   ]
  },
  {
   "cell_type": "code",
   "execution_count": 67,
   "metadata": {},
   "outputs": [
    {
     "name": "stdout",
     "output_type": "stream",
     "text": [
      "<generator object <genexpr> at 0x108bd39e8>\n"
     ]
    }
   ],
   "source": [
    "x = (i*i for i in range(1, 11) if i%2 == 0)\n",
    "print(x)"
   ]
  },
  {
   "cell_type": "markdown",
   "metadata": {},
   "source": [
    "Like a generator function, this only generates a generator object. You need to loop through the object to get the result:"
   ]
  },
  {
   "cell_type": "code",
   "execution_count": 71,
   "metadata": {},
   "outputs": [
    {
     "name": "stdout",
     "output_type": "stream",
     "text": [
      "4\n",
      "16\n",
      "36\n",
      "64\n",
      "100\n"
     ]
    }
   ],
   "source": [
    "x = (i*i for i in range(1, 11) if i%2 == 0)\n",
    "for item in x:\n",
    "    print(item)"
   ]
  },
  {
   "cell_type": "markdown",
   "metadata": {},
   "source": [
    "You can push it in a list:"
   ]
  },
  {
   "cell_type": "code",
   "execution_count": 73,
   "metadata": {},
   "outputs": [
    {
     "name": "stdout",
     "output_type": "stream",
     "text": [
      "[4, 16, 36, 64, 100]\n"
     ]
    }
   ],
   "source": [
    "x = (i*i for i in range(1, 11) if i%2 == 0)\n",
    "print(list(x))"
   ]
  },
  {
   "cell_type": "markdown",
   "metadata": {},
   "source": [
    "But remember that this will not help you much to reduce memory usage. You could just as well use a list comprehension."
   ]
  },
  {
   "cell_type": "markdown",
   "metadata": {},
   "source": [
    "## The Itertools module"
   ]
  },
  {
   "cell_type": "markdown",
   "metadata": {},
   "source": [
    "One module that makes a lot of use of generators is the itertools module. Pretend that we have some substances that we would run on a HPLC machine: A, B, C, D. One substance will hit the detector first, then another, yet another etc. What would be all possible sequence outcomes (thus order matters)?\n",
    "We can explore this using the itertools.permutations method. Here it is in action: "
   ]
  },
  {
   "cell_type": "code",
   "execution_count": 88,
   "metadata": {},
   "outputs": [
    {
     "name": "stdout",
     "output_type": "stream",
     "text": [
      "<itertools.permutations object at 0x108b1f830>\n"
     ]
    }
   ],
   "source": [
    "import itertools\n",
    "substances = \"A B C D\".split()\n",
    "possibilities = itertools.permutations(substances)\n",
    "print(possibilities)"
   ]
  },
  {
   "cell_type": "markdown",
   "metadata": {},
   "source": [
    "As you can see, permutations returned a generator object to save memory."
   ]
  },
  {
   "cell_type": "code",
   "execution_count": 82,
   "metadata": {},
   "outputs": [
    {
     "name": "stdout",
     "output_type": "stream",
     "text": [
      "('A', 'B', 'C', 'D')\n",
      "('A', 'B', 'D', 'C')\n",
      "('A', 'C', 'B', 'D')\n",
      "('A', 'C', 'D', 'B')\n",
      "('A', 'D', 'B', 'C')\n",
      "('A', 'D', 'C', 'B')\n",
      "('B', 'A', 'C', 'D')\n",
      "('B', 'A', 'D', 'C')\n",
      "('B', 'C', 'A', 'D')\n",
      "('B', 'C', 'D', 'A')\n",
      "('B', 'D', 'A', 'C')\n",
      "('B', 'D', 'C', 'A')\n",
      "('C', 'A', 'B', 'D')\n",
      "('C', 'A', 'D', 'B')\n",
      "('C', 'B', 'A', 'D')\n",
      "('C', 'B', 'D', 'A')\n",
      "('C', 'D', 'A', 'B')\n",
      "('C', 'D', 'B', 'A')\n",
      "('D', 'A', 'B', 'C')\n",
      "('D', 'A', 'C', 'B')\n",
      "('D', 'B', 'A', 'C')\n",
      "('D', 'B', 'C', 'A')\n",
      "('D', 'C', 'A', 'B')\n",
      "('D', 'C', 'B', 'A')\n"
     ]
    }
   ],
   "source": [
    "for i in possibilities:\n",
    "    print(i)"
   ]
  },
  {
   "cell_type": "markdown",
   "metadata": {},
   "source": [
    "And here we have all the possibilities as items in tuples. Yes this explodes as the number of possible permutations of k objects from a set of n can be written as nPk = n!/(n-k)!. Four items: 24, 5 items: 120, 6 items: 720. We do need a generator here!"
   ]
  },
  {
   "cell_type": "markdown",
   "metadata": {},
   "source": [
    "Suppose there is a big chance that two substances will finish at the same time. What are the possible combinations using the list of substances? Note that order does not matter here."
   ]
  },
  {
   "cell_type": "code",
   "execution_count": 95,
   "metadata": {},
   "outputs": [
    {
     "name": "stdout",
     "output_type": "stream",
     "text": [
      "('A', 'B')\n",
      "('A', 'C')\n",
      "('A', 'D')\n",
      "('B', 'C')\n",
      "('B', 'D')\n",
      "('C', 'D')\n"
     ]
    }
   ],
   "source": [
    "combinations = itertools.combinations(substances, 2)\n",
    "for i in combinations:\n",
    "    print(i)"
   ]
  },
  {
   "cell_type": "markdown",
   "metadata": {},
   "source": [
    "And if 3 will finish at the same time?"
   ]
  },
  {
   "cell_type": "code",
   "execution_count": 96,
   "metadata": {},
   "outputs": [
    {
     "name": "stdout",
     "output_type": "stream",
     "text": [
      "('A', 'B', 'C')\n",
      "('A', 'B', 'D')\n",
      "('A', 'C', 'D')\n",
      "('B', 'C', 'D')\n"
     ]
    }
   ],
   "source": [
    "combinations = itertools.combinations(substances, 3)\n",
    "for i in combinations:\n",
    "    print(i)"
   ]
  },
  {
   "cell_type": "raw",
   "metadata": {},
   "source": []
  },
  {
   "cell_type": "markdown",
   "metadata": {},
   "source": [
    "What are the possible genotypes (cartesion product) of a male with genotype ABO breeding a female with genotype ABO?"
   ]
  },
  {
   "cell_type": "code",
   "execution_count": 101,
   "metadata": {},
   "outputs": [
    {
     "name": "stdout",
     "output_type": "stream",
     "text": [
      "('A', 'A')\n",
      "('A', 'B')\n",
      "('A', 'O')\n",
      "('B', 'A')\n",
      "('B', 'B')\n",
      "('B', 'O')\n",
      "('O', 'A')\n",
      "('O', 'B')\n",
      "('O', 'O')\n"
     ]
    }
   ],
   "source": [
    "male = \"ABO\"\n",
    "female = \"ABO\"\n",
    "genotypes = itertools.product(male, female)\n",
    "for i in genotypes:\n",
    "    print(i)"
   ]
  },
  {
   "cell_type": "markdown",
   "metadata": {},
   "source": [
    "Another example from itertools. Suppose we have a circular genome of \"TACG\". In reality, the 5'- T is connected to the 3'-G. Can we mimic this in Python? The answer is yes:"
   ]
  },
  {
   "cell_type": "code",
   "execution_count": 104,
   "metadata": {},
   "outputs": [
    {
     "name": "stdout",
     "output_type": "stream",
     "text": [
      "T\n",
      "A\n",
      "C\n",
      "G\n",
      "T\n",
      "A\n"
     ]
    }
   ],
   "source": [
    "seq = 'TACG'\n",
    "circular_genome = itertools.cycle(seq)\n",
    "print(next(circular_genome))\n",
    "print(next(circular_genome))\n",
    "print(next(circular_genome))\n",
    "print(next(circular_genome))\n",
    "print(next(circular_genome))\n",
    "print(next(circular_genome))"
   ]
  },
  {
   "cell_type": "markdown",
   "metadata": {},
   "source": [
    "Finally, you can have a look yourself at the itertools module as there are many more valuable methods..."
   ]
  },
  {
   "cell_type": "code",
   "execution_count": null,
   "metadata": {},
   "outputs": [],
   "source": []
  }
 ],
 "metadata": {
  "kernelspec": {
   "display_name": "Python 3",
   "language": "python",
   "name": "python3"
  },
  "language_info": {
   "codemirror_mode": {
    "name": "ipython",
    "version": 3
   },
   "file_extension": ".py",
   "mimetype": "text/x-python",
   "name": "python",
   "nbconvert_exporter": "python",
   "pygments_lexer": "ipython3",
   "version": "3.6.4"
  }
 },
 "nbformat": 4,
 "nbformat_minor": 2
}
