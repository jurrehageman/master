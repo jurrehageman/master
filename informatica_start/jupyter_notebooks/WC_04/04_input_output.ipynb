{
 "cells": [
  {
   "cell_type": "markdown",
   "metadata": {},
   "source": [
    "# BioInformatics exercises for python (Informatics I)\n",
    "##### DNA analytics"
   ]
  },
  {
   "cell_type": "markdown",
   "metadata": {},
   "source": [
    "## Introduction"
   ]
  },
  {
   "cell_type": "markdown",
   "metadata": {},
   "source": [
    "Author: Jurre Hageman <br>\n",
    "Date: 2017-10-01"
   ]
  },
  {
   "cell_type": "markdown",
   "metadata": {},
   "source": [
    "This lesson is about input and output.\n",
    "\n",
    "For this lesson we will write a simple program that reads a DNA sequence from a file and calculates the percentage for each nucleotide as well as the GC percentage. Each line of the file is a seperate DNA sequence.\n",
    "\n",
    "The GC pair is bound by three hydrogen bonds, while AT and AU pairs are bound by two hydrogen bonds. To emphasize this difference in the number of hydrogen bonds, the base pairings can be represented as respectively G≡C versus A=T and A=U. DNA with low GC-content is less stable than DNA with high GC-content (Wikipedia.org).\n",
    "\n",
    "The GC-content of organisms varies remarkably. Within the genome of an organism, genes are often characterised by having a higher GC-content compared to the background GC-content for the entire genome.\n",
    "\n",
    "Your task is to write a program that reads DNA sequences from a file (filename as command line argument). It should calculate the percentage of the base A, T, C, G and the percentage of GC and AT and write these results to a file (filename as command line argument)."
   ]
  },
  {
   "cell_type": "markdown",
   "metadata": {},
   "source": [
    "Let's first make a list of what the program should do:\n",
    "- it should catch the name of the input file from the command line\n",
    "- it should catch the name of the output file from the command line\n",
    "- it should calculate the A, T, C, G, GC and AT percentages (use a dict to store the data) for each line of the file.\n",
    "- it should print the results to the terminal\n",
    "- it should write the results to  a file\n",
    "- write your script in functions"
   ]
  },
  {
   "cell_type": "markdown",
   "metadata": {},
   "source": [
    "## Input"
   ]
  },
  {
   "cell_type": "markdown",
   "metadata": {},
   "source": [
    "File input has been dealt with before. Open the file in streaming mode."
   ]
  },
  {
   "cell_type": "code",
   "execution_count": 1,
   "metadata": {},
   "outputs": [
    {
     "name": "stdout",
     "output_type": "stream",
     "text": [
      "ATCGAGACGGATGAGGAGAGAGAGCAGAGATGAGACAGAGATGGGAGAGA\n",
      "GACAGGATAGAGAGAGAGAGACAGAGTG\n",
      "CAGAGGAGAGAGATGAGAGCAGAGATGACG\n",
      "CATTGGAGACGGATTTATATATAT\n",
      "ACACAGTGAGAGAGA\n",
      "ACAGATTTAGGGGGGGGCCGCGCGCGAAA\n",
      "CGCAGCGCGCGCGCGCGCGCGCGCGCGCGCGCGCGC\n",
      "ATATATATTATATATATATATATATTTTAAAA\n",
      "CGACAGACTGAGAGAGAGAGAGAG\n"
     ]
    }
   ],
   "source": [
    "#wrong:\n",
    "file_obj = open(\"dna.txt\")\n",
    "file_obj_read = file_obj.read() #reads all at once\n",
    "print(file_obj_read)\n",
    "file_obj.close()"
   ]
  },
  {
   "cell_type": "raw",
   "metadata": {},
   "source": [
    "Instead, we always open a file_object and read the content line for line. This is called opening a file in streaming mode. This will save considerable RAM memory."
   ]
  },
  {
   "cell_type": "code",
   "execution_count": 2,
   "metadata": {},
   "outputs": [
    {
     "name": "stdout",
     "output_type": "stream",
     "text": [
      "ATCGAGACGGATGAGGAGAGAGAGCAGAGATGAGACAGAGATGGGAGAGA\n",
      "GACAGGATAGAGAGAGAGAGACAGAGTG\n",
      "CAGAGGAGAGAGATGAGAGCAGAGATGACG\n",
      "CATTGGAGACGGATTTATATATAT\n",
      "ACACAGTGAGAGAGA\n",
      "ACAGATTTAGGGGGGGGCCGCGCGCGAAA\n",
      "CGCAGCGCGCGCGCGCGCGCGCGCGCGCGCGCGCGC\n",
      "ATATATATTATATATATATATATATTTTAAAA\n",
      "CGACAGACTGAGAGAGAGAGAGAG"
     ]
    }
   ],
   "source": [
    "#the right way: streaming mode\n",
    "file_obj = open(\"dna.txt\")\n",
    "for line in file_obj: #reads line for line. Only one line in memory at the time.\n",
    "    #all that you want to do with each line should be coded here!\n",
    "    #if you do a lot, write a function and call the function here.\n",
    "    print(line, end='') #print defaults to a linebreak. end='' prevents this.\n",
    "file_obj.close()"
   ]
  },
  {
   "cell_type": "markdown",
   "metadata": {},
   "source": [
    "Now you know how to correctly open files let's show how the write to files:"
   ]
  },
  {
   "cell_type": "code",
   "execution_count": 3,
   "metadata": {},
   "outputs": [
    {
     "name": "stdout",
     "output_type": "stream",
     "text": [
      "Help on built-in function print in module builtins:\n",
      "\n",
      "print(...)\n",
      "    print(value, ..., sep=' ', end='\\n', file=sys.stdout, flush=False)\n",
      "    \n",
      "    Prints the values to a stream, or to sys.stdout by default.\n",
      "    Optional keyword arguments:\n",
      "    file:  a file-like object (stream); defaults to the current sys.stdout.\n",
      "    sep:   string inserted between values, default a space.\n",
      "    end:   string appended after the last value, default a newline.\n",
      "    flush: whether to forcibly flush the stream.\n",
      "\n"
     ]
    }
   ],
   "source": [
    "help(print)"
   ]
  },
  {
   "cell_type": "raw",
   "metadata": {},
   "source": [
    "As you can see, print has a file=sys.stdout parameter that you can use to print to a file. Now in code:"
   ]
  },
  {
   "cell_type": "code",
   "execution_count": 4,
   "metadata": {},
   "outputs": [
    {
     "name": "stdout",
     "output_type": "stream",
     "text": [
      "I write this to the file\n"
     ]
    }
   ],
   "source": [
    "file_obj = open(\"my_out_file.txt\", 'w') #'w' makes a file object in write mode\n",
    "print(\"I write this to the file\", file=file_obj)\n",
    "file_obj.close()\n",
    "#Now we read the file:\n",
    "new_file_obj = open(\"my_out_file.txt\", 'r') #'r' = readmode. Without second arguyment, defaults to read.\n",
    "for line in new_file_obj:\n",
    "    print(line, end='')\n",
    "new_file_obj.close()"
   ]
  },
  {
   "cell_type": "markdown",
   "metadata": {},
   "source": [
    "As you can see, the message 'I write this to the file' was written to the file."
   ]
  },
  {
   "cell_type": "markdown",
   "metadata": {},
   "source": [
    "In your own scripts, never open a file object with a hard coded name.\n",
    "Use a command line argument instead:"
   ]
  },
  {
   "cell_type": "code",
   "execution_count": 5,
   "metadata": {
    "collapsed": true
   },
   "outputs": [],
   "source": [
    "import sys\n",
    "file_name = sys.argv[1] #catches filename from terminal\n",
    "#wrong method (not flexible):\n",
    "file_obj = open('new_file.txt') #name of the file should be new_file.txt\n",
    "#preferred method (flexible): \n",
    "#without the #, the following line makes a file object with the name given at the terminal.\n",
    "#file_obj = open(file_name) "
   ]
  },
  {
   "cell_type": "markdown",
   "metadata": {},
   "source": [
    "Now if you would like to write an extra line to the same file you will overwrite the previous text:"
   ]
  },
  {
   "cell_type": "code",
   "execution_count": 6,
   "metadata": {},
   "outputs": [
    {
     "name": "stdout",
     "output_type": "stream",
     "text": [
      "I write this EXTRA LINE to the file\n"
     ]
    }
   ],
   "source": [
    "file_obj = open(\"my_out_file.txt\", 'w') #'w' makes a file object in write mode\n",
    "print(\"I write this EXTRA LINE to the file\", file=file_obj)\n",
    "file_obj.close()\n",
    "#Now we read the file:\n",
    "new_file_obj = open(\"my_out_file.txt\", 'r') #'r' = readmode. Without second arguyment, defaults to read.\n",
    "for line in new_file_obj:\n",
    "    print(line, end='')\n",
    "new_file_obj.close()"
   ]
  },
  {
   "cell_type": "markdown",
   "metadata": {},
   "source": [
    "In order to append to the file, generate a file object in append mode:"
   ]
  },
  {
   "cell_type": "code",
   "execution_count": 7,
   "metadata": {
    "scrolled": true
   },
   "outputs": [
    {
     "name": "stdout",
     "output_type": "stream",
     "text": [
      "I write this EXTRA LINE to the file\n",
      "I write this EXTRA LINE to the file\n"
     ]
    }
   ],
   "source": [
    "file_obj = open(\"my_out_file.txt\", 'a') #'a' makes a file object in append mode\n",
    "print(\"I write this EXTRA LINE to the file\", file=file_obj)\n",
    "file_obj.close()\n",
    "#Now we read the file:\n",
    "new_file_obj = open(\"my_out_file.txt\") \n",
    "for line in new_file_obj:\n",
    "    print(line, end='')\n",
    "new_file_obj.close()"
   ]
  },
  {
   "cell_type": "markdown",
   "metadata": {},
   "source": [
    "As you notice, we have the scentence now twice due to the append mode."
   ]
  },
  {
   "cell_type": "markdown",
   "metadata": {},
   "source": [
    "## Excercise: Calculate GC percentage per sequence and write results to a file."
   ]
  },
  {
   "cell_type": "markdown",
   "metadata": {
    "collapsed": true
   },
   "source": [
    "Now we come to the final excersise: <br>\n",
    "Let's recall what the program should do: <br>\n",
    "- it should catch the name of the input file from the command line\n",
    "- it should catch the name of the output file from the command line\n",
    "- it should calculate the A, T, C, G, GC and AT percentages (use a dict to store the data) for each line of the file.\n",
    "- it should print the results to the terminal\n",
    "- it should write the results to  a file\n",
    "- write your script in functions\n",
    "In order to help you to organise the script, we will supply you with the following template:\n",
    "The input file can be downloaded here: <a href=\"L8_sources/dna.txt\">dna.txt</a>\n"
   ]
  },
  {
   "cell_type": "code",
   "execution_count": 8,
   "metadata": {
    "collapsed": true
   },
   "outputs": [],
   "source": [
    "#!/usr/bin/env python3\n",
    "#template for GC calculator:\n",
    "\n",
    "#imports\n",
    "import sys\n",
    "\n",
    "\n",
    "def calc_gc(seq):\n",
    "    #calculates the percentage of each base, the GC and AT percentage. \n",
    "    # Returns a dict with the percentages\n",
    "    pass\n",
    "\n",
    "\n",
    "def print_to_terminal(seq, percentages):\n",
    "    #print sequence and percentage to terminal\n",
    "    pass\n",
    "\n",
    "\n",
    "def print_to_file(seq, percentages, output_file_name):\n",
    "    #makes file object and prints the result to the file\n",
    "    pass\n",
    "\n",
    "\n",
    "def readfile(input_file_name, output_file_name):\n",
    "    #reads the text file line by line in a for loop.\n",
    "    #each line calls the print_to_terminal function\n",
    "    #and print_to_file function\n",
    "    pass\n",
    "\n",
    "\n",
    "def main():\n",
    "    #main function:\n",
    "    #catch command line arguments\n",
    "    args = sys.argv\n",
    "    #check if file names are given\n",
    "    if len(args) < 3:\n",
    "        print(\"please provide the name of an input and an output file\")\n",
    "        print(\"Program stopping...\")\n",
    "        sys.exit()\n",
    "    input_file_name = args[1]\n",
    "    output_file_name = args[2]\n",
    "    \n",
    "    #call functions\n",
    "    readfile(input_file_name, output_file_name)\n",
    "    return\n",
    "    \n",
    "#call the main function\n",
    "main()"
   ]
  },
  {
   "cell_type": "markdown",
   "metadata": {},
   "source": [
    "Use the above template to finish the script. The script should give the following output (terminal and write to file):"
   ]
  },
  {
   "cell_type": "markdown",
   "metadata": {},
   "source": [
    "Original seq: ATCGAGACGGATGAGGAGAGAGAGCAGAGATGAGACAGAGATGGGAGAGA <br>\n",
    "A: 40.0 <br>\n",
    "T: 8.0 <br>\n",
    "C: 8.0 <br>\n",
    "G: 44.0 <br>\n",
    "GC: 52.0 <br>\n",
    "AT: 48.0 <br>\n",
    "<br>\n",
    "Original seq: GACAGGATAGAGAGAGAGAGACAGAGTG <br>\n",
    "A: 42.857142857142854 <br>\n",
    "T: 7.142857142857142 <br>\n",
    "C: 7.142857142857142 <br>\n",
    "G: 42.857142857142854 <br>\n",
    "GC: 50.0 <br>\n",
    "AT: 50.0 <br>\n",
    "...Truncated to save space..."
   ]
  },
  {
   "cell_type": "markdown",
   "metadata": {},
   "source": [
    "## Solutions"
   ]
  },
  {
   "cell_type": "markdown",
   "metadata": {},
   "source": [
    "<p><a href=\"L8_solutions/04_calc_GC_solution.py\">04_calc_GC_solution.py</a></p>"
   ]
  }
 ],
 "metadata": {
  "kernelspec": {
   "display_name": "Python 3",
   "language": "python",
   "name": "python3"
  },
  "language_info": {
   "codemirror_mode": {
    "name": "ipython",
    "version": 3
   },
   "file_extension": ".py",
   "mimetype": "text/x-python",
   "name": "python",
   "nbconvert_exporter": "python",
   "pygments_lexer": "ipython3",
   "version": "3.6.0"
  }
 },
 "nbformat": 4,
 "nbformat_minor": 2
}
