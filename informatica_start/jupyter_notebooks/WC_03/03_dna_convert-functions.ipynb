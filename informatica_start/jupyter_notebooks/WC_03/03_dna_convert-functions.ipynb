{
 "cells": [
  {
   "cell_type": "markdown",
   "metadata": {},
   "source": [
    "# BioInformatics exercises for python (Informatics I)\n",
    "##### I.   Use flow control to check user input\n",
    "##### II.  Program in functions"
   ]
  },
  {
   "cell_type": "markdown",
   "metadata": {},
   "source": [
    "## Introduction"
   ]
  },
  {
   "cell_type": "markdown",
   "metadata": {},
   "source": [
    "Author: Jurre Hageman\n",
    "Date: 2017-09-18"
   ]
  },
  {
   "cell_type": "markdown",
   "metadata": {},
   "source": [
    "This lesson is about flow control and functions.\n",
    "\n",
    "For this lesson we will use the previous excersise:\n",
    "We will write a small program that converts a DNA sequence in the reverse, the complementary strand and the reverse complementary strand.\n",
    "\n",
    "We will rewrite the previous programm and use functions.\n",
    "In addition, we will check the user input: we will check if only valid bases (ATCG) are passed as argument on the command-line by the user.\n",
    "\n",
    "Description about the programm (this is still the same): <br>\n",
    "DNA is a double stranded helix and can be depicted as follows (strongly simplified):<br>\n",
    "GACCATGGAC<br>\n",
    "CTGGTACCTG<br>\n",
    "\n",
    "Bioinformatitions often store only one strand in databases. This saves considerable space.\n",
    "When one strand is given, the other strand can be generated as a T always pairs an A and a C always pairs a G.<br>\n",
    "If we look at the strand: <br>\n",
    "GACCATGGAC<br>\n",
    "Than we can generate the following: <br>\n",
    "reverse strand: CAGGTACCAG<br>\n",
    "complementary strand: CTGGTACCTG<br>\n",
    "reverse complementary strand: GTCCATGGTC <br>\n",
    "\n",
    "Online tools excist to convert DNA such as [this tool](http://arep.med.harvard.edu/labgc/adnan/projects/Utilities/revcomp.html).\n",
    "\n",
    "Your task is to write a similar DNA conversion tool. However, for simplicity, we will code it as a command line tool.\n"
   ]
  },
  {
   "cell_type": "markdown",
   "metadata": {},
   "source": [
    "Let's first think of what the program should do:\n",
    "- it should first check if the command-line argument only contains valid bases\n",
    "- it should catch a DNA string\n",
    "- it should reverse the string\n",
    "- it should complement the string\n",
    "- it should reverse-complement the string"
   ]
  },
  {
   "cell_type": "markdown",
   "metadata": {},
   "source": [
    "## Flow control"
   ]
  },
  {
   "cell_type": "markdown",
   "metadata": {},
   "source": [
    "\n",
    "Open IDLE3.\n",
    "First generate a variable dna and assign it to the string \"atcg\"\n"
   ]
  },
  {
   "cell_type": "code",
   "execution_count": 1,
   "metadata": {},
   "outputs": [
    {
     "name": "stdout",
     "output_type": "stream",
     "text": [
      "ATCG\n"
     ]
    }
   ],
   "source": [
    "valid_dna = \"ATCG\"\n",
    "print(valid_dna)"
   ]
  },
  {
   "cell_type": "raw",
   "metadata": {},
   "source": [
    "Generate a second variable and call it input_dna. Make it upper using the str.upper() method:"
   ]
  },
  {
   "cell_type": "code",
   "execution_count": 2,
   "metadata": {},
   "outputs": [
    {
     "name": "stdout",
     "output_type": "stream",
     "text": [
      "ATTACGGA\n"
     ]
    }
   ],
   "source": [
    "input_dna = 'attacgga'\n",
    "input_dna = input_dna.upper() #Note that the old variable gets overwritten. This is OK in this situation.\n",
    "print(input_dna)"
   ]
  },
  {
   "cell_type": "markdown",
   "metadata": {},
   "source": [
    "Now we will check if the dna sequence contains only valid bases. We can check if a single letter is a member of a collection using the \"in\" keyword. This works for any collection including strings (collection of characters)."
   ]
  },
  {
   "cell_type": "code",
   "execution_count": 3,
   "metadata": {},
   "outputs": [
    {
     "name": "stdout",
     "output_type": "stream",
     "text": [
      "True\n",
      "False\n"
     ]
    }
   ],
   "source": [
    "valid_dna = \"ATCG\"\n",
    "print(\"A\" in valid_dna)\n",
    "print(\"Q\" in valid_dna)"
   ]
  },
  {
   "cell_type": "raw",
   "metadata": {},
   "source": [
    "In order to check if all bases are valids we need a for loop:"
   ]
  },
  {
   "cell_type": "code",
   "execution_count": 4,
   "metadata": {},
   "outputs": [
    {
     "name": "stdout",
     "output_type": "stream",
     "text": [
      "A\n",
      "T\n",
      "C\n",
      "G\n",
      "G\n",
      "A\n"
     ]
    }
   ],
   "source": [
    "valid_dna = \"ATCG\"\n",
    "dna = \"atcgga\"\n",
    "dna = dna.upper()\n",
    "#The for loop will loop through each base\n",
    "for base in dna:\n",
    "    print(base)"
   ]
  },
  {
   "cell_type": "markdown",
   "metadata": {},
   "source": [
    "As you can see, the for loop loops through the string. Each loop the placeholder 'base' will be overwritten with the value of the following base of bases. "
   ]
  },
  {
   "cell_type": "markdown",
   "metadata": {},
   "source": [
    "Now we can check if each base is a valid DNA character using an \"if\" statement.\n",
    "As soon as we find an invalid character we will break out of the loop.\n",
    "It is no longer required to finish the loop as we do not want any further processing to take place.\n",
    "We can end the loop by using the \"break\" statement."
   ]
  },
  {
   "cell_type": "code",
   "execution_count": 5,
   "metadata": {},
   "outputs": [
    {
     "name": "stdout",
     "output_type": "stream",
     "text": [
      "invalid character: Q\n"
     ]
    }
   ],
   "source": [
    "valid_dna = \"ATCG\"\n",
    "dna = \"atcQga\"\n",
    "dna = dna.upper()\n",
    "#The for loop will loop through each base\n",
    "for base in dna:\n",
    "    if not base in valid_dna:\n",
    "        print(\"invalid character:\", base)\n",
    "        break"
   ]
  },
  {
   "cell_type": "markdown",
   "metadata": {},
   "source": [
    "As you can see, the for loop ends directly after the Q."
   ]
  },
  {
   "cell_type": "markdown",
   "metadata": {},
   "source": [
    "## Functions"
   ]
  },
  {
   "cell_type": "markdown",
   "metadata": {},
   "source": [
    "Now that we have code that checks if characters are valid DNA bases we can organise the code in functions.\n",
    "A function is a block of organized and reusable code. A function is used to perform a single action. \n",
    "Do not write long functions that do a lot of different things. A function should do a single task.\n",
    "In this way, functions provide a high degree of code reusing.\n",
    "Below is the simples function possible:"
   ]
  },
  {
   "cell_type": "code",
   "execution_count": 6,
   "metadata": {
    "collapsed": true
   },
   "outputs": [],
   "source": [
    "def is_valid_dna():\n",
    "    pass"
   ]
  },
  {
   "cell_type": "markdown",
   "metadata": {},
   "source": [
    "The above function has a function name (is_valid_dna) and accepts no arguments(). Pass means that it will not generate an error even if there is no function body. In other words: it does nothing.\n",
    "This is how we can call the function:"
   ]
  },
  {
   "cell_type": "code",
   "execution_count": 7,
   "metadata": {},
   "outputs": [
    {
     "name": "stdout",
     "output_type": "stream",
     "text": [
      "None\n"
     ]
    }
   ],
   "source": [
    "#declare\n",
    "def is_valid_dna():\n",
    "    pass\n",
    "\n",
    "#call\n",
    "print(is_valid_dna())"
   ]
  },
  {
   "cell_type": "markdown",
   "metadata": {},
   "source": [
    "You can see that it does nothing (yet). It only returns None."
   ]
  },
  {
   "cell_type": "markdown",
   "metadata": {},
   "source": [
    "Now we will add functinality:"
   ]
  },
  {
   "cell_type": "code",
   "execution_count": 8,
   "metadata": {},
   "outputs": [
    {
     "name": "stdout",
     "output_type": "stream",
     "text": [
      "Not a valid base Q\n"
     ]
    }
   ],
   "source": [
    "dna_seq = \"ATCGQACT\"\n",
    "#declare\n",
    "def is_valid_dna(seq):\n",
    "    valid_dna = \"ATCG\"\n",
    "    for base in seq:\n",
    "        if not base in valid_dna:\n",
    "            print(\"Not a valid base\", base)\n",
    "            break\n",
    "\n",
    "#call \n",
    "is_valid_dna(dna_seq)\n"
   ]
  },
  {
   "cell_type": "markdown",
   "metadata": {},
   "source": [
    "is_valid_dna(dna_seq) calls the function. <br>\n",
    "dna_seq is passed as an argument in the is_valid_dna() function. <br>\n",
    "The function header: \"def is_valid_dna(seq):\" contains the parameter \"seq\"<br>\n",
    "The argument dna_seq is passed to the is_valid_dna() function and becomes the parameter seq.<br>\n",
    "Note that the names do need to match. The match is by position. Therefore, we call these positional arguments. <br>\n",
    "If you have more arguments, you can seperate them by comma's. <br>\n",
    "Example: <br>\n",
    "print(\"Hello\", \"World\") <br>\n",
    "The above code will call the print function with two positional arguments. <br>\n",
    "\n",
    "Note that valid_dna is defined within the function. This way, the variable valid_dna is scoped within the function. This ensures that the variable is only accesible within the function. The next code will show you:"
   ]
  },
  {
   "cell_type": "code",
   "execution_count": 9,
   "metadata": {},
   "outputs": [
    {
     "name": "stdout",
     "output_type": "stream",
     "text": [
      "within my_func hello\n"
     ]
    }
   ],
   "source": [
    "def my_func():\n",
    "    mssg = \"hello\"\n",
    "    return mssg\n",
    "\n",
    "print(\"within my_func\", my_func())\n",
    "#print(\"outside my_func\", mssg) #This line without the starting # will raise an error.\n",
    "    "
   ]
  },
  {
   "cell_type": "markdown",
   "metadata": {},
   "source": [
    "Thus, the variable mssg is only accesible within the function definition. Imagine functions as seperate rooms with doors. Objects within a room are only visible within that particular room. Not from other rooms. They can be passed from room to room via doors. This is exactly what the return statement does. It hands the variable mssg back to the function call."
   ]
  },
  {
   "cell_type": "markdown",
   "metadata": {},
   "source": [
    "The is_valid_dna() function prints a message when a non-valid character is encountered. Also note that the break statement will stop the loop as soon as a non-valid character is encountered. There is no need to loop further as soon as a non-valid base is encountered. <br>\n",
    "<br>\n",
    "The function works but it is better to return a boolean (False) when a non-valid base is encountered. When the whole loop is finished and a non-valid base was not encountered, we can safely return the boolean True. In code:"
   ]
  },
  {
   "cell_type": "code",
   "execution_count": 10,
   "metadata": {},
   "outputs": [
    {
     "name": "stdout",
     "output_type": "stream",
     "text": [
      "False\n",
      "True\n"
     ]
    }
   ],
   "source": [
    "dna_seq1 = \"ATCGQACT\"\n",
    "dna_seq2 = \"ATCGGACT\"\n",
    "#declare\n",
    "def is_valid_dna(seq):\n",
    "    valid_dna = \"ATCG\"\n",
    "    for base in seq:\n",
    "        if not base in valid_dna:\n",
    "            #the break statement is not needed anymore as return automatically breaks the loop.\n",
    "            return False\n",
    "    #the loop is finished so we are sure no non-valid bases were encountered.\n",
    "    #we can return True now\n",
    "    return True\n",
    "            \n",
    "\n",
    "#call \n",
    "print(is_valid_dna(dna_seq1))\n",
    "print(is_valid_dna(dna_seq2))"
   ]
  },
  {
   "cell_type": "markdown",
   "metadata": {},
   "source": [
    "The above function returns a boolean. The code is organised in a function. There still is some code outside a function. We can add another level of organisation: a main function that calls all the other functions. Study the code below:"
   ]
  },
  {
   "cell_type": "code",
   "execution_count": 11,
   "metadata": {},
   "outputs": [
    {
     "name": "stdout",
     "output_type": "stream",
     "text": [
      "dna_seq1 is not valid\n",
      "dna_seq2 is valid\n"
     ]
    }
   ],
   "source": [
    "def is_valid_dna(seq):\n",
    "    #checks if all letters of seq are valid bases\n",
    "    valid_dna = \"ATCG\"\n",
    "    for base in seq:\n",
    "        if not base in valid_dna:\n",
    "            #the break statement is not needed anymore as return automatically breaks the loop.\n",
    "            return False\n",
    "    #the loop is finished so we are sure no non-valid bases were encountered.\n",
    "    #we can return True now\n",
    "    return True\n",
    "\n",
    "def main():\n",
    "    #main function calls other functions\n",
    "    dna_seq1 = \"ATCGQACT\"\n",
    "    dna_seq2 = \"ATCGGACT\"\n",
    "    #the following line is a shorthand for:\n",
    "    #if is_valid_dna(dna_seq1) == True:\n",
    "    if is_valid_dna(dna_seq1):\n",
    "        print(\"dna_seq1 is valid\")\n",
    "    else:\n",
    "        print(\"dna_seq1 is not valid\")\n",
    "    if is_valid_dna(dna_seq2):\n",
    "        print(\"dna_seq2 is valid\")\n",
    "    else:\n",
    "        print(\"dna_seq2 is not valid\")\n",
    "\n",
    "#call the main function:\n",
    "main()"
   ]
  },
  {
   "cell_type": "markdown",
   "metadata": {},
   "source": [
    "All code above is organised in functions. The only line which is not organised in a function is the call to the main function: <br>\n",
    "main()"
   ]
  },
  {
   "cell_type": "markdown",
   "metadata": {},
   "source": [
    "## Excercise: DNA converter organised in functions"
   ]
  },
  {
   "cell_type": "markdown",
   "metadata": {
    "collapsed": true
   },
   "source": [
    "Now we come to the final excersise: <br>\n",
    "Use the code from the previous excersise. Organise all code in functions.\n",
    "Code a program that will catch a DNA sequence from the command line. Remember that you can catch arguments using the sys module and using the sys.argv property. This yields a list with the command line arguments:"
   ]
  },
  {
   "cell_type": "code",
   "execution_count": 12,
   "metadata": {
    "collapsed": true
   },
   "outputs": [],
   "source": [
    "import sys\n",
    "\n",
    "def main():\n",
    "    args = sys.argv #this will provide you with a list of arguments. Use indexing to select the correct item.\n",
    "\n",
    "main()"
   ]
  },
  {
   "cell_type": "markdown",
   "metadata": {},
   "source": [
    "We can also check if an argument is given by the user:\n",
    "The length of the list will be smaler than 2.\n",
    "sys.exit() will cause the script to stop.\n",
    "In code:"
   ]
  },
  {
   "cell_type": "code",
   "execution_count": 13,
   "metadata": {
    "collapsed": true
   },
   "outputs": [],
   "source": [
    "if len(sys.argv) < 2:\n",
    "    sys.exit()"
   ]
  },
  {
   "cell_type": "markdown",
   "metadata": {},
   "source": [
    "Now organise your code in the following functions:\n",
    "- The function is_valid_dna() returns True if the DNA sequence only contains valid bases, else returns False\n",
    "- The main() function catches the original sequence as command line argument.\n",
    "- The reverse_dna() function returns the reverse dna sequence.\n",
    "- The complement_dna() function returns the complementary dna.\n",
    "- The reverse_complement_dna() function returns the reverse-complement dna sequence by calling the reverse_dna() function and the complement_dna() function. Do NOT repeat code from the reverse_dna() function or the complement_dna() function. \n",
    "Bonus: stop the script if no sequence is provided or if non-valid characters are given. Hint: you can stop a script using the sys.exit() function."
   ]
  },
  {
   "cell_type": "markdown",
   "metadata": {},
   "source": [
    "## Solutions"
   ]
  },
  {
   "cell_type": "markdown",
   "metadata": {},
   "source": [
    "Needs to be updated!\n",
    "\n",
    "<p><a href=\"L2_solutions/excercise01.py\">excercise01.py</a></p>\n",
    "\n"
   ]
  }
 ],
 "metadata": {
  "kernelspec": {
   "display_name": "Python 3",
   "language": "python",
   "name": "python3"
  },
  "language_info": {
   "codemirror_mode": {
    "name": "ipython",
    "version": 3
   },
   "file_extension": ".py",
   "mimetype": "text/x-python",
   "name": "python",
   "nbconvert_exporter": "python",
   "pygments_lexer": "ipython3",
   "version": "3.6.0"
  }
 },
 "nbformat": 4,
 "nbformat_minor": 2
}
